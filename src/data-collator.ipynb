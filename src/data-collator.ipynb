{
 "cells": [
  {
   "cell_type": "code",
   "execution_count": 1,
   "metadata": {
    "executionInfo": {
     "elapsed": 591,
     "status": "ok",
     "timestamp": 1700964440488,
     "user": {
      "displayName": "Kishore S",
      "userId": "00960257451938731255"
     },
     "user_tz": 300
    },
    "id": "PE6NMOHFluYv"
   },
   "outputs": [],
   "source": [
    "# Importing the required libaries\n",
    "\n",
    "import os\n",
    "from typing import List\n",
    "from datetime import datetime\n",
    "from google.colab import drive\n",
    "\n",
    "import sqlite3\n",
    "import pandas as pd\n",
    "from tqdm import tqdm\n",
    "import yfinance as yf"
   ]
  },
  {
   "cell_type": "code",
   "execution_count": 2,
   "metadata": {
    "executionInfo": {
     "elapsed": 5,
     "status": "ok",
     "timestamp": 1700964441273,
     "user": {
      "displayName": "Kishore S",
      "userId": "00960257451938731255"
     },
     "user_tz": 300
    },
    "id": "G7ri2_oQmIfs"
   },
   "outputs": [],
   "source": [
    "# Configuring libraries\n",
    "\n",
    "tqdm.pandas()"
   ]
  },
  {
   "cell_type": "code",
   "execution_count": 3,
   "metadata": {
    "colab": {
     "base_uri": "https://localhost:8080/"
    },
    "executionInfo": {
     "elapsed": 794,
     "status": "ok",
     "timestamp": 1700964442843,
     "user": {
      "displayName": "Kishore S",
      "userId": "00960257451938731255"
     },
     "user_tz": 300
    },
    "id": "unMkR2BXmKUi",
    "outputId": "15a90e23-a168-4f19-bd53-97c32e53462f"
   },
   "outputs": [
    {
     "name": "stdout",
     "output_type": "stream",
     "text": [
      "Drive already mounted at /content/MyDrive; to attempt to forcibly remount, call drive.mount(\"/content/MyDrive\", force_remount=True).\n"
     ]
    }
   ],
   "source": [
    "# Mounting Google Drive to Colab runtime\n",
    "\n",
    "drive.mount(\"/content/MyDrive\")"
   ]
  },
  {
   "cell_type": "code",
   "execution_count": 4,
   "metadata": {
    "colab": {
     "base_uri": "https://localhost:8080/"
    },
    "executionInfo": {
     "elapsed": 147,
     "status": "ok",
     "timestamp": 1700964443481,
     "user": {
      "displayName": "Kishore S",
      "userId": "00960257451938731255"
     },
     "user_tz": 300
    },
    "id": "busMLbsSmL9e",
    "outputId": "4275e92a-d223-45c9-d3aa-7a51b077b154"
   },
   "outputs": [
    {
     "name": "stdout",
     "output_type": "stream",
     "text": [
      "Current Working Directory: /content\n",
      "Changing the directory to the project root directory...\n",
      "Current Working Directory: /content/MyDrive/MyDrive/FAI - Project\n"
     ]
    }
   ],
   "source": [
    "print(f\"Current Working Directory: {os.getcwd()}\")\n",
    "\n",
    "print(\"Changing the directory to the project root directory...\")\n",
    "os.chdir(\"/content/MyDrive/MyDrive/FAI - Project\")\n",
    "\n",
    "print(f\"Current Working Directory: {os.getcwd()}\")"
   ]
  },
  {
   "cell_type": "code",
   "execution_count": null,
   "metadata": {},
   "outputs": [],
   "source": [
    "from typing import List\n",
    "from datetime import datetime\n",
    "import sqlite3\n",
    "import pandas as pd\n",
    "import yfinance as yf\n",
    "from tqdm import tqdm\n",
    "\n",
    "class DataCollator:\n",
    "    \"\"\"\n",
    "    A class for collecting and merging historical stock data and news headlines for a list of tickers.\n",
    "    \"\"\"\n",
    "\n",
    "    def __init__(self, tickers: List[str], start_date: str,\n",
    "                 end_date: str, news_db_url: str):\n",
    "        \"\"\"\n",
    "        Constructor to initialize DataCollator object.\n",
    "\n",
    "        Args:\n",
    "            tickers (List[str]): List of stock tickers.\n",
    "            start_date (str): Start date for historical data retrieval.\n",
    "            end_date (str): End date for historical data retrieval.\n",
    "            news_db_url (str): URL of the SQLite database for news data.\n",
    "        \"\"\"\n",
    "        self.tickers = tickers\n",
    "        self.start_date = start_date\n",
    "        self.end_date = end_date\n",
    "        self.news_db_url = news_db_url\n",
    "\n",
    "    def get_historical_data(self):\n",
    "        \"\"\"\n",
    "        Retrieves historical stock data for the specified tickers.\n",
    "\n",
    "        Returns:\n",
    "            pd.DataFrame: DataFrame containing historical stock data.\n",
    "        \"\"\"\n",
    "        historical_df = pd.DataFrame()\n",
    "\n",
    "        for ticker in self.tickers:\n",
    "            ticker_df = yf.Ticker(ticker).history(\n",
    "                start=self.start_date, end=self.end_date\n",
    "            )\n",
    "            ticker_df[\"Ticker\"] = ticker\n",
    "            ticker_df.index = pd.to_datetime(ticker_df.index.strftime(\"%Y-%m-%d\"))\n",
    "\n",
    "            historical_df = pd.concat(objs=[historical_df, ticker_df], axis=0)\n",
    "\n",
    "        return historical_df\n",
    "\n",
    "    def get_news_headlines(self, ticker: str):\n",
    "        \"\"\"\n",
    "        Retrieves news headlines for a specific stock ticker.\n",
    "\n",
    "        Args:\n",
    "            ticker (str): Stock ticker.\n",
    "\n",
    "        Returns:\n",
    "            pd.DataFrame: DataFrame containing news headlines.\n",
    "        \"\"\"\n",
    "        connection = sqlite3.connect(self.news_db_url)\n",
    "\n",
    "        ticker_news_df = pd.read_sql_query(\n",
    "            \"SELECT * from {ticker}_\".format(ticker=ticker), connection\n",
    "        )\n",
    "\n",
    "        # Additional processing for date and filtering\n",
    "        ticker_news_df[\"date\"] = ticker_news_df[\"datetime\"].progress_apply(\n",
    "            self.convert_unix_timestamp_to_datetime\n",
    "        )\n",
    "        ticker_news_df[\"date\"] = pd.to_datetime(ticker_news_df[\"date\"])\n",
    "        ticker_news_df.sort_values(by=\"date\")\n",
    "\n",
    "        ticker_news_df = ticker_news_df[\n",
    "            (ticker_news_df[\"date\"] >= self.start_date) &\n",
    "            (ticker_news_df[\"date\"] <= self.end_date)\n",
    "        ]\n",
    "\n",
    "        # Drop unnecessary columns and group headlines by date\n",
    "        ticker_news_df.drop(\n",
    "            columns=[\"category\", \"datetime\", \"id\",\n",
    "                     \"image\", \"related\", \"source\", \"url\"],\n",
    "            inplace=True\n",
    "        )\n",
    "        ticker_news_df = ticker_news_df.groupby(by=\"date\")[\"headline\"].apply(\" | \".join).reset_index()\n",
    "        ticker_news_df.columns = [\"Date\", \"Headlines\"]\n",
    "\n",
    "        return ticker_news_df\n",
    "\n",
    "    @staticmethod\n",
    "    def convert_unix_timestamp_to_datetime(time_stamp: str) -> datetime:\n",
    "        \"\"\"\n",
    "        Converts Unix timestamp to datetime format.\n",
    "\n",
    "        Args:\n",
    "            time_stamp (str): Unix timestamp.\n",
    "\n",
    "        Returns:\n",
    "            datetime: Datetime object.\n",
    "        \"\"\"\n",
    "        return datetime.utcfromtimestamp(time_stamp).strftime(\"%Y-%m-%d\")\n",
    "\n",
    "    def merge_hist_and_news(self) -> pd.DataFrame:\n",
    "        \"\"\"\n",
    "        Merges historical stock data and news headlines.\n",
    "\n",
    "        Returns:\n",
    "            pd.DataFrame: Merged DataFrame.\n",
    "        \"\"\"\n",
    "        \n",
    "        historical_df = self.get_historical_data()\n",
    "\n",
    "        result_df = pd.DataFrame()\n",
    "        for ticker in self.tickers:\n",
    "            ticker_df = historical_df[historical_df.Ticker == ticker]\n",
    "\n",
    "            # Call to get_news_headlines method\n",
    "            ticker_news = collator.get_news_headlines(ticker=ticker)\n",
    "\n",
    "            # Merge historical data with news headlines\n",
    "            ticker_df = ticker_df.merge(right=ticker_news, how=\"left\", on=\"Date\")\n",
    "\n",
    "            result_df = pd.concat([result_df, ticker_df], axis=0)\n",
    "\n",
    "        return result_df\n",
    "\n",
    "    def get_tickers_data(self):\n",
    "        \"\"\"\n",
    "        Retrieves and returns merged data for all specified tickers.\n",
    "\n",
    "        Returns:\n",
    "            pd.DataFrame: Merged DataFrame for all tickers.\n",
    "        \"\"\"\n",
    "        \n",
    "        return self.merge_hist_and_news()"
   ]
  },
  {
   "cell_type": "code",
   "execution_count": 14,
   "metadata": {
    "executionInfo": {
     "elapsed": 164,
     "status": "ok",
     "timestamp": 1700964540526,
     "user": {
      "displayName": "Kishore S",
      "userId": "00960257451938731255"
     },
     "user_tz": 300
    },
    "id": "5dMmGBjPSOEo"
   },
   "outputs": [],
   "source": [
    "start_date = \"2022-11-26\"\n",
    "end_date = \"2023-11-15\"\n",
    "\n",
    "DATA_DIR = \"data\"\n",
    "NEWS_DATA_DB = os.path.join(DATA_DIR, \"financial_data.db\")\n",
    "\n",
    "tickers = [\"AAPL\", \"ABNB\", \"AMZN\", \"COIN\", \"DUOL\", \"GOOG\", \"META\", \"MRNA\", \"NVDA\", \"PLTR\", \"TSLA\", \"WEWKQ\", \"ZI\"]\n",
    "\n",
    "collator = DataCollator(tickers=tickers, start_date=start_date, end_date=end_date, news_db_url=NEWS_DATA_DB)"
   ]
  },
  {
   "cell_type": "code",
   "execution_count": 16,
   "metadata": {
    "colab": {
     "base_uri": "https://localhost:8080/"
    },
    "executionInfo": {
     "elapsed": 4554,
     "status": "ok",
     "timestamp": 1700964581581,
     "user": {
      "displayName": "Kishore S",
      "userId": "00960257451938731255"
     },
     "user_tz": 300
    },
    "id": "S4y3DEySYdqs",
    "outputId": "d71422c2-0146-489b-9b36-38968f32d3ce"
   },
   "outputs": [
    {
     "name": "stderr",
     "output_type": "stream",
     "text": [
      "100%|██████████| 13107/13107 [00:00<00:00, 236151.89it/s]\n",
      "100%|██████████| 2251/2251 [00:00<00:00, 148711.23it/s]\n",
      "100%|██████████| 13147/13147 [00:00<00:00, 232273.87it/s]\n",
      "100%|██████████| 4322/4322 [00:00<00:00, 198824.04it/s]\n",
      "100%|██████████| 421/421 [00:00<00:00, 88290.10it/s]\n",
      "100%|██████████| 11201/11201 [00:00<00:00, 205900.86it/s]\n",
      "100%|██████████| 9576/9576 [00:00<00:00, 222780.52it/s]\n",
      "100%|██████████| 2501/2501 [00:00<00:00, 184011.69it/s]\n",
      "100%|██████████| 10916/10916 [00:00<00:00, 204091.28it/s]\n",
      "100%|██████████| 2324/2324 [00:00<00:00, 179380.98it/s]\n",
      "100%|██████████| 14960/14960 [00:00<00:00, 235736.86it/s]\n",
      "100%|██████████| 70/70 [00:00<00:00, 71331.70it/s]\n",
      "100%|██████████| 448/448 [00:00<00:00, 93952.41it/s]\n"
     ]
    }
   ],
   "source": [
    "tickers_df = collator.get_tickers_data()"
   ]
  },
  {
   "cell_type": "code",
   "execution_count": 21,
   "metadata": {
    "colab": {
     "base_uri": "https://localhost:8080/",
     "height": 206
    },
    "executionInfo": {
     "elapsed": 24,
     "status": "ok",
     "timestamp": 1700964783344,
     "user": {
      "displayName": "Kishore S",
      "userId": "00960257451938731255"
     },
     "user_tz": 300
    },
    "id": "TvX9Vl8OZsty",
    "outputId": "9165e616-1773-445b-d5f8-e6807545f4d6"
   },
   "outputs": [
    {
     "data": {
      "text/html": [
       "\n",
       "  <div id=\"df-42471842-79a4-4356-8260-e9b71aab8d6b\" class=\"colab-df-container\">\n",
       "    <div>\n",
       "<style scoped>\n",
       "    .dataframe tbody tr th:only-of-type {\n",
       "        vertical-align: middle;\n",
       "    }\n",
       "\n",
       "    .dataframe tbody tr th {\n",
       "        vertical-align: top;\n",
       "    }\n",
       "\n",
       "    .dataframe thead th {\n",
       "        text-align: right;\n",
       "    }\n",
       "</style>\n",
       "<table border=\"1\" class=\"dataframe\">\n",
       "  <thead>\n",
       "    <tr style=\"text-align: right;\">\n",
       "      <th></th>\n",
       "      <th>Date</th>\n",
       "      <th>Open</th>\n",
       "      <th>High</th>\n",
       "      <th>Low</th>\n",
       "      <th>Close</th>\n",
       "      <th>Volume</th>\n",
       "      <th>Dividends</th>\n",
       "      <th>Stock Splits</th>\n",
       "      <th>Ticker</th>\n",
       "      <th>Headlines</th>\n",
       "    </tr>\n",
       "  </thead>\n",
       "  <tbody>\n",
       "    <tr>\n",
       "      <th>0</th>\n",
       "      <td>2022-11-28</td>\n",
       "      <td>144.333235</td>\n",
       "      <td>145.824897</td>\n",
       "      <td>142.583023</td>\n",
       "      <td>143.418350</td>\n",
       "      <td>69246000</td>\n",
       "      <td>0.0</td>\n",
       "      <td>0.0</td>\n",
       "      <td>AAPL</td>\n",
       "      <td>NaN</td>\n",
       "    </tr>\n",
       "    <tr>\n",
       "      <th>1</th>\n",
       "      <td>2022-11-29</td>\n",
       "      <td>143.487983</td>\n",
       "      <td>144.005097</td>\n",
       "      <td>139.569896</td>\n",
       "      <td>140.385330</td>\n",
       "      <td>83763800</td>\n",
       "      <td>0.0</td>\n",
       "      <td>0.0</td>\n",
       "      <td>AAPL</td>\n",
       "      <td>Stock Market Rally Awaits Fed Chief Powell, Ke...</td>\n",
       "    </tr>\n",
       "    <tr>\n",
       "      <th>2</th>\n",
       "      <td>2022-11-30</td>\n",
       "      <td>140.614017</td>\n",
       "      <td>147.893336</td>\n",
       "      <td>139.768751</td>\n",
       "      <td>147.207169</td>\n",
       "      <td>111380900</td>\n",
       "      <td>0.0</td>\n",
       "      <td>0.0</td>\n",
       "      <td>AAPL</td>\n",
       "      <td>Elon Musk says Apple never considered removing...</td>\n",
       "    </tr>\n",
       "    <tr>\n",
       "      <th>3</th>\n",
       "      <td>2022-12-01</td>\n",
       "      <td>147.386191</td>\n",
       "      <td>148.301076</td>\n",
       "      <td>145.795079</td>\n",
       "      <td>147.485626</td>\n",
       "      <td>71250400</td>\n",
       "      <td>0.0</td>\n",
       "      <td>0.0</td>\n",
       "      <td>AAPL</td>\n",
       "      <td>Coinbase says Apple forced it to remove NFT wa...</td>\n",
       "    </tr>\n",
       "    <tr>\n",
       "      <th>4</th>\n",
       "      <td>2022-12-02</td>\n",
       "      <td>145.148696</td>\n",
       "      <td>147.177350</td>\n",
       "      <td>144.840406</td>\n",
       "      <td>146.988403</td>\n",
       "      <td>65447400</td>\n",
       "      <td>0.0</td>\n",
       "      <td>0.0</td>\n",
       "      <td>AAPL</td>\n",
       "      <td>Weekly Roundup | Apple (AAPL) Dips More Than B...</td>\n",
       "    </tr>\n",
       "  </tbody>\n",
       "</table>\n",
       "</div>\n",
       "    <div class=\"colab-df-buttons\">\n",
       "\n",
       "  <div class=\"colab-df-container\">\n",
       "    <button class=\"colab-df-convert\" onclick=\"convertToInteractive('df-42471842-79a4-4356-8260-e9b71aab8d6b')\"\n",
       "            title=\"Convert this dataframe to an interactive table.\"\n",
       "            style=\"display:none;\">\n",
       "\n",
       "  <svg xmlns=\"http://www.w3.org/2000/svg\" height=\"24px\" viewBox=\"0 -960 960 960\">\n",
       "    <path d=\"M120-120v-720h720v720H120Zm60-500h600v-160H180v160Zm220 220h160v-160H400v160Zm0 220h160v-160H400v160ZM180-400h160v-160H180v160Zm440 0h160v-160H620v160ZM180-180h160v-160H180v160Zm440 0h160v-160H620v160Z\"/>\n",
       "  </svg>\n",
       "    </button>\n",
       "\n",
       "  <style>\n",
       "    .colab-df-container {\n",
       "      display:flex;\n",
       "      gap: 12px;\n",
       "    }\n",
       "\n",
       "    .colab-df-convert {\n",
       "      background-color: #E8F0FE;\n",
       "      border: none;\n",
       "      border-radius: 50%;\n",
       "      cursor: pointer;\n",
       "      display: none;\n",
       "      fill: #1967D2;\n",
       "      height: 32px;\n",
       "      padding: 0 0 0 0;\n",
       "      width: 32px;\n",
       "    }\n",
       "\n",
       "    .colab-df-convert:hover {\n",
       "      background-color: #E2EBFA;\n",
       "      box-shadow: 0px 1px 2px rgba(60, 64, 67, 0.3), 0px 1px 3px 1px rgba(60, 64, 67, 0.15);\n",
       "      fill: #174EA6;\n",
       "    }\n",
       "\n",
       "    .colab-df-buttons div {\n",
       "      margin-bottom: 4px;\n",
       "    }\n",
       "\n",
       "    [theme=dark] .colab-df-convert {\n",
       "      background-color: #3B4455;\n",
       "      fill: #D2E3FC;\n",
       "    }\n",
       "\n",
       "    [theme=dark] .colab-df-convert:hover {\n",
       "      background-color: #434B5C;\n",
       "      box-shadow: 0px 1px 3px 1px rgba(0, 0, 0, 0.15);\n",
       "      filter: drop-shadow(0px 1px 2px rgba(0, 0, 0, 0.3));\n",
       "      fill: #FFFFFF;\n",
       "    }\n",
       "  </style>\n",
       "\n",
       "    <script>\n",
       "      const buttonEl =\n",
       "        document.querySelector('#df-42471842-79a4-4356-8260-e9b71aab8d6b button.colab-df-convert');\n",
       "      buttonEl.style.display =\n",
       "        google.colab.kernel.accessAllowed ? 'block' : 'none';\n",
       "\n",
       "      async function convertToInteractive(key) {\n",
       "        const element = document.querySelector('#df-42471842-79a4-4356-8260-e9b71aab8d6b');\n",
       "        const dataTable =\n",
       "          await google.colab.kernel.invokeFunction('convertToInteractive',\n",
       "                                                    [key], {});\n",
       "        if (!dataTable) return;\n",
       "\n",
       "        const docLinkHtml = 'Like what you see? Visit the ' +\n",
       "          '<a target=\"_blank\" href=https://colab.research.google.com/notebooks/data_table.ipynb>data table notebook</a>'\n",
       "          + ' to learn more about interactive tables.';\n",
       "        element.innerHTML = '';\n",
       "        dataTable['output_type'] = 'display_data';\n",
       "        await google.colab.output.renderOutput(dataTable, element);\n",
       "        const docLink = document.createElement('div');\n",
       "        docLink.innerHTML = docLinkHtml;\n",
       "        element.appendChild(docLink);\n",
       "      }\n",
       "    </script>\n",
       "  </div>\n",
       "\n",
       "\n",
       "<div id=\"df-2c3b0ad2-f595-4c3e-b98b-aa757fa48b08\">\n",
       "  <button class=\"colab-df-quickchart\" onclick=\"quickchart('df-2c3b0ad2-f595-4c3e-b98b-aa757fa48b08')\"\n",
       "            title=\"Suggest charts\"\n",
       "            style=\"display:none;\">\n",
       "\n",
       "<svg xmlns=\"http://www.w3.org/2000/svg\" height=\"24px\"viewBox=\"0 0 24 24\"\n",
       "     width=\"24px\">\n",
       "    <g>\n",
       "        <path d=\"M19 3H5c-1.1 0-2 .9-2 2v14c0 1.1.9 2 2 2h14c1.1 0 2-.9 2-2V5c0-1.1-.9-2-2-2zM9 17H7v-7h2v7zm4 0h-2V7h2v10zm4 0h-2v-4h2v4z\"/>\n",
       "    </g>\n",
       "</svg>\n",
       "  </button>\n",
       "\n",
       "<style>\n",
       "  .colab-df-quickchart {\n",
       "      --bg-color: #E8F0FE;\n",
       "      --fill-color: #1967D2;\n",
       "      --hover-bg-color: #E2EBFA;\n",
       "      --hover-fill-color: #174EA6;\n",
       "      --disabled-fill-color: #AAA;\n",
       "      --disabled-bg-color: #DDD;\n",
       "  }\n",
       "\n",
       "  [theme=dark] .colab-df-quickchart {\n",
       "      --bg-color: #3B4455;\n",
       "      --fill-color: #D2E3FC;\n",
       "      --hover-bg-color: #434B5C;\n",
       "      --hover-fill-color: #FFFFFF;\n",
       "      --disabled-bg-color: #3B4455;\n",
       "      --disabled-fill-color: #666;\n",
       "  }\n",
       "\n",
       "  .colab-df-quickchart {\n",
       "    background-color: var(--bg-color);\n",
       "    border: none;\n",
       "    border-radius: 50%;\n",
       "    cursor: pointer;\n",
       "    display: none;\n",
       "    fill: var(--fill-color);\n",
       "    height: 32px;\n",
       "    padding: 0;\n",
       "    width: 32px;\n",
       "  }\n",
       "\n",
       "  .colab-df-quickchart:hover {\n",
       "    background-color: var(--hover-bg-color);\n",
       "    box-shadow: 0 1px 2px rgba(60, 64, 67, 0.3), 0 1px 3px 1px rgba(60, 64, 67, 0.15);\n",
       "    fill: var(--button-hover-fill-color);\n",
       "  }\n",
       "\n",
       "  .colab-df-quickchart-complete:disabled,\n",
       "  .colab-df-quickchart-complete:disabled:hover {\n",
       "    background-color: var(--disabled-bg-color);\n",
       "    fill: var(--disabled-fill-color);\n",
       "    box-shadow: none;\n",
       "  }\n",
       "\n",
       "  .colab-df-spinner {\n",
       "    border: 2px solid var(--fill-color);\n",
       "    border-color: transparent;\n",
       "    border-bottom-color: var(--fill-color);\n",
       "    animation:\n",
       "      spin 1s steps(1) infinite;\n",
       "  }\n",
       "\n",
       "  @keyframes spin {\n",
       "    0% {\n",
       "      border-color: transparent;\n",
       "      border-bottom-color: var(--fill-color);\n",
       "      border-left-color: var(--fill-color);\n",
       "    }\n",
       "    20% {\n",
       "      border-color: transparent;\n",
       "      border-left-color: var(--fill-color);\n",
       "      border-top-color: var(--fill-color);\n",
       "    }\n",
       "    30% {\n",
       "      border-color: transparent;\n",
       "      border-left-color: var(--fill-color);\n",
       "      border-top-color: var(--fill-color);\n",
       "      border-right-color: var(--fill-color);\n",
       "    }\n",
       "    40% {\n",
       "      border-color: transparent;\n",
       "      border-right-color: var(--fill-color);\n",
       "      border-top-color: var(--fill-color);\n",
       "    }\n",
       "    60% {\n",
       "      border-color: transparent;\n",
       "      border-right-color: var(--fill-color);\n",
       "    }\n",
       "    80% {\n",
       "      border-color: transparent;\n",
       "      border-right-color: var(--fill-color);\n",
       "      border-bottom-color: var(--fill-color);\n",
       "    }\n",
       "    90% {\n",
       "      border-color: transparent;\n",
       "      border-bottom-color: var(--fill-color);\n",
       "    }\n",
       "  }\n",
       "</style>\n",
       "\n",
       "  <script>\n",
       "    async function quickchart(key) {\n",
       "      const quickchartButtonEl =\n",
       "        document.querySelector('#' + key + ' button');\n",
       "      quickchartButtonEl.disabled = true;  // To prevent multiple clicks.\n",
       "      quickchartButtonEl.classList.add('colab-df-spinner');\n",
       "      try {\n",
       "        const charts = await google.colab.kernel.invokeFunction(\n",
       "            'suggestCharts', [key], {});\n",
       "      } catch (error) {\n",
       "        console.error('Error during call to suggestCharts:', error);\n",
       "      }\n",
       "      quickchartButtonEl.classList.remove('colab-df-spinner');\n",
       "      quickchartButtonEl.classList.add('colab-df-quickchart-complete');\n",
       "    }\n",
       "    (() => {\n",
       "      let quickchartButtonEl =\n",
       "        document.querySelector('#df-2c3b0ad2-f595-4c3e-b98b-aa757fa48b08 button');\n",
       "      quickchartButtonEl.style.display =\n",
       "        google.colab.kernel.accessAllowed ? 'block' : 'none';\n",
       "    })();\n",
       "  </script>\n",
       "</div>\n",
       "    </div>\n",
       "  </div>\n"
      ],
      "text/plain": [
       "        Date        Open        High         Low       Close     Volume  \\\n",
       "0 2022-11-28  144.333235  145.824897  142.583023  143.418350   69246000   \n",
       "1 2022-11-29  143.487983  144.005097  139.569896  140.385330   83763800   \n",
       "2 2022-11-30  140.614017  147.893336  139.768751  147.207169  111380900   \n",
       "3 2022-12-01  147.386191  148.301076  145.795079  147.485626   71250400   \n",
       "4 2022-12-02  145.148696  147.177350  144.840406  146.988403   65447400   \n",
       "\n",
       "   Dividends  Stock Splits Ticker  \\\n",
       "0        0.0           0.0   AAPL   \n",
       "1        0.0           0.0   AAPL   \n",
       "2        0.0           0.0   AAPL   \n",
       "3        0.0           0.0   AAPL   \n",
       "4        0.0           0.0   AAPL   \n",
       "\n",
       "                                           Headlines  \n",
       "0                                                NaN  \n",
       "1  Stock Market Rally Awaits Fed Chief Powell, Ke...  \n",
       "2  Elon Musk says Apple never considered removing...  \n",
       "3  Coinbase says Apple forced it to remove NFT wa...  \n",
       "4  Weekly Roundup | Apple (AAPL) Dips More Than B...  "
      ]
     },
     "execution_count": 21,
     "metadata": {},
     "output_type": "execute_result"
    }
   ],
   "source": [
    "tickers_df.head()"
   ]
  },
  {
   "cell_type": "code",
   "execution_count": 19,
   "metadata": {
    "colab": {
     "base_uri": "https://localhost:8080/"
    },
    "executionInfo": {
     "elapsed": 191,
     "status": "ok",
     "timestamp": 1700964611708,
     "user": {
      "displayName": "Kishore S",
      "userId": "00960257451938731255"
     },
     "user_tz": 300
    },
    "id": "-4NkmcZtZAN0",
    "outputId": "2305fe91-305d-46d7-cb63-0660b1a5ecce"
   },
   "outputs": [
    {
     "data": {
      "text/plain": [
       "Date              0\n",
       "Open              0\n",
       "High              0\n",
       "Low               0\n",
       "Close             0\n",
       "Volume            0\n",
       "Dividends         0\n",
       "Stock Splits      0\n",
       "Ticker            0\n",
       "Headlines       464\n",
       "dtype: int64"
      ]
     },
     "execution_count": 19,
     "metadata": {},
     "output_type": "execute_result"
    }
   ],
   "source": [
    "tickers_df.isnull().sum()"
   ]
  },
  {
   "cell_type": "code",
   "execution_count": 20,
   "metadata": {
    "colab": {
     "base_uri": "https://localhost:8080/"
    },
    "executionInfo": {
     "elapsed": 15,
     "status": "ok",
     "timestamp": 1700964627863,
     "user": {
      "displayName": "Kishore S",
      "userId": "00960257451938731255"
     },
     "user_tz": 300
    },
    "id": "JI2gHZ7fZDSw",
    "outputId": "d557ada4-4ec2-4f86-8d9d-99f955cecf35"
   },
   "outputs": [
    {
     "data": {
      "text/plain": [
       "(3159, 10)"
      ]
     },
     "execution_count": 20,
     "metadata": {},
     "output_type": "execute_result"
    }
   ],
   "source": [
    "tickers_df.shape"
   ]
  },
  {
   "cell_type": "code",
   "execution_count": 40,
   "metadata": {
    "executionInfo": {
     "elapsed": 158,
     "status": "ok",
     "timestamp": 1700965237784,
     "user": {
      "displayName": "Kishore S",
      "userId": "00960257451938731255"
     },
     "user_tz": 300
    },
    "id": "I0kPfoEJaGhj"
   },
   "outputs": [],
   "source": [
    "null_values_df = tickers_df[tickers_df.isnull().any(axis=1)]"
   ]
  },
  {
   "cell_type": "code",
   "execution_count": 41,
   "metadata": {
    "colab": {
     "base_uri": "https://localhost:8080/"
    },
    "executionInfo": {
     "elapsed": 9,
     "status": "ok",
     "timestamp": 1700965238154,
     "user": {
      "displayName": "Kishore S",
      "userId": "00960257451938731255"
     },
     "user_tz": 300
    },
    "id": "5x2HtAk8bNy5",
    "outputId": "265700d7-6eba-42e7-edb1-6b00fce11418"
   },
   "outputs": [
    {
     "data": {
      "text/plain": [
       "WEWKQ    218\n",
       "ZI       117\n",
       "DUOL      99\n",
       "PLTR       9\n",
       "ABNB       4\n",
       "MRNA       4\n",
       "COIN       3\n",
       "AMZN       2\n",
       "GOOG       2\n",
       "META       2\n",
       "NVDA       2\n",
       "AAPL       1\n",
       "TSLA       1\n",
       "Name: Ticker, dtype: int64"
      ]
     },
     "execution_count": 41,
     "metadata": {},
     "output_type": "execute_result"
    }
   ],
   "source": [
    "null_values_df.Ticker.value_counts()"
   ]
  },
  {
   "cell_type": "code",
   "execution_count": 47,
   "metadata": {
    "colab": {
     "base_uri": "https://localhost:8080/"
    },
    "executionInfo": {
     "elapsed": 12,
     "status": "ok",
     "timestamp": 1700965304698,
     "user": {
      "displayName": "Kishore S",
      "userId": "00960257451938731255"
     },
     "user_tz": 300
    },
    "id": "GaoZDaJPaLhM",
    "outputId": "4b3b574f-a15d-463b-af6c-2c698442426f"
   },
   "outputs": [
    {
     "data": {
      "text/plain": [
       "['WEWKQ',\n",
       " 'ZI',\n",
       " 'DUOL',\n",
       " 'PLTR',\n",
       " 'ABNB',\n",
       " 'MRNA',\n",
       " 'COIN',\n",
       " 'AMZN',\n",
       " 'GOOG',\n",
       " 'META',\n",
       " 'NVDA',\n",
       " 'AAPL',\n",
       " 'TSLA']"
      ]
     },
     "execution_count": 47,
     "metadata": {},
     "output_type": "execute_result"
    }
   ],
   "source": [
    "null_value_tickers = list(null_values_df.Ticker.value_counts().index)\n",
    "null_value_tickers"
   ]
  },
  {
   "cell_type": "code",
   "execution_count": 49,
   "metadata": {
    "colab": {
     "base_uri": "https://localhost:8080/"
    },
    "executionInfo": {
     "elapsed": 159,
     "status": "ok",
     "timestamp": 1700965311196,
     "user": {
      "displayName": "Kishore S",
      "userId": "00960257451938731255"
     },
     "user_tz": 300
    },
    "id": "5mef8Jm7aouy",
    "outputId": "ac387180-3696-4b02-d396-a1b2e83b8ee6"
   },
   "outputs": [
    {
     "name": "stdout",
     "output_type": "stream",
     "text": [
      "Percentage of null values for WEWKQ is 89.71%\n",
      "Percentage of null values for ZI is 48.15%\n",
      "Percentage of null values for DUOL is 40.74%\n",
      "Percentage of null values for PLTR is 3.70%\n",
      "Percentage of null values for ABNB is 1.65%\n",
      "Percentage of null values for MRNA is 1.65%\n",
      "Percentage of null values for COIN is 1.23%\n",
      "Percentage of null values for AMZN is 0.82%\n",
      "Percentage of null values for GOOG is 0.82%\n",
      "Percentage of null values for META is 0.82%\n",
      "Percentage of null values for NVDA is 0.82%\n",
      "Percentage of null values for AAPL is 0.41%\n",
      "Percentage of null values for TSLA is 0.41%\n"
     ]
    }
   ],
   "source": [
    "for ticker in null_value_tickers:\n",
    "    n_data_points = tickers_df[tickers_df.Ticker == ticker].shape[0]\n",
    "    null_data_points = null_values_df[null_values_df.Ticker == ticker].shape[0]\n",
    "\n",
    "    percent_null_values = (null_data_points / n_data_points) * 100\n",
    "    print(f\"Percentage of null values for {ticker} is {percent_null_values:.2f}%\")"
   ]
  },
  {
   "cell_type": "code",
   "execution_count": 50,
   "metadata": {
    "executionInfo": {
     "elapsed": 11,
     "status": "ok",
     "timestamp": 1700965516728,
     "user": {
      "displayName": "Kishore S",
      "userId": "00960257451938731255"
     },
     "user_tz": 300
    },
    "id": "wp1WJ6mEa9tw"
   },
   "outputs": [],
   "source": [
    "tickers_df.dropna(inplace=True)"
   ]
  },
  {
   "cell_type": "code",
   "execution_count": 54,
   "metadata": {
    "executionInfo": {
     "elapsed": 10,
     "status": "ok",
     "timestamp": 1700965618694,
     "user": {
      "displayName": "Kishore S",
      "userId": "00960257451938731255"
     },
     "user_tz": 300
    },
    "id": "TZQlE2lIchLH"
   },
   "outputs": [],
   "source": [
    "# As the data for WeWork, Zoom and Duolingo has a lot of null values, I'm dropping those companies data.\n",
    "\n",
    "tickers_df = tickers_df[~tickers_df.Ticker.isin([\"WEWKQ\", \"ZI\", \"DUOL\"])]"
   ]
  },
  {
   "cell_type": "code",
   "execution_count": 55,
   "metadata": {
    "colab": {
     "base_uri": "https://localhost:8080/"
    },
    "executionInfo": {
     "elapsed": 5,
     "status": "ok",
     "timestamp": 1700965619174,
     "user": {
      "displayName": "Kishore S",
      "userId": "00960257451938731255"
     },
     "user_tz": 300
    },
    "id": "sEiY_J4xc16n",
    "outputId": "8a1907ae-a1ca-46aa-b1a3-5c3b03482b00"
   },
   "outputs": [
    {
     "data": {
      "text/plain": [
       "(2695, 10)"
      ]
     },
     "execution_count": 55,
     "metadata": {},
     "output_type": "execute_result"
    }
   ],
   "source": [
    "tickers_df.shape"
   ]
  },
  {
   "cell_type": "code",
   "execution_count": 63,
   "metadata": {
    "colab": {
     "base_uri": "https://localhost:8080/"
    },
    "executionInfo": {
     "elapsed": 167,
     "status": "ok",
     "timestamp": 1700965748026,
     "user": {
      "displayName": "Kishore S",
      "userId": "00960257451938731255"
     },
     "user_tz": 300
    },
    "id": "lDneTbPRc7zt",
    "outputId": "47546ed6-5fde-41d3-8414-de58bd5610ca"
   },
   "outputs": [
    {
     "data": {
      "text/plain": [
       "10"
      ]
     },
     "execution_count": 63,
     "metadata": {},
     "output_type": "execute_result"
    }
   ],
   "source": [
    "tickers_df.Ticker.nunique()"
   ]
  },
  {
   "cell_type": "code",
   "execution_count": 66,
   "metadata": {
    "executionInfo": {
     "elapsed": 399,
     "status": "ok",
     "timestamp": 1700965833211,
     "user": {
      "displayName": "Kishore S",
      "userId": "00960257451938731255"
     },
     "user_tz": 300
    },
    "id": "R3K5dvZ2dPm6"
   },
   "outputs": [],
   "source": [
    "# Saving the collected dataset\n",
    "\n",
    "FAI_PROJECT_DATA = os.path.join(DATA_DIR, \"fai_project_data.csv\")\n",
    "\n",
    "tickers_df.to_csv(FAI_PROJECT_DATA, index=False)"
   ]
  },
  {
   "cell_type": "code",
   "execution_count": 68,
   "metadata": {
    "colab": {
     "base_uri": "https://localhost:8080/",
     "height": 35
    },
    "executionInfo": {
     "elapsed": 147,
     "status": "ok",
     "timestamp": 1700965842729,
     "user": {
      "displayName": "Kishore S",
      "userId": "00960257451938731255"
     },
     "user_tz": 300
    },
    "id": "yKPCDwpVdVLx",
    "outputId": "b3af68b6-7291-4f52-8c1b-5050b354deb1"
   },
   "outputs": [
    {
     "data": {
      "application/vnd.google.colaboratory.intrinsic+json": {
       "type": "string"
      },
      "text/plain": [
       "'data/fai_project_data.csv'"
      ]
     },
     "execution_count": 68,
     "metadata": {},
     "output_type": "execute_result"
    }
   ],
   "source": [
    "FAI_PROJECT_DATA"
   ]
  },
  {
   "cell_type": "code",
   "execution_count": null,
   "metadata": {
    "id": "K9pGzgDmdvDc"
   },
   "outputs": [],
   "source": []
  }
 ],
 "metadata": {
  "colab": {
   "authorship_tag": "ABX9TyOAsTUh2lC7z1l/ErGebA8/",
   "provenance": []
  },
  "kernelspec": {
   "display_name": "Python 3 (ipykernel)",
   "language": "python",
   "name": "python3"
  },
  "language_info": {
   "codemirror_mode": {
    "name": "ipython",
    "version": 3
   },
   "file_extension": ".py",
   "mimetype": "text/x-python",
   "name": "python",
   "nbconvert_exporter": "python",
   "pygments_lexer": "ipython3",
   "version": "3.10.12"
  }
 },
 "nbformat": 4,
 "nbformat_minor": 4
}
