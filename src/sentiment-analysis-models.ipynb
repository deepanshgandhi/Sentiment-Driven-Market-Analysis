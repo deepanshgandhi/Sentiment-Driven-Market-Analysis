{
 "cells": [
  {
   "cell_type": "code",
   "execution_count": 1,
   "id": "ad9cc0ed-42c0-4d80-b070-b151e7c50e2e",
   "metadata": {
    "executionInfo": {
     "elapsed": 1982,
     "status": "ok",
     "timestamp": 1701486417554,
     "user": {
      "displayName": "Kishore S",
      "userId": "00960257451938731255"
     },
     "user_tz": 300
    },
    "id": "ad9cc0ed-42c0-4d80-b070-b151e7c50e2e"
   },
   "outputs": [
    {
     "name": "stderr",
     "output_type": "stream",
     "text": [
      "/Users/kprakhar27/Library/Python/3.9/lib/python/site-packages/urllib3/__init__.py:34: NotOpenSSLWarning: urllib3 v2 only supports OpenSSL 1.1.1+, currently the 'ssl' module is compiled with 'LibreSSL 2.8.3'. See: https://github.com/urllib3/urllib3/issues/3020\n",
      "  warnings.warn(\n"
     ]
    }
   ],
   "source": [
    "# Importing the required libraries\n",
    "\n",
    "# Configuring Tensorflow\n",
    "import os\n",
    "os.environ[\"TF_DETERMINISTIC_OPS\"] = \"1\"\n",
    "\n",
    "import pandas as pd\n",
    "import numpy as np\n",
    "import matplotlib.pyplot as plt\n",
    "\n",
    "from sklearn.model_selection import train_test_split\n",
    "from sklearn.preprocessing import MinMaxScaler\n",
    "from sklearn.metrics import mean_squared_error, r2_score\n",
    "from sklearn.preprocessing import StandardScaler\n",
    "\n",
    "import tensorflow as tf\n",
    "from tensorflow.keras.preprocessing.text import Tokenizer\n",
    "from tensorflow.keras.preprocessing.sequence import pad_sequences\n",
    "from tensorflow.keras.models import Sequential\n",
    "from tensorflow.keras.layers import Embedding, LSTM, Dense, Dropout, GRU\n",
    "from tensorflow.keras.optimizers.legacy import Adam\n",
    "\n",
    "import nltk\n",
    "from nltk.corpus import stopwords\n",
    "from textblob import Word"
   ]
  },
  {
   "cell_type": "code",
   "execution_count": 2,
   "id": "b0ca8a5f-b07d-470b-9037-1150bb1c6b71",
   "metadata": {
    "executionInfo": {
     "elapsed": 3640,
     "status": "ok",
     "timestamp": 1701486514125,
     "user": {
      "displayName": "Kishore S",
      "userId": "00960257451938731255"
     },
     "user_tz": 300
    },
    "id": "b0ca8a5f-b07d-470b-9037-1150bb1c6b71"
   },
   "outputs": [],
   "source": [
    "# Setting the random seed\n",
    "\n",
    "seed = 0\n",
    "np.random.seed(seed)\n",
    "tf.random.set_seed(seed)\n",
    "tf.keras.utils.set_random_seed(seed)"
   ]
  },
  {
   "cell_type": "code",
   "execution_count": 3,
   "id": "783d188d-e6eb-4e25-9f35-cf2816eb2f64",
   "metadata": {
    "colab": {
     "base_uri": "https://localhost:8080/"
    },
    "executionInfo": {
     "elapsed": 228,
     "status": "ok",
     "timestamp": 1701486514344,
     "user": {
      "displayName": "Kishore S",
      "userId": "00960257451938731255"
     },
     "user_tz": 300
    },
    "id": "783d188d-e6eb-4e25-9f35-cf2816eb2f64",
    "outputId": "7e75500f-8840-4f9f-b8b9-0465c246e386"
   },
   "outputs": [
    {
     "name": "stderr",
     "output_type": "stream",
     "text": [
      "[nltk_data] Downloading package stopwords to\n",
      "[nltk_data]     /Users/kprakhar27/nltk_data...\n",
      "[nltk_data]   Package stopwords is already up-to-date!\n",
      "[nltk_data] Downloading package wordnet to\n",
      "[nltk_data]     /Users/kprakhar27/nltk_data...\n",
      "[nltk_data]   Package wordnet is already up-to-date!\n"
     ]
    },
    {
     "data": {
      "text/plain": [
       "True"
      ]
     },
     "execution_count": 3,
     "metadata": {},
     "output_type": "execute_result"
    }
   ],
   "source": [
    "nltk.download('stopwords')\n",
    "nltk.download('wordnet')"
   ]
  },
  {
   "cell_type": "code",
   "execution_count": 4,
   "id": "j8HQSQ2wtbhx",
   "metadata": {
    "colab": {
     "base_uri": "https://localhost:8080/"
    },
    "executionInfo": {
     "elapsed": 25,
     "status": "ok",
     "timestamp": 1701486418376,
     "user": {
      "displayName": "Kishore S",
      "userId": "00960257451938731255"
     },
     "user_tz": 300
    },
    "id": "j8HQSQ2wtbhx",
    "outputId": "9f21f7f6-7986-4126-d7fc-a3ee99a7cf85"
   },
   "outputs": [
    {
     "name": "stdout",
     "output_type": "stream",
     "text": [
      "Current Working Directory: /Users/kprakhar27/Documents/NEU/FAI - Project/src\n",
      "Changing the directory to the project root directory...\n",
      "Current Working Directory: /Users/kprakhar27/Documents/NEU/FAI - Project\n"
     ]
    }
   ],
   "source": [
    "print(f\"Current Working Directory: {os.getcwd()}\")\n",
    "\n",
    "print(\"Changing the directory to the project root directory...\")\n",
    "os.chdir(\"/Users/kprakhar27/Documents/NEU/FAI - Project/\")\n",
    "\n",
    "print(f\"Current Working Directory: {os.getcwd()}\")\n",
    "\n",
    "DATA_DIR = \"data\""
   ]
  },
  {
   "cell_type": "markdown",
   "id": "0f8bcebc-ef5e-42d5-9962-57a365694b32",
   "metadata": {
    "id": "0f8bcebc-ef5e-42d5-9962-57a365694b32"
   },
   "source": [
    "## Historical Sensex Price"
   ]
  },
  {
   "cell_type": "code",
   "execution_count": 5,
   "id": "db4c91d9-ba50-40f4-b430-d2446c7fbcf7",
   "metadata": {
    "colab": {
     "base_uri": "https://localhost:8080/",
     "height": 206
    },
    "executionInfo": {
     "elapsed": 2958,
     "status": "ok",
     "timestamp": 1701486421323,
     "user": {
      "displayName": "Kishore S",
      "userId": "00960257451938731255"
     },
     "user_tz": 300
    },
    "id": "db4c91d9-ba50-40f4-b430-d2446c7fbcf7",
    "outputId": "07598095-1afe-4d7b-e11f-6521e02b671f"
   },
   "outputs": [
    {
     "data": {
      "text/html": [
       "<div>\n",
       "<style scoped>\n",
       "    .dataframe tbody tr th:only-of-type {\n",
       "        vertical-align: middle;\n",
       "    }\n",
       "\n",
       "    .dataframe tbody tr th {\n",
       "        vertical-align: top;\n",
       "    }\n",
       "\n",
       "    .dataframe thead th {\n",
       "        text-align: right;\n",
       "    }\n",
       "</style>\n",
       "<table border=\"1\" class=\"dataframe\">\n",
       "  <thead>\n",
       "    <tr style=\"text-align: right;\">\n",
       "      <th></th>\n",
       "      <th>Day</th>\n",
       "      <th>Month</th>\n",
       "      <th>Year</th>\n",
       "      <th>Open</th>\n",
       "      <th>High</th>\n",
       "      <th>Low</th>\n",
       "      <th>Close</th>\n",
       "      <th>Adj Close</th>\n",
       "      <th>Volume</th>\n",
       "      <th>Date</th>\n",
       "    </tr>\n",
       "  </thead>\n",
       "  <tbody>\n",
       "    <tr>\n",
       "      <th>6575</th>\n",
       "      <td>1</td>\n",
       "      <td>Jul</td>\n",
       "      <td>1997</td>\n",
       "      <td>4263.11</td>\n",
       "      <td>4301.77</td>\n",
       "      <td>4247.66</td>\n",
       "      <td>4300.86</td>\n",
       "      <td>4300.86</td>\n",
       "      <td>NaN</td>\n",
       "      <td>1997-07-01</td>\n",
       "    </tr>\n",
       "    <tr>\n",
       "      <th>6574</th>\n",
       "      <td>2</td>\n",
       "      <td>Jul</td>\n",
       "      <td>1997</td>\n",
       "      <td>4302.96</td>\n",
       "      <td>4395.31</td>\n",
       "      <td>4295.40</td>\n",
       "      <td>4333.90</td>\n",
       "      <td>4333.90</td>\n",
       "      <td>NaN</td>\n",
       "      <td>1997-07-02</td>\n",
       "    </tr>\n",
       "    <tr>\n",
       "      <th>6573</th>\n",
       "      <td>3</td>\n",
       "      <td>Jul</td>\n",
       "      <td>1997</td>\n",
       "      <td>4335.79</td>\n",
       "      <td>4393.29</td>\n",
       "      <td>4299.97</td>\n",
       "      <td>4323.46</td>\n",
       "      <td>4323.46</td>\n",
       "      <td>NaN</td>\n",
       "      <td>1997-07-03</td>\n",
       "    </tr>\n",
       "    <tr>\n",
       "      <th>6572</th>\n",
       "      <td>4</td>\n",
       "      <td>Jul</td>\n",
       "      <td>1997</td>\n",
       "      <td>4332.70</td>\n",
       "      <td>4347.59</td>\n",
       "      <td>4300.58</td>\n",
       "      <td>4323.82</td>\n",
       "      <td>4323.82</td>\n",
       "      <td>NaN</td>\n",
       "      <td>1997-07-04</td>\n",
       "    </tr>\n",
       "    <tr>\n",
       "      <th>6571</th>\n",
       "      <td>7</td>\n",
       "      <td>Jul</td>\n",
       "      <td>1997</td>\n",
       "      <td>4326.81</td>\n",
       "      <td>4391.01</td>\n",
       "      <td>4289.49</td>\n",
       "      <td>4291.45</td>\n",
       "      <td>4291.45</td>\n",
       "      <td>NaN</td>\n",
       "      <td>1997-07-07</td>\n",
       "    </tr>\n",
       "  </tbody>\n",
       "</table>\n",
       "</div>"
      ],
      "text/plain": [
       "      Day Month  Year     Open     High      Low    Close  Adj Close  Volume  \\\n",
       "6575    1   Jul  1997  4263.11  4301.77  4247.66  4300.86    4300.86     NaN   \n",
       "6574    2   Jul  1997  4302.96  4395.31  4295.40  4333.90    4333.90     NaN   \n",
       "6573    3   Jul  1997  4335.79  4393.29  4299.97  4323.46    4323.46     NaN   \n",
       "6572    4   Jul  1997  4332.70  4347.59  4300.58  4323.82    4323.82     NaN   \n",
       "6571    7   Jul  1997  4326.81  4391.01  4289.49  4291.45    4291.45     NaN   \n",
       "\n",
       "           Date  \n",
       "6575 1997-07-01  \n",
       "6574 1997-07-02  \n",
       "6573 1997-07-03  \n",
       "6572 1997-07-04  \n",
       "6571 1997-07-07  "
      ]
     },
     "execution_count": 5,
     "metadata": {},
     "output_type": "execute_result"
    }
   ],
   "source": [
    "# path of historical data\n",
    "HIST_DATA = os.path.join(DATA_DIR, \"Sensex_historical_price.csv\")\n",
    "# import data\n",
    "df = pd.read_csv(HIST_DATA, thousands=',')\n",
    "# Reverse data in increasing order of Dates\n",
    "df = df.iloc[::-1]\n",
    "# Combine Date Columns\n",
    "cols = ['Day', 'Month', 'Year']\n",
    "df['Date'] = df[cols].apply(lambda row: '-'.join(row.values.astype(str)), axis=1)\n",
    "# Convert Date to Timestamp\n",
    "df['Date']= pd.to_datetime(df['Date'])\n",
    "\n",
    "df.head()"
   ]
  },
  {
   "cell_type": "markdown",
   "id": "667107b3-5d88-4ea9-a083-6e500a7dad7c",
   "metadata": {
    "id": "667107b3-5d88-4ea9-a083-6e500a7dad7c"
   },
   "source": [
    "## Clean Sensex data"
   ]
  },
  {
   "cell_type": "code",
   "execution_count": 6,
   "id": "b79e87f9-72fe-4c5e-938b-105f7b3b5eb5",
   "metadata": {
    "colab": {
     "base_uri": "https://localhost:8080/"
    },
    "executionInfo": {
     "elapsed": 41,
     "status": "ok",
     "timestamp": 1701486429892,
     "user": {
      "displayName": "Kishore S",
      "userId": "00960257451938731255"
     },
     "user_tz": 300
    },
    "id": "b79e87f9-72fe-4c5e-938b-105f7b3b5eb5",
    "outputId": "8d7bb862-04d8-442b-b5bc-519c21148a3a"
   },
   "outputs": [
    {
     "name": "stdout",
     "output_type": "stream",
     "text": [
      "<class 'pandas.core.frame.DataFrame'>\n",
      "Index: 6451 entries, 6575 to 0\n",
      "Data columns (total 4 columns):\n",
      " #   Column      Non-Null Count  Dtype         \n",
      "---  ------      --------------  -----         \n",
      " 0   Date        6451 non-null   datetime64[ns]\n",
      " 1   adj_close   6451 non-null   float64       \n",
      " 2   next_close  6450 non-null   float64       \n",
      " 3   difference  6450 non-null   float64       \n",
      "dtypes: datetime64[ns](1), float64(3)\n",
      "memory usage: 252.0 KB\n"
     ]
    }
   ],
   "source": [
    "# Selecting only the \"Date\" and \"Adj Close\" columns from the DataFrame df\n",
    "data = df[[\"Date\", \"Adj Close\"]]\n",
    "\n",
    "# Renaming the \"Adj Close\" column to \"adj_close\" for clarity\n",
    "data = data.rename(columns={\"Adj Close\": \"adj_close\"})\n",
    "\n",
    "# Dropping rows with missing values in the \"adj_close\" column\n",
    "data.dropna(subset=['adj_close'], inplace=True)\n",
    "\n",
    "# Shifting the \"adj_close\" column down by one row to create a new column \"next_close\"\n",
    "data['next_close'] = data['adj_close'].shift(-1)\n",
    "\n",
    "# Calculating the percentage difference between \"next_close\" and \"adj_close\" and storing it in the \"difference\" column\n",
    "data['difference'] = ((data[\"next_close\"] - data[\"adj_close\"]) / data[\"adj_close\"])\n",
    "\n",
    "# Displaying information about the DataFrame, including data types and non-null counts\n",
    "data.info()"
   ]
  },
  {
   "cell_type": "code",
   "execution_count": 7,
   "id": "1e2ab44e-adee-4cac-8b6c-a6d5a300bb13",
   "metadata": {
    "colab": {
     "base_uri": "https://localhost:8080/",
     "height": 206
    },
    "executionInfo": {
     "elapsed": 23,
     "status": "ok",
     "timestamp": 1701486429892,
     "user": {
      "displayName": "Kishore S",
      "userId": "00960257451938731255"
     },
     "user_tz": 300
    },
    "id": "1e2ab44e-adee-4cac-8b6c-a6d5a300bb13",
    "outputId": "5a1d65a3-c954-4282-ca99-36d15b3576c4"
   },
   "outputs": [
    {
     "data": {
      "text/html": [
       "<div>\n",
       "<style scoped>\n",
       "    .dataframe tbody tr th:only-of-type {\n",
       "        vertical-align: middle;\n",
       "    }\n",
       "\n",
       "    .dataframe tbody tr th {\n",
       "        vertical-align: top;\n",
       "    }\n",
       "\n",
       "    .dataframe thead th {\n",
       "        text-align: right;\n",
       "    }\n",
       "</style>\n",
       "<table border=\"1\" class=\"dataframe\">\n",
       "  <thead>\n",
       "    <tr style=\"text-align: right;\">\n",
       "      <th></th>\n",
       "      <th>Date</th>\n",
       "      <th>adj_close</th>\n",
       "      <th>next_close</th>\n",
       "      <th>difference</th>\n",
       "    </tr>\n",
       "  </thead>\n",
       "  <tbody>\n",
       "    <tr>\n",
       "      <th>6575</th>\n",
       "      <td>1997-07-01</td>\n",
       "      <td>4300.86</td>\n",
       "      <td>4333.90</td>\n",
       "      <td>0.007682</td>\n",
       "    </tr>\n",
       "    <tr>\n",
       "      <th>6574</th>\n",
       "      <td>1997-07-02</td>\n",
       "      <td>4333.90</td>\n",
       "      <td>4323.46</td>\n",
       "      <td>-0.002409</td>\n",
       "    </tr>\n",
       "    <tr>\n",
       "      <th>6573</th>\n",
       "      <td>1997-07-03</td>\n",
       "      <td>4323.46</td>\n",
       "      <td>4323.82</td>\n",
       "      <td>0.000083</td>\n",
       "    </tr>\n",
       "    <tr>\n",
       "      <th>6572</th>\n",
       "      <td>1997-07-04</td>\n",
       "      <td>4323.82</td>\n",
       "      <td>4291.45</td>\n",
       "      <td>-0.007486</td>\n",
       "    </tr>\n",
       "    <tr>\n",
       "      <th>6571</th>\n",
       "      <td>1997-07-07</td>\n",
       "      <td>4291.45</td>\n",
       "      <td>4306.39</td>\n",
       "      <td>0.003481</td>\n",
       "    </tr>\n",
       "  </tbody>\n",
       "</table>\n",
       "</div>"
      ],
      "text/plain": [
       "           Date  adj_close  next_close  difference\n",
       "6575 1997-07-01    4300.86     4333.90    0.007682\n",
       "6574 1997-07-02    4333.90     4323.46   -0.002409\n",
       "6573 1997-07-03    4323.46     4323.82    0.000083\n",
       "6572 1997-07-04    4323.82     4291.45   -0.007486\n",
       "6571 1997-07-07    4291.45     4306.39    0.003481"
      ]
     },
     "execution_count": 7,
     "metadata": {},
     "output_type": "execute_result"
    }
   ],
   "source": [
    "data.head()"
   ]
  },
  {
   "cell_type": "code",
   "execution_count": 8,
   "id": "d289144e-4565-47c5-ab95-6afaac36bb76",
   "metadata": {
    "colab": {
     "base_uri": "https://localhost:8080/",
     "height": 447
    },
    "executionInfo": {
     "elapsed": 904,
     "status": "ok",
     "timestamp": 1701486430780,
     "user": {
      "displayName": "Kishore S",
      "userId": "00960257451938731255"
     },
     "user_tz": 300
    },
    "id": "d289144e-4565-47c5-ab95-6afaac36bb76",
    "outputId": "c2ea80dd-2973-4f15-a44c-6a8495ab72db"
   },
   "outputs": [
    {
     "data": {
      "text/plain": [
       "<Axes: >"
      ]
     },
     "execution_count": 8,
     "metadata": {},
     "output_type": "execute_result"
    },
    {
     "data": {
      "image/png": "[encoded data removed]",
      "text/plain": [
       "<Figure size 640x480 with 1 Axes>"
      ]
     },
     "metadata": {},
     "output_type": "display_data"
    }
   ],
   "source": [
    "data[\"difference\"].plot()"
   ]
  },
  {
   "cell_type": "code",
   "execution_count": 9,
   "id": "75b4ee4a-4f8c-437b-9832-31f291ba9df7",
   "metadata": {
    "executionInfo": {
     "elapsed": 13,
     "status": "ok",
     "timestamp": 1701486430781,
     "user": {
      "displayName": "Kishore S",
      "userId": "00960257451938731255"
     },
     "user_tz": 300
    },
    "id": "75b4ee4a-4f8c-437b-9832-31f291ba9df7"
   },
   "outputs": [
    {
     "data": {
      "text/html": [
       "<div>\n",
       "<style scoped>\n",
       "    .dataframe tbody tr th:only-of-type {\n",
       "        vertical-align: middle;\n",
       "    }\n",
       "\n",
       "    .dataframe tbody tr th {\n",
       "        vertical-align: top;\n",
       "    }\n",
       "\n",
       "    .dataframe thead th {\n",
       "        text-align: right;\n",
       "    }\n",
       "</style>\n",
       "<table border=\"1\" class=\"dataframe\">\n",
       "  <thead>\n",
       "    <tr style=\"text-align: right;\">\n",
       "      <th></th>\n",
       "      <th>Date</th>\n",
       "      <th>adj_close</th>\n",
       "      <th>next_close</th>\n",
       "      <th>difference</th>\n",
       "      <th>sentiment</th>\n",
       "    </tr>\n",
       "  </thead>\n",
       "  <tbody>\n",
       "    <tr>\n",
       "      <th>6575</th>\n",
       "      <td>1997-07-01</td>\n",
       "      <td>4300.86</td>\n",
       "      <td>4333.90</td>\n",
       "      <td>0.007682</td>\n",
       "      <td>0.044305</td>\n",
       "    </tr>\n",
       "    <tr>\n",
       "      <th>6574</th>\n",
       "      <td>1997-07-02</td>\n",
       "      <td>4333.90</td>\n",
       "      <td>4323.46</td>\n",
       "      <td>-0.002409</td>\n",
       "      <td>-0.018315</td>\n",
       "    </tr>\n",
       "    <tr>\n",
       "      <th>6573</th>\n",
       "      <td>1997-07-03</td>\n",
       "      <td>4323.46</td>\n",
       "      <td>4323.82</td>\n",
       "      <td>0.000083</td>\n",
       "      <td>0.000480</td>\n",
       "    </tr>\n",
       "    <tr>\n",
       "      <th>6572</th>\n",
       "      <td>1997-07-04</td>\n",
       "      <td>4323.82</td>\n",
       "      <td>4291.45</td>\n",
       "      <td>-0.007486</td>\n",
       "      <td>-0.056920</td>\n",
       "    </tr>\n",
       "    <tr>\n",
       "      <th>6571</th>\n",
       "      <td>1997-07-07</td>\n",
       "      <td>4291.45</td>\n",
       "      <td>4306.39</td>\n",
       "      <td>0.003481</td>\n",
       "      <td>0.020078</td>\n",
       "    </tr>\n",
       "  </tbody>\n",
       "</table>\n",
       "</div>"
      ],
      "text/plain": [
       "           Date  adj_close  next_close  difference  sentiment\n",
       "6575 1997-07-01    4300.86     4333.90    0.007682   0.044305\n",
       "6574 1997-07-02    4333.90     4323.46   -0.002409  -0.018315\n",
       "6573 1997-07-03    4323.46     4323.82    0.000083   0.000480\n",
       "6572 1997-07-04    4323.82     4291.45   -0.007486  -0.056920\n",
       "6571 1997-07-07    4291.45     4306.39    0.003481   0.020078"
      ]
     },
     "execution_count": 9,
     "metadata": {},
     "output_type": "execute_result"
    }
   ],
   "source": [
    "# Define a custom scaling function named 'custom_scale' that scales values based on a condition\n",
    "def custom_scale(value):\n",
    "    # Check if the value is non-negative\n",
    "    if value >= 0:\n",
    "        # Scale the value by dividing it by the maximum value in the 'difference' column\n",
    "        return value / data['difference'].max()\n",
    "    else:\n",
    "        # Scale the absolute value of the negative value by dividing it by the minimum value in the 'difference' column\n",
    "        return -value / data['difference'].min()\n",
    "\n",
    "# Apply the 'custom_scale' function to the 'difference' column and create a new column named 'sentiment'\n",
    "data['sentiment'] = data['difference'].apply(custom_scale)\n",
    "\n",
    "data.head()"
   ]
  },
  {
   "cell_type": "code",
   "execution_count": 10,
   "id": "f715ad0f-f658-4d7b-b476-6c9bfd5c7b6b",
   "metadata": {
    "colab": {
     "base_uri": "https://localhost:8080/"
    },
    "executionInfo": {
     "elapsed": 13,
     "status": "ok",
     "timestamp": 1701486430782,
     "user": {
      "displayName": "Kishore S",
      "userId": "00960257451938731255"
     },
     "user_tz": 300
    },
    "id": "f715ad0f-f658-4d7b-b476-6c9bfd5c7b6b",
    "outputId": "75f411e0-7dab-4c48-a832-0bef25f983dd"
   },
   "outputs": [
    {
     "data": {
      "text/plain": [
       "<Axes: >"
      ]
     },
     "execution_count": 10,
     "metadata": {},
     "output_type": "execute_result"
    },
    {
     "data": {
      "image/png": "[encoded data removed]",
      "text/plain": [
       "<Figure size 640x480 with 1 Axes>"
      ]
     },
     "metadata": {},
     "output_type": "display_data"
    }
   ],
   "source": [
    "data[\"sentiment\"].plot()"
   ]
  },
  {
   "cell_type": "code",
   "execution_count": 11,
   "id": "595dc621-3db8-4602-801a-671cc97cfcb4",
   "metadata": {
    "colab": {
     "base_uri": "https://localhost:8080/",
     "height": 206
    },
    "executionInfo": {
     "elapsed": 10,
     "status": "ok",
     "timestamp": 1701486430782,
     "user": {
      "displayName": "Kishore S",
      "userId": "00960257451938731255"
     },
     "user_tz": 300
    },
    "id": "595dc621-3db8-4602-801a-671cc97cfcb4",
    "outputId": "413c45a2-a68f-4c81-ae61-8eeaeeef4dcc"
   },
   "outputs": [
    {
     "data": {
      "text/html": [
       "<div>\n",
       "<style scoped>\n",
       "    .dataframe tbody tr th:only-of-type {\n",
       "        vertical-align: middle;\n",
       "    }\n",
       "\n",
       "    .dataframe tbody tr th {\n",
       "        vertical-align: top;\n",
       "    }\n",
       "\n",
       "    .dataframe thead th {\n",
       "        text-align: right;\n",
       "    }\n",
       "</style>\n",
       "<table border=\"1\" class=\"dataframe\">\n",
       "  <thead>\n",
       "    <tr style=\"text-align: right;\">\n",
       "      <th></th>\n",
       "      <th>Date</th>\n",
       "      <th>adj_close</th>\n",
       "      <th>next_close</th>\n",
       "      <th>difference</th>\n",
       "      <th>sentiment</th>\n",
       "    </tr>\n",
       "  </thead>\n",
       "  <tbody>\n",
       "    <tr>\n",
       "      <th>6575</th>\n",
       "      <td>1997-07-01</td>\n",
       "      <td>4300.86</td>\n",
       "      <td>4333.90</td>\n",
       "      <td>0.007682</td>\n",
       "      <td>0.044305</td>\n",
       "    </tr>\n",
       "    <tr>\n",
       "      <th>6574</th>\n",
       "      <td>1997-07-02</td>\n",
       "      <td>4333.90</td>\n",
       "      <td>4323.46</td>\n",
       "      <td>-0.002409</td>\n",
       "      <td>-0.018315</td>\n",
       "    </tr>\n",
       "    <tr>\n",
       "      <th>6573</th>\n",
       "      <td>1997-07-03</td>\n",
       "      <td>4323.46</td>\n",
       "      <td>4323.82</td>\n",
       "      <td>0.000083</td>\n",
       "      <td>0.000480</td>\n",
       "    </tr>\n",
       "    <tr>\n",
       "      <th>6572</th>\n",
       "      <td>1997-07-04</td>\n",
       "      <td>4323.82</td>\n",
       "      <td>4291.45</td>\n",
       "      <td>-0.007486</td>\n",
       "      <td>-0.056920</td>\n",
       "    </tr>\n",
       "    <tr>\n",
       "      <th>6571</th>\n",
       "      <td>1997-07-07</td>\n",
       "      <td>4291.45</td>\n",
       "      <td>4306.39</td>\n",
       "      <td>0.003481</td>\n",
       "      <td>0.020078</td>\n",
       "    </tr>\n",
       "  </tbody>\n",
       "</table>\n",
       "</div>"
      ],
      "text/plain": [
       "           Date  adj_close  next_close  difference  sentiment\n",
       "6575 1997-07-01    4300.86     4333.90    0.007682   0.044305\n",
       "6574 1997-07-02    4333.90     4323.46   -0.002409  -0.018315\n",
       "6573 1997-07-03    4323.46     4323.82    0.000083   0.000480\n",
       "6572 1997-07-04    4323.82     4291.45   -0.007486  -0.056920\n",
       "6571 1997-07-07    4291.45     4306.39    0.003481   0.020078"
      ]
     },
     "execution_count": 11,
     "metadata": {},
     "output_type": "execute_result"
    }
   ],
   "source": [
    "data.head()"
   ]
  },
  {
   "cell_type": "markdown",
   "id": "6fd656f5-ad7b-4701-947c-63f5a4121a45",
   "metadata": {
    "id": "6fd656f5-ad7b-4701-947c-63f5a4121a45"
   },
   "source": [
    "## Historical Indian Financial News Data"
   ]
  },
  {
   "cell_type": "code",
   "execution_count": 12,
   "id": "761d1c7a-5077-47bc-8d76-80a5409eba09",
   "metadata": {
    "colab": {
     "base_uri": "https://localhost:8080/",
     "height": 310
    },
    "executionInfo": {
     "elapsed": 2723,
     "status": "ok",
     "timestamp": 1701486433497,
     "user": {
      "displayName": "Kishore S",
      "userId": "00960257451938731255"
     },
     "user_tz": 300
    },
    "id": "761d1c7a-5077-47bc-8d76-80a5409eba09",
    "outputId": "91021314-39f2-4afb-d088-0b20b61fdbce"
   },
   "outputs": [
    {
     "data": {
      "text/html": [
       "<div>\n",
       "<style scoped>\n",
       "    .dataframe tbody tr th:only-of-type {\n",
       "        vertical-align: middle;\n",
       "    }\n",
       "\n",
       "    .dataframe tbody tr th {\n",
       "        vertical-align: top;\n",
       "    }\n",
       "\n",
       "    .dataframe thead th {\n",
       "        text-align: right;\n",
       "    }\n",
       "</style>\n",
       "<table border=\"1\" class=\"dataframe\">\n",
       "  <thead>\n",
       "    <tr style=\"text-align: right;\">\n",
       "      <th></th>\n",
       "      <th>Date</th>\n",
       "      <th>Description</th>\n",
       "    </tr>\n",
       "  </thead>\n",
       "  <tbody>\n",
       "    <tr>\n",
       "      <th>49999</th>\n",
       "      <td>2003-02-10</td>\n",
       "      <td>Sticky Loans Divide Consortiums</td>\n",
       "    </tr>\n",
       "    <tr>\n",
       "      <th>49998</th>\n",
       "      <td>2003-02-10</td>\n",
       "      <td>Rbi Calls Meet To Push Floating Rate Deposits</td>\n",
       "    </tr>\n",
       "    <tr>\n",
       "      <th>49997</th>\n",
       "      <td>2003-02-10</td>\n",
       "      <td>Net Scheduled Inflows Of Rs 1,559.9 Crore</td>\n",
       "    </tr>\n",
       "    <tr>\n",
       "      <th>49996</th>\n",
       "      <td>2003-02-11</td>\n",
       "      <td>Banks Plan To Raise Lending Rates Without Alte...</td>\n",
       "    </tr>\n",
       "    <tr>\n",
       "      <th>49995</th>\n",
       "      <td>2003-02-11</td>\n",
       "      <td>Lic Mops Up Government Securities As Prices Cr...</td>\n",
       "    </tr>\n",
       "  </tbody>\n",
       "</table>\n",
       "</div>"
      ],
      "text/plain": [
       "            Date                                        Description\n",
       "49999 2003-02-10                   Sticky Loans Divide Consortiums \n",
       "49998 2003-02-10     Rbi Calls Meet To Push Floating Rate Deposits \n",
       "49997 2003-02-10         Net Scheduled Inflows Of Rs 1,559.9 Crore \n",
       "49996 2003-02-11  Banks Plan To Raise Lending Rates Without Alte...\n",
       "49995 2003-02-11  Lic Mops Up Government Securities As Prices Cr..."
      ]
     },
     "execution_count": 12,
     "metadata": {},
     "output_type": "execute_result"
    }
   ],
   "source": [
    "# Define the file path for the financial news data\n",
    "NEWS_DATA = os.path.join(DATA_DIR, \"IndianFinancialNews.csv\")\n",
    "\n",
    "# Read the financial news data from the CSV file and set the first column as the index\n",
    "news = pd.read_csv(NEWS_DATA, index_col=0)\n",
    "\n",
    "# Reverse the order of rows in the DataFrame to have the most recent data at the top\n",
    "news = news.iloc[::-1]\n",
    "\n",
    "# Convert the \"Date\" column to datetime format for time-based operations\n",
    "news['Date'] = pd.to_datetime(news['Date'])\n",
    "\n",
    "# Select only the \"Date\" and \"Description\" columns from the DataFrame\n",
    "news = news[[\"Date\", \"Description\"]]\n",
    "\n",
    "# Add a space at the end of each description in the \"Description\" column\n",
    "news['Description'] = news['Description'] + \" \"\n",
    "\n",
    "# Display the first few rows of the DataFrame to inspect the changes\n",
    "news.head()"
   ]
  },
  {
   "cell_type": "code",
   "execution_count": 13,
   "id": "f684169d-aad6-468b-9a0a-28e94345961a",
   "metadata": {
    "executionInfo": {
     "elapsed": 17,
     "status": "ok",
     "timestamp": 1701486433497,
     "user": {
      "displayName": "Kishore S",
      "userId": "00960257451938731255"
     },
     "user_tz": 300
    },
    "id": "f684169d-aad6-468b-9a0a-28e94345961a"
   },
   "outputs": [],
   "source": [
    "# Group the financial news DataFrame by 'Date' and aggregate the 'Description' column by summing up the descriptions for each date\n",
    "news = news.groupby(['Date']).agg({'Description': 'sum'}).reset_index()\n",
    "\n",
    "news.dropna(inplace=True)"
   ]
  },
  {
   "cell_type": "code",
   "execution_count": 14,
   "id": "874eb6d6-7540-4a00-811a-87ef91b9506e",
   "metadata": {
    "colab": {
     "base_uri": "https://localhost:8080/"
    },
    "executionInfo": {
     "elapsed": 15,
     "status": "ok",
     "timestamp": 1701486433497,
     "user": {
      "displayName": "Kishore S",
      "userId": "00960257451938731255"
     },
     "user_tz": 300
    },
    "id": "874eb6d6-7540-4a00-811a-87ef91b9506e",
    "outputId": "1421cfb5-8bae-468f-9c54-c54eda20ccec"
   },
   "outputs": [
    {
     "name": "stdout",
     "output_type": "stream",
     "text": [
      "<class 'pandas.core.frame.DataFrame'>\n",
      "RangeIndex: 6068 entries, 0 to 6067\n",
      "Data columns (total 2 columns):\n",
      " #   Column       Non-Null Count  Dtype         \n",
      "---  ------       --------------  -----         \n",
      " 0   Date         6068 non-null   datetime64[ns]\n",
      " 1   Description  6068 non-null   object        \n",
      "dtypes: datetime64[ns](1), object(1)\n",
      "memory usage: 94.9+ KB\n"
     ]
    }
   ],
   "source": [
    "news.info()"
   ]
  },
  {
   "cell_type": "markdown",
   "id": "cebda8b5-3820-44e3-a06e-47cede9121fe",
   "metadata": {
    "id": "cebda8b5-3820-44e3-a06e-47cede9121fe"
   },
   "source": [
    "## Merged Data"
   ]
  },
  {
   "cell_type": "code",
   "execution_count": 15,
   "id": "7fbab648-c989-4f8b-86e7-4e4d53227395",
   "metadata": {
    "executionInfo": {
     "elapsed": 186,
     "status": "ok",
     "timestamp": 1701486433674,
     "user": {
      "displayName": "Kishore S",
      "userId": "00960257451938731255"
     },
     "user_tz": 300
    },
    "id": "7fbab648-c989-4f8b-86e7-4e4d53227395"
   },
   "outputs": [],
   "source": [
    "# Merge the 'news' DataFrame and the 'data' DataFrame based on the 'Date' column using a left join\n",
    "merged = pd.merge(news, data, on=\"Date\", how=\"left\")\n",
    "\n",
    "# Backfill missing values in the 'sentiment' column to fill NaNs with the last valid value\n",
    "merged[\"sentiment\"] = merged[\"sentiment\"].bfill()\n",
    "\n",
    "# Select only the specified columns in the desired order ('Date', 'Description', 'sentiment')\n",
    "merged = merged[['Date', 'Description', 'sentiment']]\n",
    "\n",
    "# Drop any rows with missing values in the merged DataFrame\n",
    "merged.dropna(inplace=True)"
   ]
  },
  {
   "cell_type": "code",
   "execution_count": 16,
   "id": "22e5264c-f96d-457b-9435-dfc10ead169a",
   "metadata": {
    "colab": {
     "base_uri": "https://localhost:8080/"
    },
    "executionInfo": {
     "elapsed": 9,
     "status": "ok",
     "timestamp": 1701486433675,
     "user": {
      "displayName": "Kishore S",
      "userId": "00960257451938731255"
     },
     "user_tz": 300
    },
    "id": "22e5264c-f96d-457b-9435-dfc10ead169a",
    "outputId": "469d3e04-b352-423d-f6d0-0f286c528a59"
   },
   "outputs": [
    {
     "name": "stdout",
     "output_type": "stream",
     "text": [
      "<class 'pandas.core.frame.DataFrame'>\n",
      "RangeIndex: 6068 entries, 0 to 6067\n",
      "Data columns (total 3 columns):\n",
      " #   Column       Non-Null Count  Dtype         \n",
      "---  ------       --------------  -----         \n",
      " 0   Date         6068 non-null   datetime64[ns]\n",
      " 1   Description  6068 non-null   object        \n",
      " 2   sentiment    6068 non-null   float64       \n",
      "dtypes: datetime64[ns](1), float64(1), object(1)\n",
      "memory usage: 142.3+ KB\n"
     ]
    }
   ],
   "source": [
    "merged.info()"
   ]
  },
  {
   "cell_type": "code",
   "execution_count": 17,
   "id": "e9e50598-3004-4828-b994-a0c61c602490",
   "metadata": {},
   "outputs": [
    {
     "data": {
      "text/html": [
       "<div>\n",
       "<style scoped>\n",
       "    .dataframe tbody tr th:only-of-type {\n",
       "        vertical-align: middle;\n",
       "    }\n",
       "\n",
       "    .dataframe tbody tr th {\n",
       "        vertical-align: top;\n",
       "    }\n",
       "\n",
       "    .dataframe thead th {\n",
       "        text-align: right;\n",
       "    }\n",
       "</style>\n",
       "<table border=\"1\" class=\"dataframe\">\n",
       "  <thead>\n",
       "    <tr style=\"text-align: right;\">\n",
       "      <th></th>\n",
       "      <th>Date</th>\n",
       "      <th>Description</th>\n",
       "      <th>sentiment</th>\n",
       "    </tr>\n",
       "  </thead>\n",
       "  <tbody>\n",
       "    <tr>\n",
       "      <th>0</th>\n",
       "      <td>2003-02-10</td>\n",
       "      <td>Sticky Loans Divide Consortiums Rbi Calls Meet...</td>\n",
       "      <td>0.008163</td>\n",
       "    </tr>\n",
       "    <tr>\n",
       "      <th>1</th>\n",
       "      <td>2003-02-11</td>\n",
       "      <td>Banks Plan To Raise Lending Rates Without Alte...</td>\n",
       "      <td>-0.032543</td>\n",
       "    </tr>\n",
       "    <tr>\n",
       "      <th>2</th>\n",
       "      <td>2003-02-12</td>\n",
       "      <td>Sabre Sees Major Role In Banking M &amp; A Space L...</td>\n",
       "      <td>-0.056423</td>\n",
       "    </tr>\n",
       "    <tr>\n",
       "      <th>3</th>\n",
       "      <td>2003-02-13</td>\n",
       "      <td>State Bank Plans Home Loan Plr Hsbc Offers Che...</td>\n",
       "      <td>0.105633</td>\n",
       "    </tr>\n",
       "    <tr>\n",
       "      <th>4</th>\n",
       "      <td>2003-02-14</td>\n",
       "      <td>Insurance Broking Magnate Draws Mattress Vendo...</td>\n",
       "      <td>0.105633</td>\n",
       "    </tr>\n",
       "  </tbody>\n",
       "</table>\n",
       "</div>"
      ],
      "text/plain": [
       "        Date                                        Description  sentiment\n",
       "0 2003-02-10  Sticky Loans Divide Consortiums Rbi Calls Meet...   0.008163\n",
       "1 2003-02-11  Banks Plan To Raise Lending Rates Without Alte...  -0.032543\n",
       "2 2003-02-12  Sabre Sees Major Role In Banking M & A Space L...  -0.056423\n",
       "3 2003-02-13  State Bank Plans Home Loan Plr Hsbc Offers Che...   0.105633\n",
       "4 2003-02-14  Insurance Broking Magnate Draws Mattress Vendo...   0.105633"
      ]
     },
     "execution_count": 17,
     "metadata": {},
     "output_type": "execute_result"
    }
   ],
   "source": [
    "merged.head()"
   ]
  },
  {
   "cell_type": "code",
   "execution_count": 18,
   "id": "299b6b4b-4f59-4501-8109-fd5a9fef519d",
   "metadata": {
    "executionInfo": {
     "elapsed": 1391,
     "status": "ok",
     "timestamp": 1701486435808,
     "user": {
      "displayName": "Kishore S",
      "userId": "00960257451938731255"
     },
     "user_tz": 300
    },
    "id": "299b6b4b-4f59-4501-8109-fd5a9fef519d"
   },
   "outputs": [],
   "source": [
    "MERGED_DATA = os.path.join(DATA_DIR, \"merged.csv\")\n",
    "\n",
    "merged.to_csv(MERGED_DATA)"
   ]
  },
  {
   "cell_type": "markdown",
   "id": "c1a4a35d-745f-40c8-a75f-d6b92bcdfe8a",
   "metadata": {
    "id": "c1a4a35d-745f-40c8-a75f-d6b92bcdfe8a"
   },
   "source": [
    "## Natural Language Processing"
   ]
  },
  {
   "cell_type": "markdown",
   "id": "0fcdb6d8-890c-4232-90c8-97ab1fb6a16f",
   "metadata": {
    "id": "0fcdb6d8-890c-4232-90c8-97ab1fb6a16f"
   },
   "source": [
    "### Using Text Blob\n",
    "Text Blob is a Python library for Natural Language Processing. Using Text Blob for sentiment analysis is quite simple. It takes text as an input and can return polarity and subjectivity as outputs.\n",
    "\n",
    "Polarity determines the sentiment of the text. Its values lie in $[-1,1]$ where -1 denotes a highly negative sentiment and 1 denotes a highly positive sentiment."
   ]
  },
  {
   "cell_type": "code",
   "execution_count": 19,
   "id": "4c0c9b27-25f0-48ec-931d-1e06aeda90e1",
   "metadata": {
    "executionInfo": {
     "elapsed": 1558,
     "status": "ok",
     "timestamp": 1701486437362,
     "user": {
      "displayName": "Kishore S",
      "userId": "00960257451938731255"
     },
     "user_tz": 300
    },
    "id": "4c0c9b27-25f0-48ec-931d-1e06aeda90e1"
   },
   "outputs": [],
   "source": [
    "from textblob import TextBlob\n",
    "\n",
    "from tqdm import tqdm\n",
    "\n",
    "tqdm.pandas()"
   ]
  },
  {
   "cell_type": "code",
   "execution_count": 20,
   "id": "8d0408ce-390b-4d46-8c24-517d572ba735",
   "metadata": {
    "colab": {
     "base_uri": "https://localhost:8080/"
    },
    "executionInfo": {
     "elapsed": 25214,
     "status": "ok",
     "timestamp": 1701486462564,
     "user": {
      "displayName": "Kishore S",
      "userId": "00960257451938731255"
     },
     "user_tz": 300
    },
    "id": "8d0408ce-390b-4d46-8c24-517d572ba735",
    "outputId": "bacf8a5d-58a0-4ab8-cd74-b91c37f55e05"
   },
   "outputs": [
    {
     "name": "stderr",
     "output_type": "stream",
     "text": [
      "100%|█████████████████████████████████████| 6068/6068 [00:03<00:00, 1745.76it/s]\n"
     ]
    }
   ],
   "source": [
    "merged['TextBlob'] = merged['Description'].progress_apply(lambda x: TextBlob(str(x)).sentiment.polarity)"
   ]
  },
  {
   "cell_type": "markdown",
   "id": "ef6b10b3-f757-4dbc-bd58-ff1bd3c52a57",
   "metadata": {
    "id": "ef6b10b3-f757-4dbc-bd58-ff1bd3c52a57"
   },
   "source": [
    "#### Error Metrics for TextBlob"
   ]
  },
  {
   "cell_type": "code",
   "execution_count": 21,
   "id": "9c0f2851-0967-4d5b-bb6c-11841630bea3",
   "metadata": {
    "executionInfo": {
     "elapsed": 23,
     "status": "ok",
     "timestamp": 1701486462949,
     "user": {
      "displayName": "Kishore S",
      "userId": "00960257451938731255"
     },
     "user_tz": 300
    },
    "id": "9c0f2851-0967-4d5b-bb6c-11841630bea3"
   },
   "outputs": [],
   "source": [
    "from sklearn.metrics import mean_squared_error, mean_squared_error, mean_absolute_error, r2_score\n",
    "from sklearn.model_selection import train_test_split\n",
    "import numpy as np"
   ]
  },
  {
   "cell_type": "code",
   "execution_count": 22,
   "id": "a6b83f50-ea63-4673-940e-7d6a13618646",
   "metadata": {
    "colab": {
     "base_uri": "https://localhost:8080/"
    },
    "executionInfo": {
     "elapsed": 23,
     "status": "ok",
     "timestamp": 1701486462951,
     "user": {
      "displayName": "Kishore S",
      "userId": "00960257451938731255"
     },
     "user_tz": 300
    },
    "id": "a6b83f50-ea63-4673-940e-7d6a13618646",
    "outputId": "2ecb1420-ed3f-4720-d50f-0771bc4bbfc4"
   },
   "outputs": [
    {
     "name": "stdout",
     "output_type": "stream",
     "text": [
      "\n",
      "Regression Metrics:\n",
      "Mean Squared Error: 0.0211\n",
      "R-squared (R2) Score: -1.3533\n",
      "Root Mean Squared Error (RMSE): 0.1451\n"
     ]
    }
   ],
   "source": [
    "# Regression metrics (for illustration)\n",
    "mse = mean_squared_error(merged['sentiment'], merged['TextBlob'])\n",
    "r2 = r2_score(merged['sentiment'], merged['TextBlob'])\n",
    "rmse = np.sqrt(mean_squared_error(merged['sentiment'], merged['TextBlob']))\n",
    "\n",
    "print(\"\\nRegression Metrics:\")\n",
    "print(f\"Mean Squared Error: {mse:.4f}\")\n",
    "print(f\"R-squared (R2) Score: {r2:.4f}\")\n",
    "print(f\"Root Mean Squared Error (RMSE): {rmse:.4f}\")"
   ]
  },
  {
   "cell_type": "markdown",
   "id": "781c95fb-3454-49e0-a446-7f47209a4c52",
   "metadata": {
    "id": "781c95fb-3454-49e0-a446-7f47209a4c52"
   },
   "source": [
    "### Using FinBERT\n",
    "\n",
    "**FinBERT** is a pre-trained NLP model to analyze sentiment of financial text. It is built by further training the BERT language model in the finance domain, using a large financial corpus and thereby fine-tuning it for financial sentiment classification."
   ]
  },
  {
   "cell_type": "code",
   "execution_count": 23,
   "id": "4dbec5d6-8158-43ed-8696-c03126d9c8f4",
   "metadata": {
    "executionInfo": {
     "elapsed": 29,
     "status": "ok",
     "timestamp": 1701486469952,
     "user": {
      "displayName": "Kishore S",
      "userId": "00960257451938731255"
     },
     "user_tz": 300
    },
    "id": "4dbec5d6-8158-43ed-8696-c03126d9c8f4"
   },
   "outputs": [],
   "source": [
    "from transformers import pipeline\n",
    "\n",
    "sentiment_pipeline = pipeline(\"text-classification\", model=\"ProsusAI/finbert\")"
   ]
  },
  {
   "cell_type": "code",
   "execution_count": 24,
   "id": "65a0e8b6-63f2-46df-a6a5-b46568e9ba92",
   "metadata": {
    "colab": {
     "base_uri": "https://localhost:8080/"
    },
    "executionInfo": {
     "elapsed": 40425,
     "status": "ok",
     "timestamp": 1701486510352,
     "user": {
      "displayName": "Kishore S",
      "userId": "00960257451938731255"
     },
     "user_tz": 300
    },
    "id": "65a0e8b6-63f2-46df-a6a5-b46568e9ba92",
    "outputId": "94567991-14dc-4985-e4fc-0874c1ccb066"
   },
   "outputs": [
    {
     "name": "stderr",
     "output_type": "stream",
     "text": [
      "100%|███████████████████████████████████████| 6068/6068 [04:57<00:00, 20.38it/s]\n"
     ]
    }
   ],
   "source": [
    "def get_sentiment_scores(headlines):\n",
    "    result = sentiment_pipeline(headlines[:500])[0]\n",
    "\n",
    "    label = result['label']\n",
    "    score = result['score']\n",
    "\n",
    "    if label == 'negative':\n",
    "        score = -1 * score\n",
    "\n",
    "    return score\n",
    "\n",
    "\n",
    "merged['FinBERT'] = merged['Description'].progress_apply(lambda x: get_sentiment_scores(str(x)))"
   ]
  },
  {
   "cell_type": "markdown",
   "id": "7835c18e-66e8-4c19-ae1b-b2d952c36844",
   "metadata": {
    "id": "ef6b10b3-f757-4dbc-bd58-ff1bd3c52a57"
   },
   "source": [
    "#### Error Metrics for TextBlob"
   ]
  },
  {
   "cell_type": "code",
   "execution_count": 25,
   "id": "64dbc6dd-9e5a-48b5-a8bf-abb690805710",
   "metadata": {
    "colab": {
     "base_uri": "https://localhost:8080/"
    },
    "executionInfo": {
     "elapsed": 154,
     "status": "ok",
     "timestamp": 1701486510489,
     "user": {
      "displayName": "Kishore S",
      "userId": "00960257451938731255"
     },
     "user_tz": 300
    },
    "id": "64dbc6dd-9e5a-48b5-a8bf-abb690805710",
    "outputId": "136b5782-e631-4784-b2f4-e6b17ea580f8"
   },
   "outputs": [
    {
     "name": "stdout",
     "output_type": "stream",
     "text": [
      "\n",
      "Regression Metrics:\n",
      "Mean Squared Error: 0.1623\n",
      "R-squared (R2) Score: -0.9857\n",
      "Root Mean Squared Error (RMSE): 0.1274\n"
     ]
    }
   ],
   "source": [
    "# Regression metrics (for illustration)\n",
    "mse = mean_squared_error(merged['sentiment'], merged['FinBERT'])\n",
    "r2 = r2_score(merged['sentiment'], merged['FinBERT'])\n",
    "rmse = np.sqrt(mean_squared_error(merged['sentiment'], merged['FinBERT']))\n",
    "\n",
    "print(\"\\nRegression Metrics:\")\n",
    "print(f\"Mean Squared Error: {mse:.4f}\")\n",
    "print(f\"R-squared (R2) Score: {r2:.4f}\")\n",
    "print(f\"Root Mean Squared Error (RMSE): {rmse:.4f}\")"
   ]
  },
  {
   "cell_type": "markdown",
   "id": "793d387c-3423-4379-964e-a2a5151fc5c5",
   "metadata": {
    "id": "793d387c-3423-4379-964e-a2a5151fc5c5"
   },
   "source": [
    "### Training LSTM Model"
   ]
  },
  {
   "cell_type": "code",
   "execution_count": 26,
   "id": "b5d8bff2-b92d-48cc-b8eb-da3c750f96fd",
   "metadata": {
    "executionInfo": {
     "elapsed": 18078,
     "status": "ok",
     "timestamp": 1701486532411,
     "user": {
      "displayName": "Kishore S",
      "userId": "00960257451938731255"
     },
     "user_tz": 300
    },
    "id": "b5d8bff2-b92d-48cc-b8eb-da3c750f96fd"
   },
   "outputs": [],
   "source": [
    "# Pre-processing function for cleaning text data\n",
    "def cleaning(headlines):\n",
    "    # Get the list of English stop words\n",
    "    stop_words = stopwords.words('english')\n",
    "\n",
    "    # Convert text to lowercase\n",
    "    headlines = ' '.join(x.lower() for x in str(headlines).split())\n",
    "    \n",
    "    # Remove the letter 'd'\n",
    "    headlines = headlines.replace('d', '')\n",
    "    \n",
    "    # Remove stop words\n",
    "    headlines = ' '.join(x for x in str(headlines).split() if x not in stop_words)\n",
    "    \n",
    "    # Lemmatization using the WordNetLemmatizer\n",
    "    headlines = ' '.join([Word(headlines).lemmatize() for x in str(headlines).split()])\n",
    "    \n",
    "    return headlines\n",
    "\n",
    "# Apply the 'cleaning' function to the 'Description' column and create a new column named 'cleaned'\n",
    "merged['cleaned'] = merged['Description'].apply(cleaning)"
   ]
  },
  {
   "cell_type": "code",
   "execution_count": 27,
   "id": "8586091b-114e-40b4-aa96-784ece78be24",
   "metadata": {
    "executionInfo": {
     "elapsed": 3643,
     "status": "ok",
     "timestamp": 1701486536043,
     "user": {
      "displayName": "Kishore S",
      "userId": "00960257451938731255"
     },
     "user_tz": 300
    },
    "id": "8586091b-114e-40b4-aa96-784ece78be24"
   },
   "outputs": [],
   "source": [
    "# Set the maximum number of words to tokenize and the maximum sequence length for padding\n",
    "max_words = 5000  # Maximum number of words to tokenize\n",
    "max_sequence_length = 100  # Maximum sequence length for padding\n",
    "\n",
    "# Create a tokenizer with a specified maximum number of words and an out-of-vocabulary token\n",
    "tokenizer = Tokenizer(num_words=max_words, oov_token='<OOV>')\n",
    "\n",
    "# Fit the tokenizer on the 'cleaned' column of the DataFrame\n",
    "tokenizer.fit_on_texts(merged['cleaned'])\n",
    "\n",
    "# Convert the text data to sequences of integers using the tokenizer\n",
    "X = tokenizer.texts_to_sequences(merged['cleaned'])\n",
    "\n",
    "# Pad the sequences to ensure uniform length using the specified maximum sequence length\n",
    "X = pad_sequences(X, maxlen=max_sequence_length, padding='post', truncating='post')"
   ]
  },
  {
   "cell_type": "code",
   "execution_count": 28,
   "id": "ec7f554f-75b0-492b-a51c-f0824c159493",
   "metadata": {},
   "outputs": [
    {
     "data": {
      "text/plain": [
       "22350"
      ]
     },
     "execution_count": 28,
     "metadata": {},
     "output_type": "execute_result"
    }
   ],
   "source": [
    "len(tokenizer.word_index)"
   ]
  },
  {
   "cell_type": "code",
   "execution_count": 29,
   "id": "13565533-d97d-44d9-81fb-ebf4febb0784",
   "metadata": {
    "executionInfo": {
     "elapsed": 2275,
     "status": "ok",
     "timestamp": 1701486538301,
     "user": {
      "displayName": "Kishore S",
      "userId": "00960257451938731255"
     },
     "user_tz": 300
    },
    "id": "f9eb305e-5193-4b74-bf09-00683d0156c1"
   },
   "outputs": [],
   "source": [
    "# Set y labels\n",
    "y = merged['sentiment'].values"
   ]
  },
  {
   "cell_type": "markdown",
   "id": "1f7a9057-2fd9-4db2-a14c-fcdf29bc3356",
   "metadata": {},
   "source": [
    "### Custom NLP Model 1"
   ]
  },
  {
   "cell_type": "code",
   "execution_count": 30,
   "id": "dd0a9a7c-9557-48b1-ac4c-142432f6a93a",
   "metadata": {
    "executionInfo": {
     "elapsed": 2495,
     "status": "ok",
     "timestamp": 1701486540784,
     "user": {
      "displayName": "Kishore S",
      "userId": "00960257451938731255"
     },
     "user_tz": 300
    },
    "id": "dd0a9a7c-9557-48b1-ac4c-142432f6a93a"
   },
   "outputs": [
    {
     "name": "stderr",
     "output_type": "stream",
     "text": [
      "2023-12-12 18:28:35.152771: I metal_plugin/src/device/metal_device.cc:1154] Metal device set to: Apple M1 Pro\n",
      "2023-12-12 18:28:35.152814: I metal_plugin/src/device/metal_device.cc:296] systemMemory: 16.00 GB\n",
      "2023-12-12 18:28:35.152818: I metal_plugin/src/device/metal_device.cc:313] maxCacheSize: 5.33 GB\n",
      "2023-12-12 18:28:35.153016: I tensorflow/core/common_runtime/pluggable_device/pluggable_device_factory.cc:306] Could not identify NUMA node of platform GPU ID 0, defaulting to 0. Your kernel may not have been built with NUMA support.\n",
      "2023-12-12 18:28:35.153371: I tensorflow/core/common_runtime/pluggable_device/pluggable_device_factory.cc:272] Created TensorFlow device (/job:localhost/replica:0/task:0/device:GPU:0 with 0 MB memory) -> physical PluggableDevice (device: 0, name: METAL, pci bus id: <undefined>)\n"
     ]
    }
   ],
   "source": [
    "# Split the data into training and testing sets\n",
    "X_train, X_test, y_train, y_test = train_test_split(X, y, test_size=0.2, random_state=42)\n",
    "\n",
    "# Build the LSTM model\n",
    "embedding_dim = 100\n",
    "\n",
    "model = Sequential()\n",
    "model.add(Embedding(input_dim=max_words, output_dim=embedding_dim, input_length=max_sequence_length))\n",
    "model.add(LSTM(units=100, activation='tanh'))\n",
    "model.add(Dense(1, activation='linear'))\n",
    "\n",
    "# Compile the model\n",
    "model.compile(optimizer=Adam(learning_rate=0.001), loss='mean_squared_error')"
   ]
  },
  {
   "cell_type": "code",
   "execution_count": 31,
   "id": "231373f3-8ec3-43c7-be36-4463005e84c3",
   "metadata": {},
   "outputs": [
    {
     "name": "stderr",
     "output_type": "stream",
     "text": [
      "huggingface/tokenizers: The current process just got forked, after parallelism has already been used. Disabling parallelism to avoid deadlocks...\n",
      "To disable this warning, you can either:\n",
      "\t- Avoid using `tokenizers` before the fork if possible\n",
      "\t- Explicitly set the environment variable TOKENIZERS_PARALLELISM=(true | false)\n",
      "huggingface/tokenizers: The current process just got forked, after parallelism has already been used. Disabling parallelism to avoid deadlocks...\n",
      "To disable this warning, you can either:\n",
      "\t- Avoid using `tokenizers` before the fork if possible\n",
      "\t- Explicitly set the environment variable TOKENIZERS_PARALLELISM=(true | false)\n"
     ]
    },
    {
     "data": {
      "image/png": "[encoded data removed]",
      "text/plain": [
       "<IPython.core.display.Image object>"
      ]
     },
     "execution_count": 31,
     "metadata": {},
     "output_type": "execute_result"
    }
   ],
   "source": [
    "from keras.utils import plot_model\n",
    "\n",
    "# Plotting the architecture of the model\n",
    "plot_model(model)"
   ]
  },
  {
   "cell_type": "code",
   "execution_count": 32,
   "id": "FY70MNA5y0Iy",
   "metadata": {
    "colab": {
     "base_uri": "https://localhost:8080/",
     "height": 600
    },
    "executionInfo": {
     "elapsed": 117404,
     "status": "error",
     "timestamp": 1701486658182,
     "user": {
      "displayName": "Kishore S",
      "userId": "00960257451938731255"
     },
     "user_tz": 300
    },
    "id": "FY70MNA5y0Iy",
    "outputId": "47aca74a-4a34-4d00-cbac-befc73514aa9"
   },
   "outputs": [
    {
     "name": "stdout",
     "output_type": "stream",
     "text": [
      "Epoch 1/10\n"
     ]
    },
    {
     "name": "stderr",
     "output_type": "stream",
     "text": [
      "2023-12-12 18:28:37.752853: I tensorflow/core/grappler/optimizers/custom_graph_optimizer_registry.cc:117] Plugin optimizer for device_type GPU is enabled.\n"
     ]
    },
    {
     "name": "stdout",
     "output_type": "stream",
     "text": [
      "137/137 [==============================] - 34s 211ms/step - loss: 0.0090 - val_loss: 0.0086\n",
      "Epoch 2/10\n",
      "137/137 [==============================] - 16s 114ms/step - loss: 0.0077 - val_loss: 0.0100\n",
      "Epoch 3/10\n",
      "137/137 [==============================] - 12s 85ms/step - loss: 0.0051 - val_loss: 0.0117\n",
      "Epoch 4/10\n",
      "137/137 [==============================] - 8s 56ms/step - loss: 0.0031 - val_loss: 0.0117\n",
      "Epoch 5/10\n",
      "137/137 [==============================] - 8s 56ms/step - loss: 0.0022 - val_loss: 0.0136\n",
      "Epoch 6/10\n",
      "137/137 [==============================] - 7s 54ms/step - loss: 0.0015 - val_loss: 0.0152\n",
      "Epoch 7/10\n",
      "137/137 [==============================] - 7s 51ms/step - loss: 0.0010 - val_loss: 0.0139\n",
      "Epoch 8/10\n",
      "137/137 [==============================] - 6s 44ms/step - loss: 7.2865e-04 - val_loss: 0.0143\n",
      "Epoch 9/10\n",
      "137/137 [==============================] - 5s 36ms/step - loss: 5.8324e-04 - val_loss: 0.0142\n",
      "Epoch 10/10\n",
      "137/137 [==============================] - 6s 45ms/step - loss: 5.4418e-04 - val_loss: 0.0148\n"
     ]
    },
    {
     "data": {
      "image/png": "[encoded data removed]",
      "text/plain": [
       "<Figure size 640x480 with 1 Axes>"
      ]
     },
     "metadata": {},
     "output_type": "display_data"
    }
   ],
   "source": [
    "# Train the model and capture the history\n",
    "history = model.fit(X_train, y_train, epochs=10, batch_size=32, validation_split=0.1)\n",
    "\n",
    "# Plot the training loss and validation loss over epochs\n",
    "plt.plot(history.history['loss'], label='Training Loss')\n",
    "plt.plot(history.history['val_loss'], label='Validation Loss')\n",
    "plt.xlabel('Epochs')\n",
    "plt.ylabel('Mean Squared Error Loss')\n",
    "plt.legend()\n",
    "plt.show()"
   ]
  },
  {
   "cell_type": "code",
   "execution_count": 33,
   "id": "8ec4dd09-4759-422e-bcfa-e5d89d48078c",
   "metadata": {},
   "outputs": [
    {
     "name": "stdout",
     "output_type": "stream",
     "text": [
      "38/38 [==============================] - 2s 18ms/step\n"
     ]
    }
   ],
   "source": [
    "predictions = model.predict(X_test)"
   ]
  },
  {
   "cell_type": "markdown",
   "id": "d87a3d79-5aa8-4032-af75-c22d34f8a848",
   "metadata": {},
   "source": [
    "#### Error Metrics for Custom NLP 1"
   ]
  },
  {
   "cell_type": "code",
   "execution_count": 34,
   "id": "e48611d6-b30d-449c-ab71-6c090d9f90f7",
   "metadata": {},
   "outputs": [
    {
     "name": "stdout",
     "output_type": "stream",
     "text": [
      "\n",
      "Regression Metrics:\n",
      "Mean Squared Error: 0.0119\n",
      "R-squared (R2) Score: -0.8818\n",
      "Root Mean Squared Error (RMSE): 0.1092\n"
     ]
    }
   ],
   "source": [
    "# Regression metrics (for illustration)\n",
    "mse = mean_squared_error(merged['sentiment'].values[-1214:], predictions)\n",
    "r2 = r2_score(merged['sentiment'].values[-1214:], predictions)\n",
    "rmse = np.sqrt(mean_squared_error(merged['sentiment'].values[-1214:], predictions))\n",
    "\n",
    "print(\"\\nRegression Metrics:\")\n",
    "print(f\"Mean Squared Error: {mse:.4f}\")\n",
    "print(f\"R-squared (R2) Score: {r2:.4f}\")\n",
    "print(f\"Root Mean Squared Error (RMSE): {rmse:.4f}\")"
   ]
  },
  {
   "cell_type": "code",
   "execution_count": 35,
   "id": "d71c4e53-2f3b-4873-951a-bbabe50fbbc0",
   "metadata": {
    "executionInfo": {
     "elapsed": 18,
     "status": "aborted",
     "timestamp": 1701486658184,
     "user": {
      "displayName": "Kishore S",
      "userId": "00960257451938731255"
     },
     "user_tz": 300
    },
    "id": "d71c4e53-2f3b-4873-951a-bbabe50fbbc0"
   },
   "outputs": [],
   "source": [
    "# Save Model\n",
    "\n",
    "model.save(\"custom_nlp1.keras\")"
   ]
  },
  {
   "cell_type": "markdown",
   "id": "34bc58ad-be5a-4fae-bf6f-8d4fba50efb4",
   "metadata": {
    "executionInfo": {
     "elapsed": 1893,
     "status": "ok",
     "timestamp": 1701486944642,
     "user": {
      "displayName": "Kishore S",
      "userId": "00960257451938731255"
     },
     "user_tz": 300
    },
    "id": "w9WijXSfe7ZQ"
   },
   "source": [
    "### Custom NLP Model 2"
   ]
  },
  {
   "cell_type": "code",
   "execution_count": 36,
   "id": "aolpNd3nwlth",
   "metadata": {
    "executionInfo": {
     "elapsed": 773,
     "status": "ok",
     "timestamp": 1701486664200,
     "user": {
      "displayName": "Kishore S",
      "userId": "00960257451938731255"
     },
     "user_tz": 300
    },
    "id": "aolpNd3nwlth"
   },
   "outputs": [],
   "source": [
    "# Split the data into training and testing sets\n",
    "X_train, X_test, y_train, y_test = train_test_split(X, y, test_size=0.2, random_state=42)\n",
    "\n",
    "# Build the LSTM model\n",
    "embedding_dim = 100\n",
    "\n",
    "model = Sequential()\n",
    "model.add(Embedding(input_dim=max_words, output_dim=embedding_dim, input_length=max_sequence_length))\n",
    "model.add(LSTM(units=100, activation='tanh', return_sequences=True))\n",
    "model.add(Dropout(0.2))\n",
    "model.add(LSTM(units=50, activation='tanh'))\n",
    "model.add(Dense(50, activation='relu'))\n",
    "model.add(Dropout(0.2))\n",
    "model.add(Dense(1, activation='linear'))\n",
    "# Compile the model\n",
    "model.compile(optimizer=Adam(learning_rate=0.001), loss='mean_squared_error')"
   ]
  },
  {
   "cell_type": "code",
   "execution_count": 37,
   "id": "6115d1d8-c14e-49ae-a888-e27bd173d572",
   "metadata": {},
   "outputs": [
    {
     "name": "stderr",
     "output_type": "stream",
     "text": [
      "huggingface/tokenizers: The current process just got forked, after parallelism has already been used. Disabling parallelism to avoid deadlocks...\n",
      "To disable this warning, you can either:\n",
      "\t- Avoid using `tokenizers` before the fork if possible\n",
      "\t- Explicitly set the environment variable TOKENIZERS_PARALLELISM=(true | false)\n",
      "huggingface/tokenizers: The current process just got forked, after parallelism has already been used. Disabling parallelism to avoid deadlocks...\n",
      "To disable this warning, you can either:\n",
      "\t- Avoid using `tokenizers` before the fork if possible\n",
      "\t- Explicitly set the environment variable TOKENIZERS_PARALLELISM=(true | false)\n"
     ]
    },
    {
     "data": {
      "image/png": "[encoded data removed]",
      "text/plain": [
       "<IPython.core.display.Image object>"
      ]
     },
     "execution_count": 37,
     "metadata": {},
     "output_type": "execute_result"
    }
   ],
   "source": [
    "# Plotting the architecture of the model\n",
    "\n",
    "plot_model(model)"
   ]
  },
  {
   "cell_type": "code",
   "execution_count": 38,
   "id": "oXeAfBMkwlq1",
   "metadata": {
    "colab": {
     "base_uri": "https://localhost:8080/"
    },
    "executionInfo": {
     "elapsed": 205431,
     "status": "ok",
     "timestamp": 1701486869629,
     "user": {
      "displayName": "Kishore S",
      "userId": "00960257451938731255"
     },
     "user_tz": 300
    },
    "id": "oXeAfBMkwlq1",
    "outputId": "6fc4fb83-bbf6-4ea7-edbe-6af6001b5ac3"
   },
   "outputs": [
    {
     "name": "stdout",
     "output_type": "stream",
     "text": [
      "Epoch 1/10\n",
      "137/137 [==============================] - 38s 208ms/step - loss: 0.0092 - val_loss: 0.0084\n",
      "Epoch 2/10\n",
      "137/137 [==============================] - 15s 108ms/step - loss: 0.0089 - val_loss: 0.0088\n",
      "Epoch 3/10\n",
      "137/137 [==============================] - 11s 81ms/step - loss: 0.0079 - val_loss: 0.0118\n",
      "Epoch 4/10\n",
      "137/137 [==============================] - 8s 58ms/step - loss: 0.0077 - val_loss: 0.0113\n",
      "Epoch 5/10\n",
      "137/137 [==============================] - 8s 58ms/step - loss: 0.0062 - val_loss: 0.0109\n",
      "Epoch 6/10\n",
      "137/137 [==============================] - 8s 56ms/step - loss: 0.0053 - val_loss: 0.0115\n",
      "Epoch 7/10\n",
      "137/137 [==============================] - 8s 56ms/step - loss: 0.0045 - val_loss: 0.0114\n",
      "Epoch 8/10\n",
      "137/137 [==============================] - 7s 50ms/step - loss: 0.0041 - val_loss: 0.0121\n",
      "Epoch 9/10\n",
      "137/137 [==============================] - 6s 44ms/step - loss: 0.0033 - val_loss: 0.0129\n",
      "Epoch 10/10\n",
      "137/137 [==============================] - 7s 52ms/step - loss: 0.0024 - val_loss: 0.0122\n"
     ]
    }
   ],
   "source": [
    "# Train the model and capture the history\n",
    "history = model.fit(X_train, y_train, epochs=10, batch_size=32, validation_split=0.1)"
   ]
  },
  {
   "cell_type": "code",
   "execution_count": 39,
   "id": "YkE_PLiv2y47",
   "metadata": {
    "colab": {
     "base_uri": "https://localhost:8080/",
     "height": 449
    },
    "executionInfo": {
     "elapsed": 224,
     "status": "ok",
     "timestamp": 1701486869842,
     "user": {
      "displayName": "Kishore S",
      "userId": "00960257451938731255"
     },
     "user_tz": 300
    },
    "id": "YkE_PLiv2y47",
    "outputId": "ffc1d49d-2e0a-4c52-c9ed-806da79fbac6"
   },
   "outputs": [
    {
     "data": {
      "image/png": "[encoded data removed]",
      "text/plain": [
       "<Figure size 640x480 with 1 Axes>"
      ]
     },
     "metadata": {},
     "output_type": "display_data"
    }
   ],
   "source": [
    "# Plot the training loss and validation loss over epochs\n",
    "plt.plot(history.history['loss'], label='Training Loss')\n",
    "plt.plot(history.history['val_loss'], label='Validation Loss')\n",
    "plt.xlabel('Epochs')\n",
    "plt.ylabel('Mean Squared Error Loss')\n",
    "plt.legend()\n",
    "plt.show()"
   ]
  },
  {
   "cell_type": "code",
   "execution_count": 40,
   "id": "66ac851c-380b-48c6-9d89-fd6461d396ba",
   "metadata": {},
   "outputs": [
    {
     "name": "stdout",
     "output_type": "stream",
     "text": [
      "38/38 [==============================] - 3s 30ms/step\n"
     ]
    }
   ],
   "source": [
    "predictions = model.predict(X_test)"
   ]
  },
  {
   "cell_type": "markdown",
   "id": "e2fff800-f95d-456c-a1ed-fc79465688a5",
   "metadata": {},
   "source": [
    "#### Custom NLP Model 2"
   ]
  },
  {
   "cell_type": "code",
   "execution_count": 41,
   "id": "DgKn19bqwloC",
   "metadata": {
    "colab": {
     "base_uri": "https://localhost:8080/"
    },
    "executionInfo": {
     "elapsed": 1346,
     "status": "ok",
     "timestamp": 1701486871168,
     "user": {
      "displayName": "Kishore S",
      "userId": "00960257451938731255"
     },
     "user_tz": 300
    },
    "id": "DgKn19bqwloC",
    "outputId": "79dc726b-6017-455f-eb11-6f85c2ed1d57"
   },
   "outputs": [
    {
     "name": "stdout",
     "output_type": "stream",
     "text": [
      "\n",
      "Regression Metrics:\n",
      "Mean Squared Error: 0.0100\n",
      "R-squared (R2) Score: -0.5813\n",
      "Root Mean Squared Error (RMSE): 0.1001\n"
     ]
    }
   ],
   "source": [
    "# Regression metrics (for illustration)\n",
    "mse = mean_squared_error(merged['sentiment'].values[-1214:], predictions)\n",
    "r2 = r2_score(merged['sentiment'].values[-1214:], predictions)\n",
    "rmse = np.sqrt(mean_squared_error(merged['sentiment'].values[-1214:], predictions))\n",
    "\n",
    "print(\"\\nRegression Metrics:\")\n",
    "print(f\"Mean Squared Error: {mse:.4f}\")\n",
    "print(f\"R-squared (R2) Score: {r2:.4f}\")\n",
    "print(f\"Root Mean Squared Error (RMSE): {rmse:.4f}\")"
   ]
  },
  {
   "cell_type": "code",
   "execution_count": 42,
   "id": "47c560a4-9cbd-4e3e-9e7b-4bbf3c264e4a",
   "metadata": {},
   "outputs": [],
   "source": [
    "# Save Model\n",
    "\n",
    "model.save(\"custom_nlp2.keras\")"
   ]
  },
  {
   "cell_type": "markdown",
   "id": "468c48f5-7a65-4778-ad26-936abb5910bd",
   "metadata": {
    "id": "5d82af5f-49ee-4e80-8bb4-481f29bf5f47"
   },
   "source": [
    "# END"
   ]
  },
  {
   "cell_type": "markdown",
   "id": "fb79df4e-dc51-463c-862e-1a8bcfd78090",
   "metadata": {},
   "source": [
    "# Predict For New Data"
   ]
  },
  {
   "cell_type": "code",
   "execution_count": 43,
   "id": "1b1eb2a2-a5c2-40c8-b153-d7f2cf61cece",
   "metadata": {},
   "outputs": [],
   "source": [
    "DATA_URL = os.path.join(DATA_DIR, \"fai_project_data.csv\")\n",
    "\n",
    "df = pd.read_csv(DATA_URL)\n",
    "\n",
    "df.dropna(inplace=True)\n",
    "\n",
    "required_cols = [\"Date\", \"Close\", \"Open\", \"High\", \"Low\", \"Volume\",\n",
    "                 \"Dividends\", \"Stock Splits\", \"Ticker\", \"Headlines\"]\n",
    "df = df[required_cols]\n",
    "\n",
    "df['Date']= pd.to_datetime(df['Date'])"
   ]
  },
  {
   "cell_type": "code",
   "execution_count": 44,
   "id": "f48cd3c7-f70d-4478-9337-ad72ef6a6eb6",
   "metadata": {},
   "outputs": [],
   "source": [
    "from abc import ABC, abstractmethod\n",
    "\n",
    "from typing import List\n",
    "\n",
    "class SentimentAnalyzer(ABC):\n",
    "\n",
    "    @abstractmethod\n",
    "    def get_sentiment_scores(self, headlines: List[str]) -> float:\n",
    "        pass"
   ]
  },
  {
   "cell_type": "code",
   "execution_count": 45,
   "id": "9d1c5ebf-ba11-4bf1-9ca5-ce5ebf846bbc",
   "metadata": {},
   "outputs": [],
   "source": [
    "import tqdm"
   ]
  },
  {
   "cell_type": "code",
   "execution_count": 46,
   "id": "aa457e1a-6a2c-4df2-8798-680d65e4182d",
   "metadata": {},
   "outputs": [],
   "source": [
    "df['cleaned'] = df['Headlines'].apply(cleaning)\n",
    "tokenizer.fit_on_texts(df['cleaned'])\n",
    "\n",
    "X = tokenizer.texts_to_sequences(df['cleaned'])\n",
    "X = pad_sequences(X, maxlen=max_sequence_length, padding='post', truncating='post')"
   ]
  },
  {
   "cell_type": "code",
   "execution_count": 47,
   "id": "e169546d-fb1c-42af-9dd9-0b9bb181c183",
   "metadata": {},
   "outputs": [
    {
     "name": "stdout",
     "output_type": "stream",
     "text": [
      "75/75 [==============================] - 1s 13ms/step\n"
     ]
    }
   ],
   "source": [
    "df['sentiment'] = model.predict(X)"
   ]
  },
  {
   "cell_type": "code",
   "execution_count": 48,
   "id": "fbe1f57f-5733-4c3c-bf8b-da03866e97a7",
   "metadata": {},
   "outputs": [],
   "source": [
    "df.Ticker.unique()\n",
    "\n",
    "train_tickers = [\"AAPL\", \"ABNB\", \"COIN\", \"META\", \"MRNA\", \"NVDA\", \"PLTR\", \"AMZN\", \"TSLA\"]\n",
    "\n",
    "test_tickers = [\"GOOG\"]\n",
    "\n",
    "train_df = df[df[\"Ticker\"].isin(train_tickers)]\n",
    "test_df = df[df[\"Ticker\"].isin(test_tickers)]"
   ]
  },
  {
   "cell_type": "code",
   "execution_count": 49,
   "id": "7d66c7e3-83a4-43e2-b07c-cfa8dfe9349d",
   "metadata": {},
   "outputs": [],
   "source": [
    "from pandas.tseries.holiday import USFederalHolidayCalendar\n",
    "from pandas.tseries.offsets import CustomBusinessDay\n",
    "\n",
    "from sklearn.metrics import mean_squared_error\n",
    "\n",
    "from typing import Optional\n",
    "\n",
    "\n",
    "class MultivariateTimeSeriesModel(object):\n",
    "\n",
    "    def __init__(self, stock_data: pd.DataFrame, model: str = \"GRU\",\n",
    "                 is_custom_sentiment_analyzer: bool = False,\n",
    "                 sentiment_analyzer: Optional[SentimentAnalyzer] = None):\n",
    "\n",
    "        self.stock_data = stock_data\n",
    "        self.sentiment_analyzer = sentiment_analyzer\n",
    "        self.is_custom_sentiment_analyzer = is_custom_sentiment_analyzer\n",
    "\n",
    "        self.model = model\n",
    "\n",
    "\n",
    "    def data_preprocessing(self, df):\n",
    "        cols = [\"Date\", \"Open\", \"High\", \"Low\", \"Close\"]\n",
    "\n",
    "        # if self.sentiment_analyzer:\n",
    "        #     if not self.is_custom_sentiment_analyzer:\n",
    "        #         df[\"sentiment\"] = df[\"Headlines\"].progress_apply(self.sentiment_analyzer.get_sentiment_scores)\n",
    "        #     cols.append(\"sentiment\")\n",
    "\n",
    "        if self.sentiment_analyzer:\n",
    "            # df[\"sentiment\"] = df[\"Headlines\"].progress_apply(self.sentiment_analyzer.get_sentiment_scores)\n",
    "            cols.append(\"sentiment\")\n",
    "\n",
    "        stock_data = df[cols]\n",
    "\n",
    "        # convert the Date column to DateTime from Object type\n",
    "        set_dates = pd.to_datetime(stock_data['Date'])\n",
    "        set_dates.head()\n",
    "\n",
    "        # extract the required features (in this we are omiting the volume from feature list)\n",
    "\n",
    "        if self.sentiment_analyzer:\n",
    "            columns = list(stock_data.columns[1:6])\n",
    "        else:\n",
    "            columns = list(stock_data.columns[1:5])\n",
    "\n",
    "        processed_df = stock_data[columns].astype(float)\n",
    "        processed_df.head()\n",
    "\n",
    "        # Normalize the data using the Standard scaler\n",
    "        self.standard_scaler = StandardScaler()\n",
    "        self.standard_scaler = self.standard_scaler.fit(processed_df)\n",
    "        scaled_training_df = self.standard_scaler.transform(processed_df)\n",
    "\n",
    "        X = []\n",
    "        Y = []\n",
    "\n",
    "        future_no_of_days = 1 # num of days to predict the future values\n",
    "        past_no_of_days = 14 # number of days on which the prediction is computed\n",
    "\n",
    "        for i in range(past_no_of_days, len(scaled_training_df) - future_no_of_days+1):\n",
    "            X.append(scaled_training_df[i - past_no_of_days:i, 0:processed_df.shape[1]])\n",
    "            Y.append(scaled_training_df[i + future_no_of_days - 1:i + future_no_of_days, 0])\n",
    "\n",
    "        X, Y = np.array(X), np.array(Y)\n",
    "\n",
    "        self.X = X\n",
    "\n",
    "        print('X shape: {}'.format(X.shape))\n",
    "        print('Y shape: {}'.format(Y.shape))\n",
    "\n",
    "        return X, Y, processed_df\n",
    "\n",
    "\n",
    "    @staticmethod\n",
    "    def get_GRU_model(X_shape_1, X_shape_2, Y_shape):\n",
    "        model = Sequential()\n",
    "        model.add(GRU(64, activation='relu', input_shape=(X_shape_1, X_shape_2), return_sequences=True))\n",
    "        model.add(GRU(32, activation='relu', return_sequences=False))\n",
    "        model.add(Dropout(0.2))\n",
    "        model.add(Dense(Y_shape))\n",
    "\n",
    "        return model\n",
    "\n",
    "\n",
    "    @staticmethod\n",
    "    def get_LSTM_model(X_shape_1, X_shape_2, Y_shape):\n",
    "        model = Sequential()\n",
    "        model.add(LSTM(64, input_shape=(X_shape_1, X_shape_2), return_sequences=True))\n",
    "        model.add(LSTM(32, return_sequences=False))\n",
    "        model.add(Dropout(0.2))\n",
    "        model.add(Dense(Y_shape))\n",
    "\n",
    "        return model\n",
    "\n",
    "    @staticmethod\n",
    "    def get_RNN_model(X_shape_1, X_shape_2, Y_shape):\n",
    "        model = Sequential()\n",
    "        model.add(RNN(64, input_shape=(X_shape_1, X_shape_2), return_sequences=True))\n",
    "        model.add(RNN(32, return_sequences=False))\n",
    "        model.add(Dropout(0.2))\n",
    "        model.add(Dense(Y_shape))\n",
    "\n",
    "        return model\n",
    "\n",
    "\n",
    "    def get_model(self, trainX, trainY):\n",
    "        X_shape_1 = trainX.shape[1]\n",
    "        X_shape_2 = trainX.shape[2]\n",
    "        Y_shape = trainY.shape[1]\n",
    "\n",
    "        if self.model == \"GRU\":\n",
    "            model = self.get_GRU_model(X_shape_1, X_shape_2, Y_shape)\n",
    "        elif self.model == \"LSTM\":\n",
    "            model = self.get_LSTM_model(X_shape_1, X_shape_2, Y_shape)\n",
    "        else:\n",
    "            model = self.get_RNN_model(X_shape_1, X_shape_2, Y_shape)\n",
    "        model.summary()\n",
    "\n",
    "        return model\n",
    "\n",
    "    def compile_model(self, optimizer, loss):\n",
    "        self.model.compile(optimizer=optimizer, loss=loss)\n",
    "\n",
    "    def train_model(self):\n",
    "        trainX, trainY, df_train = self.data_preprocessing(self.stock_data)\n",
    "\n",
    "        self.model = self.get_model(trainX, trainY)\n",
    "        self.compile_model(optimizer=\"adam\", loss=\"mse\")\n",
    "\n",
    "        # fit the model\n",
    "        history = self.model.fit(trainX, trainY, epochs=10, batch_size=16, validation_split=0.1, verbose=1)\n",
    "\n",
    "        plt.figure(figsize=(12, 8))\n",
    "        plt.plot(history.history['loss'], label='Training loss')\n",
    "        plt.plot(history.history['val_loss'], label='Validation loss')\n",
    "        plt.legend()\n",
    "        plt.show()\n",
    "\n",
    "\n",
    "    def run_inference(self, test_df):\n",
    "        us_business_days = CustomBusinessDay(calendar=USFederalHolidayCalendar())\n",
    "\n",
    "        n_past = 90\n",
    "        n_days_for_prediction=90  #let us predict past 15 days\n",
    "\n",
    "        # convert the Date column to DateTime from Object type\n",
    "        test_set_dates = pd.to_datetime(test_df['Date'])\n",
    "        test_set_dates.head()\n",
    "\n",
    "        predict_period_dates = pd.date_range(\n",
    "            list(test_set_dates)[-n_past], periods=n_days_for_prediction,\n",
    "            freq=us_business_days\n",
    "        ).tolist() # instead of us_business_days we can give '1d' etc.\n",
    "\n",
    "        testX, testY, df_test = self.data_preprocessing(test_df)\n",
    "\n",
    "        #Make prediction\n",
    "        prediction = self.model.predict(testX[-n_days_for_prediction:]) #shape = (n, 1) where n is the n_days_for_prediction\n",
    "\n",
    "        # predict the future price\n",
    "        prediction_copies = np.repeat(prediction, df_test.shape[1], axis=-1)\n",
    "        y_pred_future = self.standard_scaler.inverse_transform(prediction_copies)[:,0]\n",
    "\n",
    "        # Convert timestamp to date\n",
    "        forecast_dates = []\n",
    "        for time_i in predict_period_dates:\n",
    "            forecast_dates.append(time_i.date())\n",
    "\n",
    "        df_forecast = pd.DataFrame({'Date':np.array(forecast_dates), 'Close':y_pred_future})\n",
    "        df_forecast['Date']=pd.to_datetime(df_forecast['Date'])\n",
    "\n",
    "        original = test_df[['Date', 'Close']]\n",
    "        original['Date']=pd.to_datetime(original['Date'])\n",
    "        original = original.loc[original['Date'] >= df_forecast.Date.min()] # selecting the data only from 2022 just for our convinence\n",
    "\n",
    "        mse = mean_squared_error(original[\"Close\"], df_forecast[\"Close\"])\n",
    "        print(f\"Mean Squared Error: {mse}\")\n",
    "\n",
    "        return original, df_forecast"
   ]
  },
  {
   "cell_type": "code",
   "execution_count": 50,
   "id": "55e2f188-f425-4293-bfd7-1df60fcc21d5",
   "metadata": {},
   "outputs": [],
   "source": [
    "mv_ts_model = MultivariateTimeSeriesModel(train_df, model=\"GRU\", sentiment_analyzer=True)"
   ]
  },
  {
   "cell_type": "code",
   "execution_count": 51,
   "id": "e589047e-eebb-4ad6-8463-2cb37e97c1d3",
   "metadata": {},
   "outputs": [
    {
     "name": "stdout",
     "output_type": "stream",
     "text": [
      "X shape: (2145, 14, 5)\n",
      "Y shape: (2145, 1)\n",
      "WARNING:tensorflow:Layer gru will not use cuDNN kernels since it doesn't meet the criteria. It will use a generic GPU kernel as fallback when running on GPU.\n",
      "WARNING:tensorflow:Layer gru_1 will not use cuDNN kernels since it doesn't meet the criteria. It will use a generic GPU kernel as fallback when running on GPU.\n",
      "Model: \"sequential_2\"\n",
      "_________________________________________________________________\n",
      " Layer (type)                Output Shape              Param #   \n",
      "=================================================================\n",
      " gru (GRU)                   (None, 14, 64)            13632     \n",
      "                                                                 \n",
      " gru_1 (GRU)                 (None, 32)                9408      \n",
      "                                                                 \n",
      " dropout_2 (Dropout)         (None, 32)                0         \n",
      "                                                                 \n",
      " dense_3 (Dense)             (None, 1)                 33        \n",
      "                                                                 \n",
      "=================================================================\n",
      "Total params: 23073 (90.13 KB)\n",
      "Trainable params: 23073 (90.13 KB)\n",
      "Non-trainable params: 0 (0.00 Byte)\n",
      "_________________________________________________________________\n",
      "Epoch 1/10\n",
      "121/121 [==============================] - 65s 480ms/step - loss: 0.1910 - val_loss: 0.0143\n",
      "Epoch 2/10\n",
      "121/121 [==============================] - 49s 401ms/step - loss: 0.0538 - val_loss: 0.0115\n",
      "Epoch 3/10\n",
      "121/121 [==============================] - 48s 395ms/step - loss: 0.0436 - val_loss: 0.0082\n",
      "Epoch 4/10\n",
      "121/121 [==============================] - 48s 395ms/step - loss: 0.0433 - val_loss: 0.0073\n",
      "Epoch 5/10\n",
      "121/121 [==============================] - 48s 397ms/step - loss: 0.0356 - val_loss: 0.0135\n",
      "Epoch 6/10\n",
      "121/121 [==============================] - 47s 391ms/step - loss: 0.0353 - val_loss: 0.0072\n",
      "Epoch 7/10\n",
      "121/121 [==============================] - 48s 394ms/step - loss: 0.0293 - val_loss: 0.0144\n",
      "Epoch 8/10\n",
      "121/121 [==============================] - 48s 397ms/step - loss: 0.0271 - val_loss: 0.0066\n",
      "Epoch 9/10\n",
      "121/121 [==============================] - 48s 399ms/step - loss: 0.0309 - val_loss: 0.0068\n",
      "Epoch 10/10\n",
      "121/121 [==============================] - 48s 401ms/step - loss: 0.0300 - val_loss: 0.0072\n"
     ]
    },
    {
     "data": {
      "image/png": "[encoded data removed]",
      "text/plain": [
       "<Figure size 1200x800 with 1 Axes>"
      ]
     },
     "metadata": {},
     "output_type": "display_data"
    }
   ],
   "source": [
    "mv_ts_model.train_model()"
   ]
  },
  {
   "cell_type": "code",
   "execution_count": 52,
   "id": "824e94da-7636-4d9e-a847-0ee6283b4c35",
   "metadata": {},
   "outputs": [
    {
     "name": "stdout",
     "output_type": "stream",
     "text": [
      "X shape: (227, 14, 5)\n",
      "Y shape: (227, 1)\n",
      "3/3 [==============================] - 4s 869ms/step\n",
      "Mean Squared Error: 9.13274500208661\n"
     ]
    },
    {
     "name": "stderr",
     "output_type": "stream",
     "text": [
      "/var/folders/h6/k8vv50fn5sl3snld_mq4dwf00000gn/T/ipykernel_47921/354028145.py:174: SettingWithCopyWarning: \n",
      "A value is trying to be set on a copy of a slice from a DataFrame.\n",
      "Try using .loc[row_indexer,col_indexer] = value instead\n",
      "\n",
      "See the caveats in the documentation: https://pandas.pydata.org/pandas-docs/stable/user_guide/indexing.html#returning-a-view-versus-a-copy\n",
      "  original['Date']=pd.to_datetime(original['Date'])\n"
     ]
    }
   ],
   "source": [
    "y_true, y_pred = mv_ts_model.run_inference(test_df)"
   ]
  },
  {
   "cell_type": "code",
   "execution_count": 53,
   "id": "d1f2278d-c1be-44a5-adc4-50f15e4df846",
   "metadata": {},
   "outputs": [
    {
     "name": "stdout",
     "output_type": "stream",
     "text": [
      "X shape: (2145, 14, 4)\n",
      "Y shape: (2145, 1)\n",
      "WARNING:tensorflow:Layer gru_2 will not use cuDNN kernels since it doesn't meet the criteria. It will use a generic GPU kernel as fallback when running on GPU.\n",
      "WARNING:tensorflow:Layer gru_3 will not use cuDNN kernels since it doesn't meet the criteria. It will use a generic GPU kernel as fallback when running on GPU.\n",
      "Model: \"sequential_3\"\n",
      "_________________________________________________________________\n",
      " Layer (type)                Output Shape              Param #   \n",
      "=================================================================\n",
      " gru_2 (GRU)                 (None, 14, 64)            13440     \n",
      "                                                                 \n",
      " gru_3 (GRU)                 (None, 32)                9408      \n",
      "                                                                 \n",
      " dropout_3 (Dropout)         (None, 32)                0         \n",
      "                                                                 \n",
      " dense_4 (Dense)             (None, 1)                 33        \n",
      "                                                                 \n",
      "=================================================================\n",
      "Total params: 22881 (89.38 KB)\n",
      "Trainable params: 22881 (89.38 KB)\n",
      "Non-trainable params: 0 (0.00 Byte)\n",
      "_________________________________________________________________\n",
      "Epoch 1/10\n",
      "121/121 [==============================] - 61s 461ms/step - loss: 0.1746 - val_loss: 0.0091\n",
      "Epoch 2/10\n",
      "121/121 [==============================] - 48s 397ms/step - loss: 0.0393 - val_loss: 0.0078\n",
      "Epoch 3/10\n",
      "121/121 [==============================] - 48s 396ms/step - loss: 0.0339 - val_loss: 0.0074\n",
      "Epoch 4/10\n",
      "121/121 [==============================] - 49s 403ms/step - loss: 0.0346 - val_loss: 0.0116\n",
      "Epoch 5/10\n",
      "121/121 [==============================] - 48s 397ms/step - loss: 0.0313 - val_loss: 0.0062\n",
      "Epoch 6/10\n",
      "121/121 [==============================] - 48s 394ms/step - loss: 0.0317 - val_loss: 0.0079\n",
      "Epoch 7/10\n",
      "121/121 [==============================] - 48s 394ms/step - loss: 0.0321 - val_loss: 0.0096\n",
      "Epoch 8/10\n",
      "121/121 [==============================] - 48s 394ms/step - loss: 0.0303 - val_loss: 0.0093\n",
      "Epoch 9/10\n",
      "121/121 [==============================] - 47s 391ms/step - loss: 0.0285 - val_loss: 0.0072\n",
      "Epoch 10/10\n",
      "121/121 [==============================] - 47s 392ms/step - loss: 0.0268 - val_loss: 0.0080\n"
     ]
    },
    {
     "data": {
      "image/png": "[encoded data removed]",
      "text/plain": [
       "<Figure size 1200x800 with 1 Axes>"
      ]
     },
     "metadata": {},
     "output_type": "display_data"
    }
   ],
   "source": [
    "mv_ts_model_ws = MultivariateTimeSeriesModel(train_df, model=\"GRU\")\n",
    "\n",
    "mv_ts_model_ws.train_model()"
   ]
  },
  {
   "cell_type": "code",
   "execution_count": 54,
   "id": "a6ce8796-7f70-4a0a-852b-52b8560360df",
   "metadata": {},
   "outputs": [
    {
     "name": "stdout",
     "output_type": "stream",
     "text": [
      "X shape: (227, 14, 4)\n",
      "Y shape: (227, 1)\n",
      "3/3 [==============================] - 3s 797ms/step\n",
      "Mean Squared Error: 10.51592470038708\n"
     ]
    },
    {
     "name": "stderr",
     "output_type": "stream",
     "text": [
      "/var/folders/h6/k8vv50fn5sl3snld_mq4dwf00000gn/T/ipykernel_47921/354028145.py:174: SettingWithCopyWarning: \n",
      "A value is trying to be set on a copy of a slice from a DataFrame.\n",
      "Try using .loc[row_indexer,col_indexer] = value instead\n",
      "\n",
      "See the caveats in the documentation: https://pandas.pydata.org/pandas-docs/stable/user_guide/indexing.html#returning-a-view-versus-a-copy\n",
      "  original['Date']=pd.to_datetime(original['Date'])\n"
     ]
    }
   ],
   "source": [
    "y_true_without_sent, y_pred_without_sent = mv_ts_model_ws.run_inference(test_df)"
   ]
  },
  {
   "cell_type": "code",
   "execution_count": 55,
   "id": "29f9b6c3-15f6-46f3-a913-3341076de179",
   "metadata": {},
   "outputs": [
    {
     "data": {
      "image/png": "[encoded data removed]",
      "text/plain": [
       "<Figure size 1200x800 with 1 Axes>"
      ]
     },
     "metadata": {},
     "output_type": "display_data"
    }
   ],
   "source": [
    "import matplotlib.pyplot as plt\n",
    "import seaborn as sns \n",
    "\n",
    "plt.figure(figsize=(12,8))\n",
    "\n",
    "sns.lineplot(data=y_pred, x='Date', y='Close', label=\"Predicted Stock Price with sentiment\")\n",
    "sns.lineplot(data=y_pred_without_sent, x='Date', y='Close', label=\"Predicted Stock Price without sentiment\")\n",
    "sns.lineplot(data=y_true, x='Date', y='Close', label=\"Actual Stock Price\")\n",
    "\n",
    "plt.xlabel(\"Date\")\n",
    "plt.ylabel(\"Closing Price\")\n",
    "plt.title(\"Google, Inc Stock Price Inference\")\n",
    "\n",
    "plt.show()"
   ]
  },
  {
   "cell_type": "markdown",
   "id": "1971a89c-eea3-4deb-ad9f-8b96dc6b31a3",
   "metadata": {},
   "source": [
    "### Error Metrics with Sentiment"
   ]
  },
  {
   "cell_type": "code",
   "execution_count": 58,
   "id": "ced59f94-2c7d-46cd-8086-ec4074116558",
   "metadata": {},
   "outputs": [
    {
     "name": "stdout",
     "output_type": "stream",
     "text": [
      "\n",
      "Regression Metrics:\n",
      "Mean Squared Error: 8.0462\n",
      "R-squared (R2) Score: 0.7428\n",
      "Root Mean Squared Error (RMSE): 2.8366\n"
     ]
    }
   ],
   "source": [
    "# Regression metrics (for illustration)\n",
    "mse = mean_squared_error(y_true['Close'], y_pred['Close'])\n",
    "r2 = r2_score(y_true['Close'], y_pred['Close'])\n",
    "rmse = np.sqrt(mean_squared_error(y_true['Close'], y_pred['Close']))\n",
    "\n",
    "print(\"\\nRegression Metrics:\")\n",
    "print(f\"Mean Squared Error: {mse:.4f}\")\n",
    "print(f\"R-squared (R2) Score: {r2:.4f}\")\n",
    "print(f\"Root Mean Squared Error (RMSE): {rmse:.4f}\")"
   ]
  },
  {
   "cell_type": "markdown",
   "id": "7898bf7c-6a01-41cb-ad09-6a8d40577889",
   "metadata": {},
   "source": [
    "### Error Metrics without Sentiment"
   ]
  },
  {
   "cell_type": "code",
   "execution_count": 59,
   "id": "847637a0-29bf-45e0-97b4-fac05b7463a9",
   "metadata": {},
   "outputs": [
    {
     "name": "stdout",
     "output_type": "stream",
     "text": [
      "\n",
      "Regression Metrics:\n",
      "Mean Squared Error: 10.5159\n",
      "R-squared (R2) Score: 0.6586\n",
      "Root Mean Squared Error (RMSE): 3.2428\n"
     ]
    }
   ],
   "source": [
    "# Regression metrics (for illustration)\n",
    "mse = mean_squared_error(y_true['Close'], y_pred_without_sent['Close'])\n",
    "r2 = r2_score(y_true['Close'], y_pred_without_sent['Close'])\n",
    "rmse = np.sqrt(mean_squared_error(y_true['Close'], y_pred_without_sent['Close']))\n",
    "\n",
    "print(\"\\nRegression Metrics:\")\n",
    "print(f\"Mean Squared Error: {mse:.4f}\")\n",
    "print(f\"R-squared (R2) Score: {r2:.4f}\")\n",
    "print(f\"Root Mean Squared Error (RMSE): {rmse:.4f}\")"
   ]
  },
  {
   "cell_type": "markdown",
   "id": "8892b65f-d933-4723-a275-0fe3386fc2ff",
   "metadata": {},
   "source": [
    "# END"
   ]
  }
 ],
 "metadata": {
  "accelerator": "GPU",
  "colab": {
   "gpuType": "T4",
   "provenance": []
  },
  "kernelspec": {
   "display_name": "Python 3 (ipykernel)",
   "language": "python",
   "name": "python3"
  },
  "language_info": {
   "codemirror_mode": {
    "name": "ipython",
    "version": 3
   },
   "file_extension": ".py",
   "mimetype": "text/x-python",
   "name": "python",
   "nbconvert_exporter": "python",
   "pygments_lexer": "ipython3",
   "version": "3.10.12"
  }
 },
 "nbformat": 4,
 "nbformat_minor": 5
}
