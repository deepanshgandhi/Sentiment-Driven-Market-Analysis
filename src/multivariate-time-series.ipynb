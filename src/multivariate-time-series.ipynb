{
 "cells": [
  {
   "cell_type": "code",
   "execution_count": 1,
   "id": "xDA7m87_M8dM",
   "metadata": {
    "colab": {
     "base_uri": "https://localhost:8080/"
    },
    "executionInfo": {
     "elapsed": 18660,
     "status": "ok",
     "timestamp": 1701484046022,
     "user": {
      "displayName": "Kishore S",
      "userId": "00960257451938731255"
     },
     "user_tz": 300
    },
    "id": "xDA7m87_M8dM",
    "outputId": "47ccda3a-ab9d-48da-975a-6c0bd282930d"
   },
   "outputs": [
    {
     "name": "stdout",
     "output_type": "stream",
     "text": [
      "Defaulting to user installation because normal site-packages is not writeable\n",
      "Requirement already satisfied: ta in /Users/kprakhar27/Library/Python/3.9/lib/python/site-packages (0.11.0)\n",
      "Requirement already satisfied: numpy in /Users/kprakhar27/Library/Python/3.9/lib/python/site-packages (from ta) (1.26.2)\n",
      "Requirement already satisfied: pandas in /Users/kprakhar27/Library/Python/3.9/lib/python/site-packages (from ta) (2.1.3)\n",
      "Requirement already satisfied: python-dateutil>=2.8.2 in /Users/kprakhar27/Library/Python/3.9/lib/python/site-packages (from pandas->ta) (2.8.2)\n",
      "Requirement already satisfied: pytz>=2020.1 in /Users/kprakhar27/Library/Python/3.9/lib/python/site-packages (from pandas->ta) (2023.3.post1)\n",
      "Requirement already satisfied: tzdata>=2022.1 in /Users/kprakhar27/Library/Python/3.9/lib/python/site-packages (from pandas->ta) (2023.3)\n",
      "Requirement already satisfied: six>=1.5 in /Library/Developer/CommandLineTools/Library/Frameworks/Python3.framework/Versions/3.9/lib/python3.9/site-packages (from python-dateutil>=2.8.2->pandas->ta) (1.15.0)\n"
     ]
    }
   ],
   "source": [
    "!pip install ta"
   ]
  },
  {
   "cell_type": "code",
   "execution_count": 1,
   "id": "79e5ef08-ce70-4a5b-9caf-3c51b6fa1b6e",
   "metadata": {
    "executionInfo": {
     "elapsed": 280,
     "status": "ok",
     "timestamp": 1701500625203,
     "user": {
      "displayName": "Kishore S",
      "userId": "00960257451938731255"
     },
     "user_tz": 300
    },
    "id": "79e5ef08-ce70-4a5b-9caf-3c51b6fa1b6e"
   },
   "outputs": [
    {
     "name": "stderr",
     "output_type": "stream",
     "text": [
      "/Users/kprakhar27/Library/Python/3.9/lib/python/site-packages/urllib3/__init__.py:34: NotOpenSSLWarning: urllib3 v2 only supports OpenSSL 1.1.1+, currently the 'ssl' module is compiled with 'LibreSSL 2.8.3'. See: https://github.com/urllib3/urllib3/issues/3020\n",
      "  warnings.warn(\n"
     ]
    }
   ],
   "source": [
    "import os\n",
    "\n",
    "os.environ[\"TF_DETERMINISTIC_OPS\"] = \"1\"\n",
    "os.environ[\"TF_CPP_MIN_LOG_LEVEL\"] = \"3\"\n",
    "\n",
    "import numpy as np\n",
    "import pandas as pd\n",
    "import seaborn as sns\n",
    "import matplotlib.pyplot as plt\n",
    "\n",
    "# import ta\n",
    "import nltk\n",
    "from textblob import Word\n",
    "from nltk.corpus import stopwords\n",
    "\n",
    "import tensorflow as tf\n",
    "from tensorflow.keras.optimizers import Adam\n",
    "from tensorflow.keras.models import Sequential\n",
    "from tensorflow.keras.preprocessing.text import Tokenizer\n",
    "from tensorflow.keras.layers import Dropout, Dense, LSTM, GRU, RNN #can train using either GRU or LSTM\n",
    "from tensorflow.keras.preprocessing.sequence import pad_sequences\n",
    "from tensorflow.keras.layers import Embedding, LSTM, Dense, Dropout\n",
    "\n",
    "\n",
    "from sklearn.preprocessing import MinMaxScaler\n",
    "from sklearn.metrics import mean_squared_error\n",
    "from sklearn.preprocessing import StandardScaler\n",
    "from sklearn.model_selection import train_test_split\n",
    "from joblib import dump, load"
   ]
  },
  {
   "cell_type": "code",
   "execution_count": 2,
   "id": "kKAQTfVDKQdH",
   "metadata": {
    "colab": {
     "base_uri": "https://localhost:8080/"
    },
    "executionInfo": {
     "elapsed": 10,
     "status": "ok",
     "timestamp": 1701500544284,
     "user": {
      "displayName": "Kishore S",
      "userId": "00960257451938731255"
     },
     "user_tz": 300
    },
    "id": "kKAQTfVDKQdH",
    "outputId": "4bb9ec09-1be4-4ff5-8a39-138339d102a2"
   },
   "outputs": [
    {
     "name": "stderr",
     "output_type": "stream",
     "text": [
      "[nltk_data] Downloading package stopwords to\n",
      "[nltk_data]     /Users/kprakhar27/nltk_data...\n",
      "[nltk_data]   Package stopwords is already up-to-date!\n",
      "[nltk_data] Downloading package wordnet to\n",
      "[nltk_data]     /Users/kprakhar27/nltk_data...\n",
      "[nltk_data]   Package wordnet is already up-to-date!\n"
     ]
    },
    {
     "data": {
      "text/plain": [
       "True"
      ]
     },
     "execution_count": 2,
     "metadata": {},
     "output_type": "execute_result"
    }
   ],
   "source": [
    "nltk.download('stopwords')\n",
    "nltk.download('wordnet')"
   ]
  },
  {
   "cell_type": "code",
   "execution_count": 3,
   "id": "AcpnbzEtco-r",
   "metadata": {
    "executionInfo": {
     "elapsed": 5,
     "status": "ok",
     "timestamp": 1701500544285,
     "user": {
      "displayName": "Kishore S",
      "userId": "00960257451938731255"
     },
     "user_tz": 300
    },
    "id": "AcpnbzEtco-r"
   },
   "outputs": [],
   "source": [
    "seed = 0\n",
    "\n",
    "np.random.seed(seed)\n",
    "tf.random.set_seed(seed)\n",
    "tf.keras.utils.set_random_seed(seed)"
   ]
  },
  {
   "cell_type": "code",
   "execution_count": 4,
   "id": "ujjMGEgokecX",
   "metadata": {
    "colab": {
     "base_uri": "https://localhost:8080/"
    },
    "executionInfo": {
     "elapsed": 12,
     "status": "ok",
     "timestamp": 1701500564377,
     "user": {
      "displayName": "Kishore S",
      "userId": "00960257451938731255"
     },
     "user_tz": 300
    },
    "id": "ujjMGEgokecX",
    "outputId": "352d6331-4eb1-4e60-a067-c05ca3420b02"
   },
   "outputs": [
    {
     "name": "stdout",
     "output_type": "stream",
     "text": [
      "Current Working Directory: /Users/kprakhar27/Documents/NEU/FAI - Project/src\n",
      "Changing the directory to the project root directory...\n",
      "Current Working Directory: /Users/kprakhar27/Documents/NEU/FAI - Project\n"
     ]
    }
   ],
   "source": [
    "print(f\"Current Working Directory: {os.getcwd()}\")\n",
    "\n",
    "print(\"Changing the directory to the project root directory...\")\n",
    "os.chdir(\"/Users/kprakhar27/Documents/NEU/FAI - Project/\")\n",
    "\n",
    "print(f\"Current Working Directory: {os.getcwd()}\")"
   ]
  },
  {
   "cell_type": "code",
   "execution_count": 5,
   "id": "_Bg8_uCwkgMW",
   "metadata": {
    "executionInfo": {
     "elapsed": 8,
     "status": "ok",
     "timestamp": 1701500564378,
     "user": {
      "displayName": "Kishore S",
      "userId": "00960257451938731255"
     },
     "user_tz": 300
    },
    "id": "_Bg8_uCwkgMW"
   },
   "outputs": [],
   "source": [
    "DATA_DIR = \"data\"\n",
    "\n",
    "DATA_URL = os.path.join(DATA_DIR, \"fai_project_data.csv\")"
   ]
  },
  {
   "cell_type": "code",
   "execution_count": 6,
   "id": "4cedaa18-03c1-44e0-b804-fa210f84656a",
   "metadata": {
    "executionInfo": {
     "elapsed": 3166,
     "status": "ok",
     "timestamp": 1701500567538,
     "user": {
      "displayName": "Kishore S",
      "userId": "00960257451938731255"
     },
     "user_tz": 300
    },
    "id": "4cedaa18-03c1-44e0-b804-fa210f84656a"
   },
   "outputs": [],
   "source": [
    "df = pd.read_csv(DATA_URL)\n",
    "\n",
    "df.dropna(inplace=True)\n",
    "\n",
    "required_cols = [\"Date\", \"Close\", \"Open\", \"High\", \"Low\", \"Volume\",\n",
    "                 \"Dividends\", \"Stock Splits\", \"Ticker\", \"Headlines\"]\n",
    "df = df[required_cols]\n",
    "\n",
    "df['Date']= pd.to_datetime(df['Date'])"
   ]
  },
  {
   "cell_type": "code",
   "execution_count": 7,
   "id": "c79e8c8b-0fff-432b-be91-a01b68ce7747",
   "metadata": {
    "colab": {
     "base_uri": "https://localhost:8080/"
    },
    "executionInfo": {
     "elapsed": 16,
     "status": "ok",
     "timestamp": 1701500567539,
     "user": {
      "displayName": "Kishore S",
      "userId": "00960257451938731255"
     },
     "user_tz": 300
    },
    "id": "c79e8c8b-0fff-432b-be91-a01b68ce7747",
    "outputId": "960c7282-85da-4d17-ed89-805b64fdf036"
   },
   "outputs": [
    {
     "name": "stdout",
     "output_type": "stream",
     "text": [
      "<class 'pandas.core.frame.DataFrame'>\n",
      "Index: 2400 entries, 0 to 2543\n",
      "Data columns (total 10 columns):\n",
      " #   Column        Non-Null Count  Dtype         \n",
      "---  ------        --------------  -----         \n",
      " 0   Date          2400 non-null   datetime64[ns]\n",
      " 1   Close         2400 non-null   float64       \n",
      " 2   Open          2400 non-null   float64       \n",
      " 3   High          2400 non-null   float64       \n",
      " 4   Low           2400 non-null   float64       \n",
      " 5   Volume        2400 non-null   int64         \n",
      " 6   Dividends     2400 non-null   float64       \n",
      " 7   Stock Splits  2400 non-null   float64       \n",
      " 8   Ticker        2400 non-null   object        \n",
      " 9   Headlines     2400 non-null   object        \n",
      "dtypes: datetime64[ns](1), float64(6), int64(1), object(2)\n",
      "memory usage: 206.2+ KB\n"
     ]
    }
   ],
   "source": [
    "df.info()"
   ]
  },
  {
   "cell_type": "code",
   "execution_count": 8,
   "id": "0bae644e-828f-43a6-afa9-a85a800b7d45",
   "metadata": {},
   "outputs": [
    {
     "data": {
      "text/html": [
       "<div>\n",
       "<style scoped>\n",
       "    .dataframe tbody tr th:only-of-type {\n",
       "        vertical-align: middle;\n",
       "    }\n",
       "\n",
       "    .dataframe tbody tr th {\n",
       "        vertical-align: top;\n",
       "    }\n",
       "\n",
       "    .dataframe thead th {\n",
       "        text-align: right;\n",
       "    }\n",
       "</style>\n",
       "<table border=\"1\" class=\"dataframe\">\n",
       "  <thead>\n",
       "    <tr style=\"text-align: right;\">\n",
       "      <th></th>\n",
       "      <th>Date</th>\n",
       "      <th>Close</th>\n",
       "      <th>Open</th>\n",
       "      <th>High</th>\n",
       "      <th>Low</th>\n",
       "      <th>Volume</th>\n",
       "      <th>Dividends</th>\n",
       "      <th>Stock Splits</th>\n",
       "      <th>Ticker</th>\n",
       "      <th>Headlines</th>\n",
       "    </tr>\n",
       "  </thead>\n",
       "  <tbody>\n",
       "    <tr>\n",
       "      <th>0</th>\n",
       "      <td>2022-11-29</td>\n",
       "      <td>140.385330</td>\n",
       "      <td>143.487983</td>\n",
       "      <td>144.005097</td>\n",
       "      <td>139.569896</td>\n",
       "      <td>83763800</td>\n",
       "      <td>0.0</td>\n",
       "      <td>0.0</td>\n",
       "      <td>AAPL</td>\n",
       "      <td>Stock Market Rally Awaits Fed Chief Powell, Ke...</td>\n",
       "    </tr>\n",
       "    <tr>\n",
       "      <th>1</th>\n",
       "      <td>2022-11-30</td>\n",
       "      <td>147.207169</td>\n",
       "      <td>140.614017</td>\n",
       "      <td>147.893336</td>\n",
       "      <td>139.768751</td>\n",
       "      <td>111380900</td>\n",
       "      <td>0.0</td>\n",
       "      <td>0.0</td>\n",
       "      <td>AAPL</td>\n",
       "      <td>Elon Musk says Apple never considered removing...</td>\n",
       "    </tr>\n",
       "    <tr>\n",
       "      <th>2</th>\n",
       "      <td>2022-12-01</td>\n",
       "      <td>147.485626</td>\n",
       "      <td>147.386191</td>\n",
       "      <td>148.301076</td>\n",
       "      <td>145.795079</td>\n",
       "      <td>71250400</td>\n",
       "      <td>0.0</td>\n",
       "      <td>0.0</td>\n",
       "      <td>AAPL</td>\n",
       "      <td>Coinbase says Apple forced it to remove NFT wa...</td>\n",
       "    </tr>\n",
       "    <tr>\n",
       "      <th>3</th>\n",
       "      <td>2022-12-02</td>\n",
       "      <td>146.988403</td>\n",
       "      <td>145.148696</td>\n",
       "      <td>147.177350</td>\n",
       "      <td>144.840406</td>\n",
       "      <td>65447400</td>\n",
       "      <td>0.0</td>\n",
       "      <td>0.0</td>\n",
       "      <td>AAPL</td>\n",
       "      <td>Weekly Roundup | Apple (AAPL) Dips More Than B...</td>\n",
       "    </tr>\n",
       "    <tr>\n",
       "      <th>4</th>\n",
       "      <td>2022-12-05</td>\n",
       "      <td>145.814972</td>\n",
       "      <td>146.948635</td>\n",
       "      <td>150.081120</td>\n",
       "      <td>144.959752</td>\n",
       "      <td>68826400</td>\n",
       "      <td>0.0</td>\n",
       "      <td>0.0</td>\n",
       "      <td>AAPL</td>\n",
       "      <td>China’s protests made ‘enough of impact on par...</td>\n",
       "    </tr>\n",
       "  </tbody>\n",
       "</table>\n",
       "</div>"
      ],
      "text/plain": [
       "        Date       Close        Open        High         Low     Volume  \\\n",
       "0 2022-11-29  140.385330  143.487983  144.005097  139.569896   83763800   \n",
       "1 2022-11-30  147.207169  140.614017  147.893336  139.768751  111380900   \n",
       "2 2022-12-01  147.485626  147.386191  148.301076  145.795079   71250400   \n",
       "3 2022-12-02  146.988403  145.148696  147.177350  144.840406   65447400   \n",
       "4 2022-12-05  145.814972  146.948635  150.081120  144.959752   68826400   \n",
       "\n",
       "   Dividends  Stock Splits Ticker  \\\n",
       "0        0.0           0.0   AAPL   \n",
       "1        0.0           0.0   AAPL   \n",
       "2        0.0           0.0   AAPL   \n",
       "3        0.0           0.0   AAPL   \n",
       "4        0.0           0.0   AAPL   \n",
       "\n",
       "                                           Headlines  \n",
       "0  Stock Market Rally Awaits Fed Chief Powell, Ke...  \n",
       "1  Elon Musk says Apple never considered removing...  \n",
       "2  Coinbase says Apple forced it to remove NFT wa...  \n",
       "3  Weekly Roundup | Apple (AAPL) Dips More Than B...  \n",
       "4  China’s protests made ‘enough of impact on par...  "
      ]
     },
     "execution_count": 8,
     "metadata": {},
     "output_type": "execute_result"
    }
   ],
   "source": [
    "df.head()"
   ]
  },
  {
   "cell_type": "code",
   "execution_count": 9,
   "id": "094aadd2-68d8-4e2f-8262-5999541f629a",
   "metadata": {
    "executionInfo": {
     "elapsed": 9,
     "status": "ok",
     "timestamp": 1701500567540,
     "user": {
      "displayName": "Kishore S",
      "userId": "00960257451938731255"
     },
     "user_tz": 300
    },
    "id": "094aadd2-68d8-4e2f-8262-5999541f629a"
   },
   "outputs": [],
   "source": [
    "from abc import ABC, abstractmethod\n",
    "from typing import List\n",
    "\n",
    "class SentimentAnalyzer(ABC):\n",
    "    \"\"\"\n",
    "    Abstract base class for sentiment analyzers.\n",
    "\n",
    "    Attributes:\n",
    "        None\n",
    "\n",
    "    Methods:\n",
    "        get_sentiment_scores: Abstract method to be implemented by subclasses for computing sentiment scores.\n",
    "\n",
    "    \"\"\"\n",
    "\n",
    "    @abstractmethod\n",
    "    def get_sentiment_scores(self, headlines: List[str]) -> float:\n",
    "        \"\"\"\n",
    "        Abstract method to compute sentiment scores for a list of headlines.\n",
    "\n",
    "        Parameters:\n",
    "            headlines (List[str]): List of headlines for sentiment analysis.\n",
    "\n",
    "        Returns:\n",
    "            float: Sentiment score computed based on the provided headlines.\n",
    "\n",
    "        \"\"\"\n",
    "        \n",
    "        pass"
   ]
  },
  {
   "cell_type": "code",
   "execution_count": 10,
   "id": "NV231SWYAghe",
   "metadata": {
    "executionInfo": {
     "elapsed": 5124,
     "status": "ok",
     "timestamp": 1701500572656,
     "user": {
      "displayName": "Kishore S",
      "userId": "00960257451938731255"
     },
     "user_tz": 300
    },
    "id": "NV231SWYAghe"
   },
   "outputs": [],
   "source": [
    "from transformers import pipeline\n",
    "from tqdm import tqdm\n",
    "\n",
    "tqdm.pandas()\n",
    "\n",
    "class HuggingFaceSentimentAnalyzer(SentimentAnalyzer):\n",
    "    \"\"\"\n",
    "    Sentiment analyzer using the Hugging Face pipeline.\n",
    "\n",
    "    Attributes:\n",
    "        sentiment_pipeline: Hugging Face sentiment analysis pipeline.\n",
    "\n",
    "    Methods:\n",
    "        __init__: Constructor to initialize the HuggingFaceSentimentAnalyzer.\n",
    "        get_sentiment_scores: Implementation of the abstract method for sentiment analysis.\n",
    "\n",
    "    \"\"\"\n",
    "\n",
    "    def __init__(self):\n",
    "        \"\"\"\n",
    "        Constructor to initialize the HuggingFaceSentimentAnalyzer.\n",
    "\n",
    "        Parameters:\n",
    "            None\n",
    "\n",
    "        Returns:\n",
    "            None\n",
    "\n",
    "        \"\"\"\n",
    "        \n",
    "        self.sentiment_pipeline = pipeline(\"sentiment-analysis\")\n",
    "\n",
    "    def get_sentiment_scores(self, headlines) -> float:\n",
    "        \"\"\"\n",
    "        Compute sentiment scores for a list of headlines using the Hugging Face pipeline.\n",
    "\n",
    "        Parameters:\n",
    "            headlines (str): Pipe-separated string of headlines for sentiment analysis.\n",
    "\n",
    "        Returns:\n",
    "            float: Sentiment score computed based on the provided headlines.\n",
    "\n",
    "        \"\"\"\n",
    "        \n",
    "        # Split the pipe-separated string of headlines into a list\n",
    "        headlines = headlines.split(\"|\")\n",
    "\n",
    "        chunk = \"\"\n",
    "        headline_chunks = []\n",
    "\n",
    "        # Divide the headlines into chunks to avoid exceeding the maximum token limit\n",
    "        for i, headline in enumerate(headlines, 1):\n",
    "            if len(chunk + \". \" + headline) < np.power(2, 32):\n",
    "                chunk += \". \" + headline\n",
    "            else:\n",
    "                headline_chunks.append(chunk)\n",
    "                chunk = \"\"\n",
    "\n",
    "        running_sum = 0\n",
    "\n",
    "        # Process each chunk of headlines and accumulate sentiment scores\n",
    "        for headline in headline_chunks:\n",
    "            result = self.sentiment_pipeline(headline)[0]\n",
    "\n",
    "            label = result['label']\n",
    "            score = result['score']\n",
    "\n",
    "            if label == 'NEGATIVE':\n",
    "                score = -1 * score\n",
    "\n",
    "            running_sum += score\n",
    "\n",
    "        # Compute the average sentiment score across all headlines\n",
    "        return running_sum / len(headlines)"
   ]
  },
  {
   "cell_type": "code",
   "execution_count": 11,
   "id": "d9519c9d-6cc7-4b3f-9066-4761bee65fb8",
   "metadata": {},
   "outputs": [],
   "source": [
    "from transformers import pipeline\n",
    "from tqdm import tqdm\n",
    "\n",
    "tqdm.pandas()\n",
    "\n",
    "class FinBERTSentimentAnalyzer(SentimentAnalyzer):\n",
    "    \"\"\"\n",
    "    Sentiment analyzer using the FinBERT model.\n",
    "\n",
    "    Attributes:\n",
    "        sentiment_pipeline: Hugging Face pipeline with FinBERT model.\n",
    "\n",
    "    Methods:\n",
    "        __init__: Constructor to initialize the FinBERTSentimentAnalyzer.\n",
    "        get_sentiment_scores: Implementation of the abstract method for sentiment analysis.\n",
    "    \"\"\"\n",
    "\n",
    "    def __init__(self):\n",
    "        \"\"\"\n",
    "        Constructor to initialize the FinBERTSentimentAnalyzer.\n",
    "\n",
    "        Parameters:\n",
    "            None\n",
    "\n",
    "        Returns:\n",
    "            None\n",
    "        \"\"\"\n",
    "        \n",
    "        self.sentiment_pipeline = pipeline(\"text-classification\", model=\"ProsusAI/finbert\")\n",
    "\n",
    "    def get_sentiment_scores(self, headlines) -> float:\n",
    "        \"\"\"\n",
    "        Compute sentiment scores for a list of headlines using the FinBERT model.\n",
    "\n",
    "        Parameters:\n",
    "            headlines (str): Pipe-separated string of headlines for sentiment analysis.\n",
    "\n",
    "        Returns:\n",
    "            float: Sentiment score computed based on the provided headlines.\n",
    "        \"\"\"\n",
    "        \n",
    "        # Split the pipe-separated string of headlines into a list\n",
    "        headlines = headlines.split(\"|\")\n",
    "\n",
    "        chunk = \"\"\n",
    "        headline_chunks = []\n",
    "\n",
    "        # Divide the headlines into chunks to avoid exceeding the maximum token limit\n",
    "        for i, headline in enumerate(headlines, 1):\n",
    "            if len(chunk + \". \" + headline) < np.power(2, 32):\n",
    "                chunk += \". \" + headline\n",
    "            else:\n",
    "                headline_chunks.append(chunk)\n",
    "                chunk = \"\"\n",
    "\n",
    "        running_sum = 0\n",
    "\n",
    "        # Process each chunk of headlines and accumulate sentiment scores\n",
    "        for headline in headline_chunks:\n",
    "            result = self.sentiment_pipeline(headline)[0]\n",
    "\n",
    "            label = result['label']\n",
    "            score = result['score']\n",
    "\n",
    "            if label == 'NEGATIVE':\n",
    "                score = -1 * score\n",
    "\n",
    "            running_sum += score\n",
    "\n",
    "        # Compute the average sentiment score across all headlines\n",
    "        return running_sum / len(headlines)"
   ]
  },
  {
   "cell_type": "code",
   "execution_count": 12,
   "id": "HSLv1fYrne-Y",
   "metadata": {
    "executionInfo": {
     "elapsed": 13,
     "status": "ok",
     "timestamp": 1701500572658,
     "user": {
      "displayName": "Kishore S",
      "userId": "00960257451938731255"
     },
     "user_tz": 300
    },
    "id": "HSLv1fYrne-Y"
   },
   "outputs": [],
   "source": [
    "from textblob import TextBlob\n",
    "\n",
    "class TextBlobSentimentAnalyzer(SentimentAnalyzer):\n",
    "    \"\"\"\n",
    "    Sentiment analyzer using the TextBlob library.\n",
    "    \"\"\"\n",
    "\n",
    "    def __init__(self):\n",
    "        pass\n",
    "\n",
    "    def get_sentiment_scores(self, headlines) -> float:\n",
    "        \"\"\"\n",
    "        Compute sentiment scores for a text using the TextBlob library.\n",
    "\n",
    "        Parameters:\n",
    "            headlines (str): Text for sentiment analysis.\n",
    "\n",
    "        Returns:\n",
    "            float: Sentiment score computed based on the provided text.\n",
    "        \"\"\"\n",
    "        \n",
    "        # Create a TextBlob object from the provided text\n",
    "        text_blob = TextBlob(headlines)\n",
    "\n",
    "        # Retrieve the sentiment polarity score\n",
    "        sentiment_score = text_blob.sentiment.polarity\n",
    "\n",
    "        return sentiment_score"
   ]
  },
  {
   "cell_type": "code",
   "execution_count": 13,
   "id": "-KSqru0ImuC6",
   "metadata": {
    "executionInfo": {
     "elapsed": 9,
     "status": "ok",
     "timestamp": 1701500572658,
     "user": {
      "displayName": "Kishore S",
      "userId": "00960257451938731255"
     },
     "user_tz": 300
    },
    "id": "-KSqru0ImuC6"
   },
   "outputs": [],
   "source": [
    "class CustomSentimentAnalyzer1(SentimentAnalyzer):\n",
    "    \"\"\"\n",
    "    Custom trained sentiment analyzer for sentiment analysis.\n",
    "\n",
    "    Attributes:\n",
    "        max_words (int): Maximum number of words to tokenize.\n",
    "        max_sequence_length (int): Maximum sequence length for padding.\n",
    "        model: The pre-trained sentiment analysis model.\n",
    "\n",
    "    Methods:\n",
    "        inference_cleaning: Pre-processing function for cleaning text data during inference.\n",
    "        preprocess_inference_data: Preprocess inference data for the model.\n",
    "        get_predictions: Get sentiment predictions using the pre-trained model.\n",
    "        get_sentiment_scores: Implementation of the abstract method for sentiment analysis.\n",
    "    \"\"\"\n",
    "\n",
    "    def __init__(self):\n",
    "        self.max_words = 5000  # Maximum number of words to tokenize\n",
    "        self.max_sequence_length = 100  # Maximum sequence length for padding\n",
    "        self.model = None  # Placeholder for the pre-trained model\n",
    "\n",
    "    def inference_cleaning(self, headlines, stop_words):\n",
    "        \"\"\"\n",
    "        Pre-processing function for cleaning text data during inference.\n",
    "\n",
    "        Parameters:\n",
    "            headlines (str): Text data for inference.\n",
    "            stop_words (List[str]): List of stop words.\n",
    "\n",
    "        Returns:\n",
    "            str: Cleaned and pre-processed text data.\n",
    "        \"\"\"\n",
    "        \n",
    "        headlines = ' '.join(x.lower() for x in str(headlines).split())\n",
    "\n",
    "        # Replacing the digits/numbers\n",
    "        headlines = headlines.replace('d', '')\n",
    "\n",
    "        # Removing stop words\n",
    "        headlines = ' '.join(x for x in str(headlines).split() if x not in stop_words)\n",
    "\n",
    "        # Lemmatization\n",
    "        headlines = ' '.join([Word(headlines).lemmatize() for x in str(headlines).split()])\n",
    "\n",
    "        return headlines\n",
    "\n",
    "    def preprocess_inference_data(self, data):\n",
    "        \"\"\"\n",
    "        Preprocess inference data for the model.\n",
    "\n",
    "        Parameters:\n",
    "            data (str): Text data for inference.\n",
    "\n",
    "        Returns:\n",
    "            np.ndarray: Processed and tokenized data ready for model input.\n",
    "        \"\"\"\n",
    "        \n",
    "        stop_words = stopwords.words('english')\n",
    "        data = self.inference_cleaning(data, stop_words)\n",
    "\n",
    "        data = np.array([data])\n",
    "\n",
    "        # Preprocess the text data\n",
    "        tokenizer = Tokenizer(num_words=self.max_words, oov_token='<OOV>')\n",
    "        tokenizer.fit_on_texts(data)\n",
    "\n",
    "        X = tokenizer.texts_to_sequences(data)\n",
    "        X = pad_sequences(X, maxlen=self.max_sequence_length, padding='post', truncating='post')\n",
    "\n",
    "        return X\n",
    "\n",
    "    def get_predictions(self, data):\n",
    "        \"\"\"\n",
    "        Get sentiment predictions using the pre-trained model.\n",
    "\n",
    "        Parameters:\n",
    "            data (str): Text data for inference.\n",
    "\n",
    "        Returns:\n",
    "            np.ndarray: Model predictions for sentiment analysis.\n",
    "        \"\"\"\n",
    "        \n",
    "        self.model = tf.keras.models.load_model('custom_nlp1.keras')\n",
    "\n",
    "        X_test = self.preprocess_inference_data(data)\n",
    "\n",
    "        # Evaluate the model\n",
    "        predictions = self.model.predict(X_test)\n",
    "\n",
    "        return predictions\n",
    "\n",
    "    def get_sentiment_scores(self, headlines) -> float:\n",
    "        \"\"\"\n",
    "        Implementation of the abstract method for sentiment analysis.\n",
    "\n",
    "        Parameters:\n",
    "            headlines (str): Text data for sentiment analysis.\n",
    "\n",
    "        Returns:\n",
    "            float: Sentiment score computed based on the provided text data.\n",
    "        \"\"\"\n",
    "        \n",
    "        return self.get_predictions(headlines)"
   ]
  },
  {
   "cell_type": "code",
   "execution_count": null,
   "id": "9a40e170-a8f2-4885-a9ef-00a0663472b6",
   "metadata": {},
   "outputs": [],
   "source": [
    "from pandas.tseries.holiday import USFederalHolidayCalendar\n",
    "from pandas.tseries.offsets import CustomBusinessDay\n",
    "from sklearn.metrics import mean_squared_error\n",
    "from typing import Optional\n",
    "\n",
    "class MultivariateTimeSeriesModel(object):\n",
    "    \"\"\"\n",
    "    Class for building and training a multivariate time series model.\n",
    "\n",
    "    Attributes:\n",
    "        stock_data (pd.DataFrame): DataFrame containing stock data.\n",
    "        sentiment_analyzer (Optional[SentimentAnalyzer]): Optional sentiment analyzer.\n",
    "        is_custom_sentiment_analyzer (bool): Flag indicating whether a custom sentiment analyzer is used.\n",
    "        model (str): Type of model to use (default is \"GRU\").\n",
    "\n",
    "    Methods:\n",
    "        data_preprocessing: Preprocess stock data for model training.\n",
    "        get_GRU_model: Build a GRU model architecture.\n",
    "        get_LSTM_model: Build an LSTM model architecture.\n",
    "        get_RNN_model: Build an RNN model architecture.\n",
    "        get_model: Get the selected model architecture.\n",
    "        compile_model: Compile the model with optimizer and loss function.\n",
    "        train_model: Train the model on the provided data.\n",
    "        run_inference: Run inference on the model for future predictions.\n",
    "\n",
    "    \"\"\"\n",
    "\n",
    "    def __init__(self, stock_data: pd.DataFrame, model: str = \"GRU\",\n",
    "                 is_custom_sentiment_analyzer: bool = False,\n",
    "                 sentiment_analyzer: Optional[SentimentAnalyzer] = None):\n",
    "        \"\"\"\n",
    "        Constructor to initialize the MultivariateTimeSeriesModel.\n",
    "\n",
    "        Parameters:\n",
    "            stock_data (pd.DataFrame): DataFrame containing stock data.\n",
    "            model (str): Type of model to use (default is \"GRU\").\n",
    "            is_custom_sentiment_analyzer (bool): Flag indicating whether a custom sentiment analyzer is used.\n",
    "            sentiment_analyzer (Optional[SentimentAnalyzer]): Optional sentiment analyzer.\n",
    "\n",
    "        \"\"\"\n",
    "        self.stock_data = stock_data\n",
    "        self.sentiment_analyzer = sentiment_analyzer\n",
    "        self.is_custom_sentiment_analyzer = is_custom_sentiment_analyzer\n",
    "        self.model = model\n",
    "\n",
    "    def data_preprocessing(self, df):\n",
    "        \"\"\"\n",
    "        Preprocess stock data for model training.\n",
    "\n",
    "        Parameters:\n",
    "            df (pd.DataFrame): DataFrame containing stock data.\n",
    "\n",
    "        Returns:\n",
    "            Tuple[np.ndarray, np.ndarray, pd.DataFrame]: Processed input data, output data, and processed DataFrame.\n",
    "\n",
    "        \"\"\"\n",
    "        cols = [\"Date\", \"Open\", \"High\", \"Low\", \"Close\"]\n",
    "\n",
    "        # Include sentiment feature if sentiment analyzer is provided\n",
    "        if self.sentiment_analyzer:\n",
    "            df[\"sentiment\"] = df[\"Headlines\"].progress_apply(self.sentiment_analyzer.get_sentiment_scores)\n",
    "            cols.append(\"sentiment\")\n",
    "\n",
    "        stock_data = df[cols]\n",
    "\n",
    "        # Convert the Date column to DateTime from Object type\n",
    "        set_dates = pd.to_datetime(stock_data['Date'])\n",
    "        set_dates.head()\n",
    "\n",
    "        # Extract the required features, omitting the volume if sentiment analyzer is used\n",
    "        if self.sentiment_analyzer:\n",
    "            columns = list(stock_data.columns[1:6])\n",
    "        else:\n",
    "            columns = list(stock_data.columns[1:5])\n",
    "\n",
    "        processed_df = stock_data[columns].astype(float)\n",
    "        processed_df.head()\n",
    "\n",
    "        # Normalize the data using the Standard scaler\n",
    "        self.standard_scaler = StandardScaler()\n",
    "        self.standard_scaler = self.standard_scaler.fit(processed_df)\n",
    "        scaled_training_df = self.standard_scaler.transform(processed_df)\n",
    "\n",
    "        X = []\n",
    "        Y = []\n",
    "\n",
    "        future_no_of_days = 1  # Number of days to predict the future values\n",
    "        past_no_of_days = 14  # Number of days on which the prediction is computed\n",
    "\n",
    "        # Create input sequences and corresponding output values\n",
    "        for i in range(past_no_of_days, len(scaled_training_df) - future_no_of_days + 1):\n",
    "            X.append(scaled_training_df[i - past_no_of_days:i, 0:processed_df.shape[1]])\n",
    "            Y.append(scaled_training_df[i + future_no_of_days - 1:i + future_no_of_days, 0])\n",
    "\n",
    "        X, Y = np.array(X), np.array(Y)\n",
    "\n",
    "        self.X = X\n",
    "\n",
    "        print('X shape: {}'.format(X.shape))\n",
    "        print('Y shape: {}'.format(Y.shape))\n",
    "\n",
    "        return X, Y, processed_df\n",
    "\n",
    "    @staticmethod\n",
    "    def get_GRU_model(X_shape_1, X_shape_2, Y_shape):\n",
    "        \"\"\"\n",
    "        Build a GRU model architecture.\n",
    "\n",
    "        Parameters:\n",
    "            X_shape_1 (int): Shape of the first dimension of input data.\n",
    "            X_shape_2 (int): Shape of the second dimension of input data.\n",
    "            Y_shape (int): Shape of the output data.\n",
    "\n",
    "        Returns:\n",
    "            tf.keras.Sequential: GRU model.\n",
    "\n",
    "        \"\"\"\n",
    "        model = Sequential()\n",
    "        model.add(GRU(64, activation='relu', input_shape=(X_shape_1, X_shape_2), return_sequences=True))\n",
    "        model.add(GRU(32, activation='relu', return_sequences=False))\n",
    "        model.add(Dropout(0.2))\n",
    "        model.add(Dense(Y_shape))\n",
    "\n",
    "        return model\n",
    "\n",
    "    @staticmethod\n",
    "    def get_LSTM_model(X_shape_1, X_shape_2, Y_shape):\n",
    "        \"\"\"\n",
    "        Build an LSTM model architecture.\n",
    "\n",
    "        Parameters:\n",
    "            X_shape_1 (int): Shape of the first dimension of input data.\n",
    "            X_shape_2 (int): Shape of the second dimension of input data.\n",
    "            Y_shape (int): Shape of the output data.\n",
    "\n",
    "        Returns:\n",
    "            tf.keras.Sequential: LSTM model.\n",
    "\n",
    "        \"\"\"\n",
    "        model = Sequential()\n",
    "        model.add(LSTM(64, input_shape=(X_shape_1, X_shape_2), return_sequences=True))\n",
    "        model.add(LSTM(32, return_sequences=False))\n",
    "        model.add(Dropout(0.2))\n",
    "        model.add(Dense(Y_shape))\n",
    "\n",
    "        return model\n",
    "\n",
    "    @staticmethod\n",
    "    def get_RNN_model(X_shape_1, X_shape_2, Y_shape):\n",
    "        \"\"\"\n",
    "        Build an RNN model architecture.\n",
    "\n",
    "        Parameters:\n",
    "            X_shape_1 (int): Shape of the first dimension of input data.\n",
    "            X_shape_2 (int): Shape of the second dimension of input data.\n",
    "            Y_shape (int): Shape of the output data.\n",
    "\n",
    "        Returns:\n",
    "            tf.keras.Sequential: RNN model.\n",
    "\n",
    "        \"\"\"\n",
    "        model = Sequential()\n",
    "        model.add(RNN(64, input_shape=(X_shape_1, X_shape_2), return_sequences=True))\n",
    "        model.add(RNN(32, return_sequences=False))\n",
    "        model.add(Dropout(0.2))\n",
    "        model.add(Dense(Y_shape))\n",
    "\n",
    "        return model\n",
    "\n",
    "    def get_model(self, trainX, trainY):\n",
    "        \"\"\"\n",
    "        Get the selected model architecture.\n",
    "\n",
    "        Parameters:\n",
    "            trainX (np.ndarray): Input training data.\n",
    "            trainY (np.ndarray): Output training data.\n",
    "\n",
    "        Returns:\n",
    "            tf.keras.Sequential: Selected model architecture.\n",
    "\n",
    "        \"\"\"\n",
    "        X_shape_1 = trainX.shape[1]\n",
    "        X_shape_2 = trainX.shape[2]\n",
    "        Y_shape = trainY.shape[1]\n",
    "\n",
    "        if self.model == \"GRU\":\n",
    "            model = self.get_GRU_model(X_shape_1, X_shape_2, Y_shape)\n",
    "        elif self.model == \"LSTM\":\n",
    "            model = self.get_LSTM_model(X_shape_1, X_shape_2, Y_shape)\n",
    "        else:\n",
    "            model = self.get_RNN_model(X_shape_1, X_shape_2, Y_shape)\n",
    "\n",
    "        model.summary()\n",
    "        return model\n",
    "\n",
    "    def compile_model(self, optimizer, loss):\n",
    "        \"\"\"\n",
    "        Compile the model with optimizer and loss function.\n",
    "\n",
    "        Parameters:\n",
    "            optimizer (str): Optimizer for model compilation.\n",
    "            loss (str): Loss function for model compilation.\n",
    "        \"\"\"\n",
    "        self.model.compile(optimizer=optimizer, loss=loss)\n",
    "\n",
    "    def train_model(self):\n",
    "        \"\"\"\n",
    "        Train the model on the provided data.\n",
    "        \"\"\"\n",
    "        trainX, trainY, df_train = self.data_preprocessing(self.stock_data)\n",
    "\n",
    "        self.model = self.get_model(trainX, trainY)\n",
    "        self.compile_model(optimizer=\"adam\", loss=\"mse\")\n",
    "\n",
    "        # Fit the model\n",
    "        history = self.model.fit(trainX, trainY, epochs=10, batch_size=16, validation_split=0.1, verbose=1)\n",
    "\n",
    "        # Plot training and validation loss\n",
    "        plt.figure(figsize=(12, 8))\n",
    "        plt.plot(history.history['loss'], label='Training loss')\n",
    "        plt.plot(history.history['val_loss'], label='Validation loss')\n",
    "        plt.legend()\n",
    "        plt.show()\n",
    "\n",
    "    def run_inference(self, test_df):\n",
    "        \"\"\"\n",
    "        Run inference on the model for future predictions.\n",
    "\n",
    "        Parameters:\n",
    "            test_df (pd.DataFrame): DataFrame containing test data.\n",
    "\n",
    "        Returns:\n",
    "            Tuple[pd.DataFrame, pd.DataFrame]: Original and forecasted stock data.\n",
    "\n",
    "        \"\"\"\n",
    "        us_business_days = CustomBusinessDay(calendar=USFederalHolidayCalendar())\n",
    "\n",
    "        n_past = 90\n",
    "        n_days_for_prediction = 90  # Predict past 15 days\n",
    "\n",
    "        # Convert the Date column to DateTime from Object type\n",
    "        test_set_dates = pd.to_datetime(test_df['Date'])\n",
    "        test_set_dates.head()\n",
    "\n",
    "        # Define prediction period dates\n",
    "        predict_period_dates = pd.date_range(\n",
    "            list(test_set_dates)[-n_past], periods=n_days_for_prediction,\n",
    "            freq=us_business_days\n",
    "        ).tolist()\n",
    "\n",
    "        testX, testY, df_test = self.data_preprocessing(test_df)\n",
    "\n",
    "        # Make prediction\n",
    "        prediction = self.model.predict(testX[-n_days_for_prediction:])  # Shape = (n, 1) where n is n_days_for_prediction\n",
    "\n",
    "        # Predict the future price\n",
    "        prediction_copies = np.repeat(prediction, df_test.shape[1], axis=-1)\n",
    "        y_pred_future = self.standard_scaler.inverse_transform(prediction_copies)[:, 0]\n",
    "\n",
    "        # Convert timestamp to date\n",
    "        forecast_dates = [time_i.date() for time_i in predict_period_dates]\n",
    "\n",
    "        df_forecast = pd.DataFrame({'Date': np.array(forecast_dates), 'Close': y_pred_future})\n",
    "        df_forecast['Date'] = pd.to_datetime(df_forecast['Date'])\n",
    "\n",
    "        original = test_df[['Date', 'Close']]\n",
    "        original['Date'] = pd.to_datetime(original['Date'])\n",
    "        original = original.loc[original['Date'] >= df_forecast.Date.min()]  # Selecting data only from 2022 for convenience\n",
    "\n",
    "        mse = mean_squared_error(original[\"Close\"], df_forecast[\"Close\"])\n",
    "        print(f\"Mean Squared Error: {mse}\")\n",
    "\n",
    "        return original, df_forecast"
   ]
  },
  {
   "cell_type": "code",
   "execution_count": 15,
   "id": "HyJCuPe7VPbw",
   "metadata": {
    "colab": {
     "base_uri": "https://localhost:8080/",
     "height": 206
    },
    "executionInfo": {
     "elapsed": 21,
     "status": "ok",
     "timestamp": 1701500591435,
     "user": {
      "displayName": "Kishore S",
      "userId": "00960257451938731255"
     },
     "user_tz": 300
    },
    "id": "HyJCuPe7VPbw",
    "outputId": "22e5f4bf-0c1f-4517-b1bd-fc0f089d3b09"
   },
   "outputs": [
    {
     "data": {
      "text/html": [
       "<div>\n",
       "<style scoped>\n",
       "    .dataframe tbody tr th:only-of-type {\n",
       "        vertical-align: middle;\n",
       "    }\n",
       "\n",
       "    .dataframe tbody tr th {\n",
       "        vertical-align: top;\n",
       "    }\n",
       "\n",
       "    .dataframe thead th {\n",
       "        text-align: right;\n",
       "    }\n",
       "</style>\n",
       "<table border=\"1\" class=\"dataframe\">\n",
       "  <thead>\n",
       "    <tr style=\"text-align: right;\">\n",
       "      <th></th>\n",
       "      <th>Date</th>\n",
       "      <th>Close</th>\n",
       "      <th>Open</th>\n",
       "      <th>High</th>\n",
       "      <th>Low</th>\n",
       "      <th>Volume</th>\n",
       "      <th>Dividends</th>\n",
       "      <th>Stock Splits</th>\n",
       "      <th>Ticker</th>\n",
       "      <th>Headlines</th>\n",
       "    </tr>\n",
       "  </thead>\n",
       "  <tbody>\n",
       "    <tr>\n",
       "      <th>0</th>\n",
       "      <td>2022-11-29</td>\n",
       "      <td>140.385330</td>\n",
       "      <td>143.487983</td>\n",
       "      <td>144.005097</td>\n",
       "      <td>139.569896</td>\n",
       "      <td>83763800</td>\n",
       "      <td>0.0</td>\n",
       "      <td>0.0</td>\n",
       "      <td>AAPL</td>\n",
       "      <td>Stock Market Rally Awaits Fed Chief Powell, Ke...</td>\n",
       "    </tr>\n",
       "    <tr>\n",
       "      <th>1</th>\n",
       "      <td>2022-11-30</td>\n",
       "      <td>147.207169</td>\n",
       "      <td>140.614017</td>\n",
       "      <td>147.893336</td>\n",
       "      <td>139.768751</td>\n",
       "      <td>111380900</td>\n",
       "      <td>0.0</td>\n",
       "      <td>0.0</td>\n",
       "      <td>AAPL</td>\n",
       "      <td>Elon Musk says Apple never considered removing...</td>\n",
       "    </tr>\n",
       "    <tr>\n",
       "      <th>2</th>\n",
       "      <td>2022-12-01</td>\n",
       "      <td>147.485626</td>\n",
       "      <td>147.386191</td>\n",
       "      <td>148.301076</td>\n",
       "      <td>145.795079</td>\n",
       "      <td>71250400</td>\n",
       "      <td>0.0</td>\n",
       "      <td>0.0</td>\n",
       "      <td>AAPL</td>\n",
       "      <td>Coinbase says Apple forced it to remove NFT wa...</td>\n",
       "    </tr>\n",
       "    <tr>\n",
       "      <th>3</th>\n",
       "      <td>2022-12-02</td>\n",
       "      <td>146.988403</td>\n",
       "      <td>145.148696</td>\n",
       "      <td>147.177350</td>\n",
       "      <td>144.840406</td>\n",
       "      <td>65447400</td>\n",
       "      <td>0.0</td>\n",
       "      <td>0.0</td>\n",
       "      <td>AAPL</td>\n",
       "      <td>Weekly Roundup | Apple (AAPL) Dips More Than B...</td>\n",
       "    </tr>\n",
       "    <tr>\n",
       "      <th>4</th>\n",
       "      <td>2022-12-05</td>\n",
       "      <td>145.814972</td>\n",
       "      <td>146.948635</td>\n",
       "      <td>150.081120</td>\n",
       "      <td>144.959752</td>\n",
       "      <td>68826400</td>\n",
       "      <td>0.0</td>\n",
       "      <td>0.0</td>\n",
       "      <td>AAPL</td>\n",
       "      <td>China’s protests made ‘enough of impact on par...</td>\n",
       "    </tr>\n",
       "  </tbody>\n",
       "</table>\n",
       "</div>"
      ],
      "text/plain": [
       "        Date       Close        Open        High         Low     Volume  \\\n",
       "0 2022-11-29  140.385330  143.487983  144.005097  139.569896   83763800   \n",
       "1 2022-11-30  147.207169  140.614017  147.893336  139.768751  111380900   \n",
       "2 2022-12-01  147.485626  147.386191  148.301076  145.795079   71250400   \n",
       "3 2022-12-02  146.988403  145.148696  147.177350  144.840406   65447400   \n",
       "4 2022-12-05  145.814972  146.948635  150.081120  144.959752   68826400   \n",
       "\n",
       "   Dividends  Stock Splits Ticker  \\\n",
       "0        0.0           0.0   AAPL   \n",
       "1        0.0           0.0   AAPL   \n",
       "2        0.0           0.0   AAPL   \n",
       "3        0.0           0.0   AAPL   \n",
       "4        0.0           0.0   AAPL   \n",
       "\n",
       "                                           Headlines  \n",
       "0  Stock Market Rally Awaits Fed Chief Powell, Ke...  \n",
       "1  Elon Musk says Apple never considered removing...  \n",
       "2  Coinbase says Apple forced it to remove NFT wa...  \n",
       "3  Weekly Roundup | Apple (AAPL) Dips More Than B...  \n",
       "4  China’s protests made ‘enough of impact on par...  "
      ]
     },
     "execution_count": 15,
     "metadata": {},
     "output_type": "execute_result"
    }
   ],
   "source": [
    "df.head()"
   ]
  },
  {
   "cell_type": "code",
   "execution_count": 16,
   "id": "CAgJEg5DORlx",
   "metadata": {
    "executionInfo": {
     "elapsed": 560,
     "status": "ok",
     "timestamp": 1701500601022,
     "user": {
      "displayName": "Kishore S",
      "userId": "00960257451938731255"
     },
     "user_tz": 300
    },
    "id": "CAgJEg5DORlx"
   },
   "outputs": [],
   "source": [
    "df.Ticker.unique()\n",
    "\n",
    "train_tickers = [\"AAPL\", \"ABNB\", \"COIN\", \"META\", \"MRNA\", \"NVDA\", \"PLTR\", \"AMZN\", \"TSLA\"]\n",
    "# train_tickers = [\"AAPL\", \"META\", \"AMZN\"]\n",
    "# train_tickers = [\"AAPL\"]\n",
    "test_tickers = [\"GOOG\"]\n",
    "\n",
    "train_df = df[df[\"Ticker\"].isin(train_tickers)]\n",
    "test_df = df[df[\"Ticker\"].isin(test_tickers)]"
   ]
  },
  {
   "cell_type": "code",
   "execution_count": 24,
   "id": "7ALK1_ZLVUox",
   "metadata": {
    "executionInfo": {
     "elapsed": 298,
     "status": "ok",
     "timestamp": 1701500635519,
     "user": {
      "displayName": "Kishore S",
      "userId": "00960257451938731255"
     },
     "user_tz": 300
    },
    "id": "7ALK1_ZLVUox"
   },
   "outputs": [],
   "source": [
    "# RNN without sentiment analysis\n",
    "\n",
    "# mv_ts_model = MultivariateTimeSeriesModel(train_df, model=\"RNN\")\n",
    "\n",
    "# RNN with HuggingFace sentiment analysis\n",
    "\n",
    "# mv_ts_model = MultivariateTimeSeriesModel(train_df, model=\"RNN\", sentiment_analyzer=HuggingFaceSentimentAnalyzer())\n",
    "\n",
    "# RNN with TextBlob sentiment analysis\n",
    "# mv_ts_model = MultivariateTimeSeriesModel(train_df, model=\"RNN\", sentiment_analyzer=TextBlobSentimentAnalyzer())\n",
    "\n",
    "# mv_ts_model = MultivariateTimeSeriesModel(train_df, model=\"RNN\", sentiment_analyzer=CustomSentimentAnalyzer1())\n",
    "\n",
    "# mv_ts_model = MultivariateTimeSeriesModel(train_df, model=\"RNN\", is_custom_sentiment_analyzer=True)"
   ]
  },
  {
   "cell_type": "code",
   "execution_count": 17,
   "id": "6n_iHOoMDjeG",
   "metadata": {
    "colab": {
     "base_uri": "https://localhost:8080/"
    },
    "executionInfo": {
     "elapsed": 1130,
     "status": "ok",
     "timestamp": 1701504402596,
     "user": {
      "displayName": "Kishore S",
      "userId": "00960257451938731255"
     },
     "user_tz": 300
    },
    "id": "6n_iHOoMDjeG",
    "outputId": "bf1ab0a0-4288-4516-ef4e-996f88c9fcfe"
   },
   "outputs": [],
   "source": [
    "# GRU without sentiment analysis\n",
    "\n",
    "# mv_ts_model = MultivariateTimeSeriesModel(train_df, model=\"GRU\")\n",
    "\n",
    "# GRU with HuggingFace sentiment analysis\n",
    "\n",
    "# mv_ts_model = MultivariateTimeSeriesModel(train_df, model=\"GRU\", sentiment_analyzer=HuggingFaceSentimentAnalyzer())\n",
    "\n",
    "# mv_ts_model = MultivariateTimeSeriesModel(train_df, model=\"GRU\", sentiment_analyzer=FinBERTSentimentAnalyzer())\n",
    "\n",
    "# GRU with TextBlob sentiment analysis\n",
    "mv_ts_model = MultivariateTimeSeriesModel(train_df, model=\"GRU\", sentiment_analyzer=TextBlobSentimentAnalyzer())\n",
    "\n",
    "# mv_ts_model = MultivariateTimeSeriesModel(train_df, model=\"GRU\", is_custom_sentiment_analyzer=True)\n",
    "\n",
    "# mv_ts_model = MultivariateTimeSeriesModel(train_df, model=\"GRU\", sentiment_analyzer=CustomSentimentAnalyzer1())"
   ]
  },
  {
   "cell_type": "code",
   "execution_count": 26,
   "id": "cNnXAFkmmNUd",
   "metadata": {
    "colab": {
     "base_uri": "https://localhost:8080/"
    },
    "executionInfo": {
     "elapsed": 1247,
     "status": "ok",
     "timestamp": 1701502002404,
     "user": {
      "displayName": "Kishore S",
      "userId": "00960257451938731255"
     },
     "user_tz": 300
    },
    "id": "cNnXAFkmmNUd",
    "outputId": "c1d5e115-653f-4263-be8f-3582825547f4"
   },
   "outputs": [],
   "source": [
    "# LSTM without sentiment analysis\n",
    "\n",
    "# mv_ts_model = MultivariateTimeSeriesModel(train_df, model=\"LSTM\")\n",
    "\n",
    "# LSTM with HuggingFace sentiment analysis\n",
    "\n",
    "# mv_ts_model = MultivariateTimeSeriesModel(train_df, model=\"LSTM\", sentiment_analyzer=HuggingFaceSentimentAnalyzer())\n",
    "\n",
    "# LSTM with TextBlob sentiment analysis\n",
    "# mv_ts_model = MultivariateTimeSeriesModel(train_df, model=\"LSTM\", sentiment_analyzer=TextBlobSentimentAnalyzer())\n",
    "\n",
    "# mv_ts_model = MultivariateTimeSeriesModel(train_df, model=\"LSTM\", is_custom_sentiment_analyzer=True)"
   ]
  },
  {
   "cell_type": "code",
   "execution_count": 18,
   "id": "5dZhaS0kEPY_",
   "metadata": {
    "colab": {
     "base_uri": "https://localhost:8080/",
     "height": 1000
    },
    "executionInfo": {
     "elapsed": 95376,
     "status": "ok",
     "timestamp": 1701504499406,
     "user": {
      "displayName": "Kishore S",
      "userId": "00960257451938731255"
     },
     "user_tz": 300
    },
    "id": "5dZhaS0kEPY_",
    "outputId": "7b2b379c-df32-48b7-b007-d8c08ef4ed71"
   },
   "outputs": [
    {
     "name": "stderr",
     "output_type": "stream",
     "text": [
      "100%|████████████████████████████████████| 2159/2159 [00:00<00:00, 24622.53it/s]"
     ]
    },
    {
     "name": "stdout",
     "output_type": "stream",
     "text": [
      "X shape: (2145, 14, 5)\n",
      "Y shape: (2145, 1)\n",
      "WARNING:tensorflow:Layer gru will not use cuDNN kernels since it doesn't meet the criteria. It will use a generic GPU kernel as fallback when running on GPU.\n"
     ]
    },
    {
     "name": "stderr",
     "output_type": "stream",
     "text": [
      "\n",
      "/var/folders/h6/k8vv50fn5sl3snld_mq4dwf00000gn/T/ipykernel_21675/799181638.py:31: SettingWithCopyWarning: \n",
      "A value is trying to be set on a copy of a slice from a DataFrame.\n",
      "Try using .loc[row_indexer,col_indexer] = value instead\n",
      "\n",
      "See the caveats in the documentation: https://pandas.pydata.org/pandas-docs/stable/user_guide/indexing.html#returning-a-view-versus-a-copy\n",
      "  df[\"sentiment\"] = df[\"Headlines\"].progress_apply(self.sentiment_analyzer.get_sentiment_scores)\n"
     ]
    },
    {
     "name": "stdout",
     "output_type": "stream",
     "text": [
      "WARNING:tensorflow:Layer gru_1 will not use cuDNN kernels since it doesn't meet the criteria. It will use a generic GPU kernel as fallback when running on GPU.\n",
      "Model: \"sequential\"\n",
      "_________________________________________________________________\n",
      " Layer (type)                Output Shape              Param #   \n",
      "=================================================================\n",
      " gru (GRU)                   (None, 14, 64)            13632     \n",
      "                                                                 \n",
      " gru_1 (GRU)                 (None, 32)                9408      \n",
      "                                                                 \n",
      " dropout (Dropout)           (None, 32)                0         \n",
      "                                                                 \n",
      " dense (Dense)               (None, 1)                 33        \n",
      "                                                                 \n",
      "=================================================================\n",
      "Total params: 23073 (90.13 KB)\n",
      "Trainable params: 23073 (90.13 KB)\n",
      "Non-trainable params: 0 (0.00 Byte)\n",
      "_________________________________________________________________\n",
      "Epoch 1/10\n",
      "121/121 [==============================] - 60s 450ms/step - loss: 0.1357 - val_loss: 0.0082\n",
      "Epoch 2/10\n",
      "121/121 [==============================] - 49s 406ms/step - loss: 0.0392 - val_loss: 0.0107\n",
      "Epoch 3/10\n",
      "121/121 [==============================] - 48s 395ms/step - loss: 0.0266 - val_loss: 0.0067\n",
      "Epoch 4/10\n",
      "121/121 [==============================] - 47s 393ms/step - loss: 0.0344 - val_loss: 0.0147\n",
      "Epoch 5/10\n",
      "121/121 [==============================] - 47s 389ms/step - loss: 0.0287 - val_loss: 0.0059\n",
      "Epoch 6/10\n",
      "121/121 [==============================] - 47s 391ms/step - loss: 0.0259 - val_loss: 0.0084\n",
      "Epoch 7/10\n",
      "121/121 [==============================] - 47s 389ms/step - loss: 0.0261 - val_loss: 0.0074\n",
      "Epoch 8/10\n",
      "121/121 [==============================] - 47s 389ms/step - loss: 0.0239 - val_loss: 0.0154\n",
      "Epoch 9/10\n",
      "121/121 [==============================] - 47s 388ms/step - loss: 0.0277 - val_loss: 0.0122\n",
      "Epoch 10/10\n",
      "121/121 [==============================] - 47s 388ms/step - loss: 0.0245 - val_loss: 0.0142\n"
     ]
    },
    {
     "data": {
      "image/png": "[encoded data removed]",
      "text/plain": [
       "<Figure size 1200x800 with 1 Axes>"
      ]
     },
     "metadata": {},
     "output_type": "display_data"
    }
   ],
   "source": [
    "mv_ts_model.train_model()"
   ]
  },
  {
   "cell_type": "code",
   "execution_count": 19,
   "id": "Cw5AM789ERwU",
   "metadata": {
    "colab": {
     "base_uri": "https://localhost:8080/"
    },
    "executionInfo": {
     "elapsed": 272,
     "status": "ok",
     "timestamp": 1701504499651,
     "user": {
      "displayName": "Kishore S",
      "userId": "00960257451938731255"
     },
     "user_tz": 300
    },
    "id": "Cw5AM789ERwU",
    "outputId": "1f148044-b4e4-4069-9653-d540b6c1a5a1"
   },
   "outputs": [
    {
     "name": "stderr",
     "output_type": "stream",
     "text": [
      "100%|██████████████████████████████████████| 241/241 [00:00<00:00, 19487.33it/s]\n",
      "/var/folders/h6/k8vv50fn5sl3snld_mq4dwf00000gn/T/ipykernel_21675/799181638.py:31: SettingWithCopyWarning: \n",
      "A value is trying to be set on a copy of a slice from a DataFrame.\n",
      "Try using .loc[row_indexer,col_indexer] = value instead\n",
      "\n",
      "See the caveats in the documentation: https://pandas.pydata.org/pandas-docs/stable/user_guide/indexing.html#returning-a-view-versus-a-copy\n",
      "  df[\"sentiment\"] = df[\"Headlines\"].progress_apply(self.sentiment_analyzer.get_sentiment_scores)\n"
     ]
    },
    {
     "name": "stdout",
     "output_type": "stream",
     "text": [
      "X shape: (227, 14, 5)\n",
      "Y shape: (227, 1)\n",
      "3/3 [==============================] - 3s 765ms/step\n",
      "Mean Squared Error: 14.886343242718269\n"
     ]
    },
    {
     "name": "stderr",
     "output_type": "stream",
     "text": [
      "/var/folders/h6/k8vv50fn5sl3snld_mq4dwf00000gn/T/ipykernel_21675/799181638.py:174: SettingWithCopyWarning: \n",
      "A value is trying to be set on a copy of a slice from a DataFrame.\n",
      "Try using .loc[row_indexer,col_indexer] = value instead\n",
      "\n",
      "See the caveats in the documentation: https://pandas.pydata.org/pandas-docs/stable/user_guide/indexing.html#returning-a-view-versus-a-copy\n",
      "  original['Date']=pd.to_datetime(original['Date'])\n"
     ]
    }
   ],
   "source": [
    "y_true, y_pred = mv_ts_model.run_inference(test_df)"
   ]
  },
  {
   "cell_type": "code",
   "execution_count": null,
   "id": "At_zplcWcfBA",
   "metadata": {
    "colab": {
     "base_uri": "https://localhost:8080/",
     "height": 1000
    },
    "executionInfo": {
     "elapsed": 145030,
     "status": "ok",
     "timestamp": 1701504644671,
     "user": {
      "displayName": "Kishore S",
      "userId": "00960257451938731255"
     },
     "user_tz": 300
    },
    "id": "At_zplcWcfBA",
    "outputId": "8492d123-4b2e-42fa-fd53-f7e5b6bfc438"
   },
   "outputs": [],
   "source": [
    "mv_ts_model = MultivariateTimeSeriesModel(train_df, model=\"GRU\")\n",
    "\n",
    "mv_ts_model.train_model()"
   ]
  },
  {
   "cell_type": "code",
   "execution_count": null,
   "id": "UQ5qmj6ycn6i",
   "metadata": {
    "colab": {
     "base_uri": "https://localhost:8080/"
    },
    "executionInfo": {
     "elapsed": 726,
     "status": "ok",
     "timestamp": 1701504645362,
     "user": {
      "displayName": "Kishore S",
      "userId": "00960257451938731255"
     },
     "user_tz": 300
    },
    "id": "UQ5qmj6ycn6i",
    "outputId": "975a4128-5a8c-4218-8929-761a306210f9"
   },
   "outputs": [],
   "source": [
    "y_true_without_sent, y_pred_without_sent = mv_ts_model.run_inference(test_df)"
   ]
  },
  {
   "cell_type": "code",
   "execution_count": null,
   "id": "i5t7IgQ-dA48",
   "metadata": {
    "colab": {
     "base_uri": "https://localhost:8080/",
     "height": 718
    },
    "executionInfo": {
     "elapsed": 996,
     "status": "ok",
     "timestamp": 1701504646346,
     "user": {
      "displayName": "Kishore S",
      "userId": "00960257451938731255"
     },
     "user_tz": 300
    },
    "id": "i5t7IgQ-dA48",
    "outputId": "7fd44bfa-268b-4092-ba95-a06750af06bf"
   },
   "outputs": [],
   "source": [
    "plt.figure(figsize=(12,8))\n",
    "\n",
    "# sns.lineplot(data=y_pred, x='Date', y='Close', label=\"Predicted Stock Price with sentiment\")\n",
    "sns.lineplot(data=y_pred_without_sent, x='Date', y='Close', label=\"Predicted Stock Price without sentiment\")\n",
    "sns.lineplot(data=y_true, x='Date', y='Close', label=\"Actual Stock Price\")\n",
    "\n",
    "plt.xlabel(\"Date\")\n",
    "plt.ylabel(\"Closing Price\")\n",
    "plt.title(\"Google, Inc Stock Price Inference\")\n",
    "\n",
    "plt.show()"
   ]
  },
  {
   "cell_type": "code",
   "execution_count": null,
   "id": "VsouySzHjllX",
   "metadata": {
    "colab": {
     "base_uri": "https://localhost:8080/",
     "height": 607
    },
    "executionInfo": {
     "elapsed": 891,
     "status": "ok",
     "timestamp": 1701504647221,
     "user": {
      "displayName": "Kishore S",
      "userId": "00960257451938731255"
     },
     "user_tz": 300
    },
    "id": "VsouySzHjllX",
    "outputId": "64de5025-3ccc-4793-eddb-2a05a93d3a25"
   },
   "outputs": [],
   "source": [
    "import matplotlib.pyplot as plt\n",
    "import seaborn as sns  # Assuming you are using seaborn for plotting\n",
    "\n",
    "plt.figure(figsize=(12, 6))\n",
    "\n",
    "# Create subplot with 1 row and 2 columns, and select the first column\n",
    "plt.subplot(1, 2, 1)\n",
    "\n",
    "# Plot the first line\n",
    "sns.lineplot(data=y_true, x='Date', y='Close', label=\"Actual Stock Price\")\n",
    "sns.lineplot(data=y_pred_without_sent, x='Date', y='Close', label=\"Predicted Stock Price without sentiment\")\n",
    "plt.xlabel(\"Date\")\n",
    "plt.ylabel(\"Closing Price\")\n",
    "plt.title(\"Predicted Stock Price without sentiment\")\n",
    "\n",
    "plt.xticks(rotation=45)\n",
    "\n",
    "# Move to the second column\n",
    "plt.subplot(1, 2, 2)\n",
    "\n",
    "# Plot the second line\n",
    "sns.lineplot(data=y_true, x='Date', y='Close', label=\"Actual Stock Price\")\n",
    "sns.lineplot(data=y_pred, x='Date', y='Close', label=\"Predicted Stock Price with sentiment\")\n",
    "plt.xlabel(\"Date\")\n",
    "plt.ylabel(\"Closing Price\")\n",
    "plt.title(\"Actual Stock Price\")\n",
    "\n",
    "plt.xticks(rotation=45)\n",
    "\n",
    "# Adjust layout for better spacing\n",
    "plt.tight_layout()\n",
    "\n",
    "# Show the plot\n",
    "plt.show()\n"
   ]
  },
  {
   "cell_type": "code",
   "execution_count": null,
   "id": "_Gr8mhc-QS4Y",
   "metadata": {
    "id": "_Gr8mhc-QS4Y"
   },
   "outputs": [],
   "source": []
  }
 ],
 "metadata": {
  "accelerator": "GPU",
  "colab": {
   "gpuType": "T4",
   "provenance": []
  },
  "kernelspec": {
   "display_name": "Python 3 (ipykernel)",
   "language": "python",
   "name": "python3"
  },
  "language_info": {
   "codemirror_mode": {
    "name": "ipython",
    "version": 3
   },
   "file_extension": ".py",
   "mimetype": "text/x-python",
   "name": "python",
   "nbconvert_exporter": "python",
   "pygments_lexer": "ipython3",
   "version": "3.10.12"
  }
 },
 "nbformat": 4,
 "nbformat_minor": 5
}
